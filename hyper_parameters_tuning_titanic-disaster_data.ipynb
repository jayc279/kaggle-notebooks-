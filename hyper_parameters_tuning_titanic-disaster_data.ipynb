{
 "cells": [
  {
   "cell_type": "code",
   "execution_count": null,
   "metadata": {
    "jupyter": {
     "source_hidden": true
    }
   },
   "outputs": [],
   "source": [
    "# from google.colab import drive\n",
    "# drive.mount('/content/gdrive', force_remount=True)\n",
    "# !pip install -q kaggle\n",
    "# !ls ~/.kaggle/kaggle.json\n",
    "# !ls gdrive/MyDrive/colab_work/kaggle.json\n",
    "\n",
    "# !mkdir -p ~/.kaggle\n",
    "# !cp gdrive/MyDrive/colab_work/kaggle.json ~/.kaggle/\n",
    "# !chmod 600 ~/.kaggle/kaggle.json\n"
   ]
  },
  {
   "cell_type": "markdown",
   "metadata": {},
   "source": [
    "## Neural Networks Deep Learning Hyperparameters search on Titanic Disaster dataset"
   ]
  },
  {
   "cell_type": "markdown",
   "metadata": {},
   "source": [
    "@misc{omalley2019kerastuner\n",
    ",     title        = {KerasTuner}\n",
    ",     author       = {O'Malley, Tom and Bursztein, Elie and Long, James and Chollet, Fran\\c{c}ois and Jin, Haifeng and Invernizzi, Luca and others}\n",
    ",     year         = {2019}\n",
    ",     howpublished = {https://github.com/keras-team/keras-tuner}\n",
    "}"
   ]
  },
  {
   "cell_type": "markdown",
   "metadata": {},
   "source": [
    "{cite}`omalley2019kerastuner,\n",
    "title:KerasTuner,\n",
    "author:O'Malley, Tom and Bursztein, Elie and Long, James and Chollet, Fran\\c{c}ois and Jin, Haifeng and Invernizzi, Luca and others,\n",
    "year:2019,\n",
    "howpublished:https://github.com/keras-team/keras-tunerqiime"
   ]
  },
  {
   "cell_type": "markdown",
   "metadata": {},
   "source": [
    "### [Notebook on Kaggle](https://www.kaggle.com/code/jayyanamandala/neural-networks-deep-learning-hyperparameters-sear)"
   ]
  },
  {
   "cell_type": "markdown",
   "metadata": {},
   "source": [
    "## import packages"
   ]
  },
  {
   "cell_type": "code",
   "execution_count": 23,
   "metadata": {
    "id": "En5gBHrSJ-lU"
   },
   "outputs": [],
   "source": [
    "import numpy as np\n",
    "import pandas as pd\n",
    "import math\n",
    "import os\n",
    "import gc\n",
    "import re\n",
    "import inspect\n",
    "import matplotlib.pyplot as plt\n",
    "import seaborn as sns\n",
    "\n",
    "from math import floor\n",
    "from math import ceil\n",
    "\n",
    "import warnings\n",
    "warnings.filterwarnings('ignore')\n",
    "pd.set_option('display.max_columns', None)"
   ]
  },
  {
   "cell_type": "code",
   "execution_count": 24,
   "metadata": {
    "id": "Evs1xONSKQkv"
   },
   "outputs": [],
   "source": [
    "from sklearn.model_selection import train_test_split\n",
    "from sklearn.model_selection import GridSearchCV, RandomizedSearchCV\n",
    "from sklearn.preprocessing import StandardScaler\n",
    "from sklearn.preprocessing import LabelEncoder\n",
    "from sklearn.model_selection import train_test_split\n",
    "from sklearn.model_selection import cross_val_score"
   ]
  },
  {
   "cell_type": "code",
   "execution_count": 25,
   "metadata": {},
   "outputs": [],
   "source": [
    "import tensorflow as tf\n",
    "import tensorflow.keras as keras\n",
    "\n",
    "from keras.layers import Dense, Dropout, Flatten, BatchNormalization, Flatten, Input\n",
    "from keras.models import Sequential\n",
    "from keras.optimizers import Adadelta, Adagrad, Adam, Adamax, Nadam, SGD, RMSprop, Ftrl\n",
    "from tensorflow.keras.wrappers.scikit_learn import KerasClassifier, KerasRegressor\n",
    "\n",
    "from keras.callbacks import EarlyStopping, ModelCheckpoint\n",
    "from keras.layers import LeakyReLU, ReLU, ELU, PReLU\n",
    "from keras.constraints import MaxNorm\n",
    "from keras.initializers import glorot_uniform, he_uniform, glorot_normal, he_normal\n",
    "from keras.initializers import uniform, normal, zero\n"
   ]
  },
  {
   "cell_type": "markdown",
   "metadata": {},
   "source": [
    "### TPU - GPU setup"
   ]
  },
  {
   "cell_type": "code",
   "execution_count": 26,
   "metadata": {},
   "outputs": [],
   "source": [
    "# Detect TPU\n",
    "def tpu_setup():\n",
    "    try:\n",
    "        tpu = tf.distribute_cluster_resolver.TPUClusterResolver()\n",
    "        print('detected: ', tpu.master());\n",
    "    except ValueError as e:\n",
    "        print('Error: no TPU: ', e)\n",
    "        tpu = None\n",
    "\n",
    "    if tpu:\n",
    "        tf.config.experimental_connect_to_cluster(tpu)\n",
    "        tf.tpu.experimental.initialize_tpu_system(tpu)\n",
    "        strategy = tf.distribute.experimental.TPUStrategy(tpu)\n",
    "    else:\n",
    "        strategy = tf.distribute.get_strategy()\n",
    "\n",
    "    return strategy\n"
   ]
  },
  {
   "cell_type": "code",
   "execution_count": 27,
   "metadata": {},
   "outputs": [],
   "source": [
    "def gpu_setup():\n",
    "    # Detect GPUs, return appropriate strategy\n",
    "    gpus = tf.config.experimental.list_physical_devices('GPU')\n",
    "    \n",
    "    if gpus:\n",
    "        try:\n",
    "            # setup up GPU memory growth as True for each GPU\n",
    "            for gpu in gpus:\n",
    "                tf.config.experimental.set_memory_growth(gpu, True)\n",
    "            strategy = tf.distribute.MirroredStrategy()\n",
    "            print(f'using: {len(gpus)}')\n",
    "        except:\n",
    "            strategy = tf.distribute.get_strategy()\n",
    "            \n",
    "        return strategy\n"
   ]
  },
  {
   "cell_type": "code",
   "execution_count": 28,
   "metadata": {},
   "outputs": [],
   "source": [
    "# Setting TPU or GPU strategy for this session\n",
    "# strategy = tpu_setup()\n",
    "# strategy = gpu_setup()\n",
    "# print('Replicas in strategy: ', replicas)                 # object has no attribute 'num_replicas_in_sync'\n",
    "# !nvidia-smi"
   ]
  },
  {
   "cell_type": "code",
   "execution_count": 29,
   "metadata": {},
   "outputs": [],
   "source": [
    "# function to clear model and garbage collector\n",
    "def clear_bags(model):\n",
    "  del model\n",
    "  gc.collect()\n",
    "\n",
    "def print_null(DF:pd.core.frame.DataFrame):\n",
    "    print(DF.isnull().sum())\n"
   ]
  },
  {
   "cell_type": "markdown",
   "metadata": {},
   "source": [
    "### load and clean Titanic Disaster dataset"
   ]
  },
  {
   "cell_type": "markdown",
   "metadata": {},
   "source": [
    "load Ttitanic Disaster train and test data. you will see we have:  \n",
    "for training: 891 rows and 12 columns  \n",
    "for testing: 418 rows and 11 columns (does not include `Survived` column)"
   ]
  },
  {
   "cell_type": "code",
   "execution_count": 59,
   "metadata": {},
   "outputs": [
    {
     "name": "stdout",
     "output_type": "stream",
     "text": [
      "(891, 12) (418, 11)\n"
     ]
    }
   ],
   "source": [
    "train_df = pd.read_csv('../datasets/guru/train.csv')\n",
    "test_df = pd.read_csv('../datasets/guru/test.csv')\n",
    "print(train_df.shape, test_df.shape)"
   ]
  },
  {
   "cell_type": "markdown",
   "metadata": {},
   "source": [
    "Split `PassengerId` column from train dataset and create `true` label dataset - y_train  \n",
    "Remove columns that do not add to predictions - columns that do not affect Survival outcomes  \n",
    "Columns like: `PassengerId`, `Name`, `Ticket`, `Fare`  \n",
    "Drop same columns as above from `test` dataset\n",
    "Drop `Survived` since we already created `y_train` dataset\n",
    "\n",
    "For training - we now have a total of `771` rows and `7` columns  \n",
    "For testing  - we now have a total of `355` rows and `7` columns "
   ]
  },
  {
   "cell_type": "code",
   "execution_count": 61,
   "metadata": {},
   "outputs": [],
   "source": [
    "train_df.dropna(subset=['Embarked'], inplace=True)        # drop 2 rows\n",
    "test_df.dropna(subset=['Embarked'], inplace=True)"
   ]
  },
  {
   "cell_type": "code",
   "execution_count": 63,
   "metadata": {},
   "outputs": [
    {
     "data": {
      "text/html": [
       "<div>\n",
       "<style scoped>\n",
       "    .dataframe tbody tr th:only-of-type {\n",
       "        vertical-align: middle;\n",
       "    }\n",
       "\n",
       "    .dataframe tbody tr th {\n",
       "        vertical-align: top;\n",
       "    }\n",
       "\n",
       "    .dataframe thead th {\n",
       "        text-align: right;\n",
       "    }\n",
       "</style>\n",
       "<table border=\"1\" class=\"dataframe\">\n",
       "  <thead>\n",
       "    <tr style=\"text-align: right;\">\n",
       "      <th></th>\n",
       "      <th>PassengerId</th>\n",
       "      <th>Pclass</th>\n",
       "      <th>Name</th>\n",
       "      <th>Sex</th>\n",
       "      <th>Age</th>\n",
       "      <th>SibSp</th>\n",
       "      <th>Parch</th>\n",
       "      <th>Ticket</th>\n",
       "      <th>Fare</th>\n",
       "      <th>Cabin</th>\n",
       "      <th>Embarked</th>\n",
       "    </tr>\n",
       "  </thead>\n",
       "  <tbody>\n",
       "    <tr>\n",
       "      <th>10</th>\n",
       "      <td>902</td>\n",
       "      <td>3</td>\n",
       "      <td>Ilieff, Mr. Ylio</td>\n",
       "      <td>male</td>\n",
       "      <td>NaN</td>\n",
       "      <td>0</td>\n",
       "      <td>0</td>\n",
       "      <td>349220</td>\n",
       "      <td>7.8958</td>\n",
       "      <td>NaN</td>\n",
       "      <td>S</td>\n",
       "    </tr>\n",
       "    <tr>\n",
       "      <th>22</th>\n",
       "      <td>914</td>\n",
       "      <td>1</td>\n",
       "      <td>Flegenheim, Mrs. Alfred (Antoinette)</td>\n",
       "      <td>female</td>\n",
       "      <td>NaN</td>\n",
       "      <td>0</td>\n",
       "      <td>0</td>\n",
       "      <td>PC 17598</td>\n",
       "      <td>31.6833</td>\n",
       "      <td>NaN</td>\n",
       "      <td>S</td>\n",
       "    </tr>\n",
       "    <tr>\n",
       "      <th>29</th>\n",
       "      <td>921</td>\n",
       "      <td>3</td>\n",
       "      <td>Samaan, Mr. Elias</td>\n",
       "      <td>male</td>\n",
       "      <td>NaN</td>\n",
       "      <td>2</td>\n",
       "      <td>0</td>\n",
       "      <td>2662</td>\n",
       "      <td>21.6792</td>\n",
       "      <td>NaN</td>\n",
       "      <td>C</td>\n",
       "    </tr>\n",
       "    <tr>\n",
       "      <th>33</th>\n",
       "      <td>925</td>\n",
       "      <td>3</td>\n",
       "      <td>Johnston, Mrs. Andrew G (Elizabeth Lily\" Watson)\"</td>\n",
       "      <td>female</td>\n",
       "      <td>NaN</td>\n",
       "      <td>1</td>\n",
       "      <td>2</td>\n",
       "      <td>W./C. 6607</td>\n",
       "      <td>23.4500</td>\n",
       "      <td>NaN</td>\n",
       "      <td>S</td>\n",
       "    </tr>\n",
       "    <tr>\n",
       "      <th>36</th>\n",
       "      <td>928</td>\n",
       "      <td>3</td>\n",
       "      <td>Roth, Miss. Sarah A</td>\n",
       "      <td>female</td>\n",
       "      <td>NaN</td>\n",
       "      <td>0</td>\n",
       "      <td>0</td>\n",
       "      <td>342712</td>\n",
       "      <td>8.0500</td>\n",
       "      <td>NaN</td>\n",
       "      <td>S</td>\n",
       "    </tr>\n",
       "    <tr>\n",
       "      <th>...</th>\n",
       "      <td>...</td>\n",
       "      <td>...</td>\n",
       "      <td>...</td>\n",
       "      <td>...</td>\n",
       "      <td>...</td>\n",
       "      <td>...</td>\n",
       "      <td>...</td>\n",
       "      <td>...</td>\n",
       "      <td>...</td>\n",
       "      <td>...</td>\n",
       "      <td>...</td>\n",
       "    </tr>\n",
       "    <tr>\n",
       "      <th>408</th>\n",
       "      <td>1300</td>\n",
       "      <td>3</td>\n",
       "      <td>Riordan, Miss. Johanna Hannah\"\"</td>\n",
       "      <td>female</td>\n",
       "      <td>NaN</td>\n",
       "      <td>0</td>\n",
       "      <td>0</td>\n",
       "      <td>334915</td>\n",
       "      <td>7.7208</td>\n",
       "      <td>NaN</td>\n",
       "      <td>Q</td>\n",
       "    </tr>\n",
       "    <tr>\n",
       "      <th>410</th>\n",
       "      <td>1302</td>\n",
       "      <td>3</td>\n",
       "      <td>Naughton, Miss. Hannah</td>\n",
       "      <td>female</td>\n",
       "      <td>NaN</td>\n",
       "      <td>0</td>\n",
       "      <td>0</td>\n",
       "      <td>365237</td>\n",
       "      <td>7.7500</td>\n",
       "      <td>NaN</td>\n",
       "      <td>Q</td>\n",
       "    </tr>\n",
       "    <tr>\n",
       "      <th>413</th>\n",
       "      <td>1305</td>\n",
       "      <td>3</td>\n",
       "      <td>Spector, Mr. Woolf</td>\n",
       "      <td>male</td>\n",
       "      <td>NaN</td>\n",
       "      <td>0</td>\n",
       "      <td>0</td>\n",
       "      <td>A.5. 3236</td>\n",
       "      <td>8.0500</td>\n",
       "      <td>NaN</td>\n",
       "      <td>S</td>\n",
       "    </tr>\n",
       "    <tr>\n",
       "      <th>416</th>\n",
       "      <td>1308</td>\n",
       "      <td>3</td>\n",
       "      <td>Ware, Mr. Frederick</td>\n",
       "      <td>male</td>\n",
       "      <td>NaN</td>\n",
       "      <td>0</td>\n",
       "      <td>0</td>\n",
       "      <td>359309</td>\n",
       "      <td>8.0500</td>\n",
       "      <td>NaN</td>\n",
       "      <td>S</td>\n",
       "    </tr>\n",
       "    <tr>\n",
       "      <th>417</th>\n",
       "      <td>1309</td>\n",
       "      <td>3</td>\n",
       "      <td>Peter, Master. Michael J</td>\n",
       "      <td>male</td>\n",
       "      <td>NaN</td>\n",
       "      <td>1</td>\n",
       "      <td>1</td>\n",
       "      <td>2668</td>\n",
       "      <td>22.3583</td>\n",
       "      <td>NaN</td>\n",
       "      <td>C</td>\n",
       "    </tr>\n",
       "  </tbody>\n",
       "</table>\n",
       "<p>82 rows × 11 columns</p>\n",
       "</div>"
      ],
      "text/plain": [
       "     PassengerId  Pclass                                               Name  \\\n",
       "10           902       3                                   Ilieff, Mr. Ylio   \n",
       "22           914       1               Flegenheim, Mrs. Alfred (Antoinette)   \n",
       "29           921       3                                  Samaan, Mr. Elias   \n",
       "33           925       3  Johnston, Mrs. Andrew G (Elizabeth Lily\" Watson)\"   \n",
       "36           928       3                                Roth, Miss. Sarah A   \n",
       "..           ...     ...                                                ...   \n",
       "408         1300       3                    Riordan, Miss. Johanna Hannah\"\"   \n",
       "410         1302       3                             Naughton, Miss. Hannah   \n",
       "413         1305       3                                 Spector, Mr. Woolf   \n",
       "416         1308       3                                Ware, Mr. Frederick   \n",
       "417         1309       3                           Peter, Master. Michael J   \n",
       "\n",
       "        Sex  Age  SibSp  Parch      Ticket     Fare Cabin Embarked  \n",
       "10     male  NaN      0      0      349220   7.8958   NaN        S  \n",
       "22   female  NaN      0      0    PC 17598  31.6833   NaN        S  \n",
       "29     male  NaN      2      0        2662  21.6792   NaN        C  \n",
       "33   female  NaN      1      2  W./C. 6607  23.4500   NaN        S  \n",
       "36   female  NaN      0      0      342712   8.0500   NaN        S  \n",
       "..      ...  ...    ...    ...         ...      ...   ...      ...  \n",
       "408  female  NaN      0      0      334915   7.7208   NaN        Q  \n",
       "410  female  NaN      0      0      365237   7.7500   NaN        Q  \n",
       "413    male  NaN      0      0   A.5. 3236   8.0500   NaN        S  \n",
       "416    male  NaN      0      0      359309   8.0500   NaN        S  \n",
       "417    male  NaN      1      1        2668  22.3583   NaN        C  \n",
       "\n",
       "[82 rows x 11 columns]"
      ]
     },
     "execution_count": 63,
     "metadata": {},
     "output_type": "execute_result"
    }
   ],
   "source": [
    "train_df[(train_df['Age'].isnull() & train_df['Cabin'].isnull() )]\n",
    "test_df[(test_df['Age'].isnull() & test_df['Cabin'].isnull() )]"
   ]
  },
  {
   "cell_type": "code",
   "execution_count": 64,
   "metadata": {},
   "outputs": [
    {
     "name": "stdout",
     "output_type": "stream",
     "text": [
      "(889, 7) (889,)\n",
      "(418, 7)\n"
     ]
    }
   ],
   "source": [
    "y_train = train_df['Survived']\n",
    "train_df.drop(['PassengerId', 'Survived','Name','Ticket','Fare'], axis=1, inplace=True)\n",
    "print(train_df.shape, y_train.shape)\n",
    "\n",
    "passengerId = test_df['PassengerId']\n",
    "test_df.drop(['PassengerId', 'Name','Ticket','Fare'], axis=1, inplace=True)\n",
    "print(test_df.shape)"
   ]
  },
  {
   "cell_type": "markdown",
   "metadata": {},
   "source": [
    "### column `Age` clean-up"
   ]
  },
  {
   "cell_type": "code",
   "execution_count": 65,
   "metadata": {},
   "outputs": [
    {
     "name": "stdout",
     "output_type": "stream",
     "text": [
      "29.64209269662921 38.0\n",
      "30.272590361445783 39.0\n"
     ]
    }
   ],
   "source": [
    "train_mean_age = train_df['Age'].mean(numeric_only=True)\n",
    "test_mean_age = test_df['Age'].mean(numeric_only=True)\n",
    "train_quant_age = train_df['Age'].quantile(0.75)\n",
    "test_quant_age = test_df['Age'].quantile(0.75)\n",
    "print(train_mean_age, train_quant_age)\n",
    "print(test_mean_age, test_quant_age)\n",
    "\n",
    "ma = train_mean_age\n",
    "mb = train_quant_age\n",
    "if train_mean_age > train_quant_age:\n",
    "    mb = ma\n",
    "    ma = train_quant_age\n",
    "\n",
    "train_df['Age'] = train_df.apply(\n",
    "    lambda row: np.random.randint(ma, mb) if np.isnan(row['Age']) else row['Age'], axis=1\n",
    ")\n",
    "test_df['Age'] = test_df.apply(\n",
    "    lambda row: np.random.randint(ma, mb) if np.isnan(row['Age']) else row['Age'], axis=1\n",
    ")"
   ]
  },
  {
   "cell_type": "code",
   "execution_count": 66,
   "metadata": {},
   "outputs": [],
   "source": [
    "# update solumns 'SibSp' and 'Parch' with '0' entries to 1 \n",
    "# assuming at least one member in party\n",
    "train_df.SibSp = train_df.SibSp.replace({0:1})\n",
    "train_df.Parch = train_df.Parch.replace({0:1})\n",
    "\n",
    "test_df.SibSp = test_df.SibSp.replace({0:1})\n",
    "test_df.Parch = test_df.Parch.replace({0:1})"
   ]
  },
  {
   "cell_type": "markdown",
   "metadata": {},
   "source": [
    "### column `Cabin` clean-up"
   ]
  },
  {
   "cell_type": "code",
   "execution_count": null,
   "metadata": {},
   "outputs": [],
   "source": []
  },
  {
   "cell_type": "code",
   "execution_count": 67,
   "metadata": {},
   "outputs": [
    {
     "name": "stdout",
     "output_type": "stream",
     "text": [
      "['T' 'B' 'E' 'A' 'C' 'D' 'FG' 'F' 'G' 'FE']\n",
      "['T' 'C' 'E' 'G' 'D' 'A' 'B' 'F' 'FG' 'FE']\n"
     ]
    }
   ],
   "source": [
    "# # Regression runs\n",
    "# from sklearn.preprocessing import StandardScaler\n",
    "# from sklearn.preprocessing import LabelEncoder\n",
    "# from sklearn.model_selection import train_test_split\n",
    "# from sklearn.metrics import accuracy_score, confusion_matrix, classification_report, f1_score\n",
    "\n",
    "# fill NaNs in both Train and Test data with 'T' - only Cabin in train dataset not visible in test dataset\n",
    "train_df['Cabin'] = train_df['Cabin'].fillna('T')\n",
    "test_df['Cabin'] = test_df['Cabin'].fillna('T')\n",
    "\n",
    "# compress values in 'Cabin' to a Aplhabet\n",
    "train_df['Cabin'] = train_df['Cabin'].map(lambda x: re.sub(\"\\d+\",\"\", x))\n",
    "train_df['Cabin'] = train_df['Cabin'].map(lambda x: re.sub(\"\\s+\",\"\", x))\n",
    "train_df['Cabin'] = train_df['Cabin'].map(lambda x: re.sub(r'(.)\\1+', r'\\1',x))\n",
    "\n",
    "test_df['Cabin'] = test_df['Cabin'].map(lambda x: re.sub(\"\\d+\",\"\", x))\n",
    "test_df['Cabin'] = test_df['Cabin'].map(lambda x: re.sub(\"\\s+\",\"\", x))\n",
    "test_df['Cabin'] = test_df['Cabin'].map(lambda x: re.sub(r'(.)\\1+', r'\\1',x))\n",
    "\n",
    "print(test_df.Cabin.unique())\n",
    "print(train_df.Cabin.unique())"
   ]
  },
  {
   "cell_type": "markdown",
   "metadata": {},
   "source": [
    "### one-hot encoding of categorical columns"
   ]
  },
  {
   "cell_type": "code",
   "execution_count": 68,
   "metadata": {},
   "outputs": [
    {
     "name": "stdout",
     "output_type": "stream",
     "text": [
      "Train cabin: 10\n",
      "Train embarked: 3\n",
      "\n",
      "Train gender: 2\n",
      "Test gender: 2\n",
      "\n",
      "Test cabin: 10\n",
      "Test embarked: 3\n"
     ]
    }
   ],
   "source": [
    "print('Train cabin:', len(train_df['Cabin'].unique()))\n",
    "print('Train embarked:', len(train_df['Embarked'].unique()))\n",
    "\n",
    "print('\\nTrain gender:', len(train_df['Sex'].unique()))\n",
    "print('Test gender:', len(test_df['Sex'].unique()))\n",
    "\n",
    "print('\\nTest cabin:', len(test_df['Cabin'].unique()))\n",
    "print('Test embarked:', len(test_df['Embarked'].unique()))"
   ]
  },
  {
   "cell_type": "code",
   "execution_count": 69,
   "metadata": {},
   "outputs": [
    {
     "name": "stdout",
     "output_type": "stream",
     "text": [
      "Pclass      0\n",
      "Sex         0\n",
      "Age         0\n",
      "SibSp       0\n",
      "Parch       0\n",
      "Cabin       0\n",
      "Embarked    0\n",
      "dtype: int64\n",
      "Pclass      0\n",
      "Sex         0\n",
      "Age         0\n",
      "SibSp       0\n",
      "Parch       0\n",
      "Cabin       0\n",
      "Embarked    0\n",
      "dtype: int64\n"
     ]
    }
   ],
   "source": [
    "print_null(train_df)\n",
    "print_null(test_df)"
   ]
  },
  {
   "cell_type": "code",
   "execution_count": 70,
   "metadata": {},
   "outputs": [
    {
     "name": "stdout",
     "output_type": "stream",
     "text": [
      "(889, 7) (418, 7)\n",
      "(889, 19) (418, 19)\n"
     ]
    }
   ],
   "source": [
    "print(train_df.shape, test_df.shape)\n",
    "train_df = pd.get_dummies(train_df)\n",
    "\n",
    "test_df = pd.get_dummies(test_df)\n",
    "print(train_df.shape, test_df.shape)"
   ]
  },
  {
   "cell_type": "markdown",
   "metadata": {},
   "source": [
    "one last check to make sure columns in training and test datasets match   \n",
    "if columns do not match we can raise exception or drop the offending columns and continue  \n",
    "**Note** if the number of columns between train and test sets do not match, do not proceed\n",
    "\n",
    "here the code drops mis-matched columns and continues with hyperparameter tuning"
   ]
  },
  {
   "cell_type": "code",
   "execution_count": 71,
   "metadata": {},
   "outputs": [
    {
     "name": "stdout",
     "output_type": "stream",
     "text": [
      "(889, 19) (418, 19) (889,)\n"
     ]
    }
   ],
   "source": [
    "# before split drop columns that don't match between train and test\n",
    "for i in train_df.columns:\n",
    "    # print(f'column:-{i}-')\n",
    "    if i not in test_df.columns:\n",
    "        print(f'column:-{i}- does not exist in test_df')\n",
    "        # train_df.drop(i, inplace=True, axis=1)\n",
    "        raise Exception(f'column:-{i}- does not exist in test_df')\n",
    "    \n",
    "for i in test_df.columns:\n",
    "    # print(f'column:-{i}-')\n",
    "    if i not in train_df.columns:\n",
    "        print(f'column:-{i}- does not exist in train_df')\n",
    "        # test_df.drop(i, inplace=True, axis=1)\n",
    "        raise Exception(f'column:-{i}- does not exist in test_df')\n",
    "\n",
    "print(train_df.shape, test_df.shape, y_train.shape)"
   ]
  },
  {
   "cell_type": "markdown",
   "metadata": {},
   "source": [
    "convert `True` to `1` and `False` to `0`   \n",
    "This is a requirement to process data in Neural Networks"
   ]
  },
  {
   "cell_type": "code",
   "execution_count": 72,
   "metadata": {},
   "outputs": [],
   "source": [
    "# convert True/False to 1 & 0\n",
    "train_df = train_df.replace({True: 1, False: 0})\n",
    "test_df = test_df.replace({True: 1, False: 0})"
   ]
  },
  {
   "cell_type": "markdown",
   "metadata": {},
   "source": [
    "scale data using SkLearn StandardScaler    \n",
    "Please use other scalers if you think it might improve the model\n",
    "\n",
    "we only scale two columns in both train and test datasets  \n",
    "1. Age\n",
    "2. Cabin"
   ]
  },
  {
   "cell_type": "code",
   "execution_count": 73,
   "metadata": {},
   "outputs": [],
   "source": [
    "# sc = StandardScaler()\n",
    "# train_df['Age_scaled'] = sc.fit_transform(train_df[['Age']])\n",
    "# test_df['Age_scaled'] = sc.transform(test_df[['Age']])\n",
    "# train_df.drop(['Age'], inplace=True, axis=1)\n",
    "# test_df.drop(['Age'], inplace=True, axis=1)"
   ]
  },
  {
   "cell_type": "code",
   "execution_count": 74,
   "metadata": {},
   "outputs": [],
   "source": [
    "# train_df.shape, y_train.shape, test_df.shape"
   ]
  },
  {
   "cell_type": "code",
   "execution_count": 75,
   "metadata": {},
   "outputs": [],
   "source": [
    "# # scale 'Cabin' as well \n",
    "# train_df['Cabin_scaled'] = sc.fit_transform(train_df[['Cabin']])\n",
    "# test_df['Cabin_scaled'] = sc.transform(test_df[['Cabin']])\n",
    "# train_df.drop(['Cabin'], inplace=True, axis=1)\n",
    "# test_df.drop(['Cabin'], inplace=True, axis=1)"
   ]
  },
  {
   "cell_type": "code",
   "execution_count": 76,
   "metadata": {},
   "outputs": [],
   "source": [
    "# ## check data types of train and test - except for Age, all should be categorical\n",
    "# train_df.shape, y_train.shape, y_train.shape"
   ]
  },
  {
   "cell_type": "markdown",
   "metadata": {},
   "source": [
    "### scale train and test values to max of each dataframe"
   ]
  },
  {
   "cell_type": "code",
   "execution_count": 77,
   "metadata": {},
   "outputs": [],
   "source": [
    "# scale all values of train_df between 0 amd max value over all columns\n",
    "# train_df.max(axis=0).max()\n",
    "train_df /= train_df.max(axis=0).max()\n",
    "test_df /= test_df.max(axis=0).max()"
   ]
  },
  {
   "cell_type": "markdown",
   "metadata": {},
   "source": [
    "split trainingset into training and validation datasets.  \n",
    "Optimal woule be if we did not have to split training set to create validation dataset\n",
    "\n",
    "print shape to make sure:  \n",
    "1. number of columns match between train and test datasets\n",
    "2. number of rows match between train and validation datasets\n"
   ]
  },
  {
   "cell_type": "code",
   "execution_count": 78,
   "metadata": {},
   "outputs": [],
   "source": [
    "# split train dataset into train and validation datasets\n",
    "# train_df_copy = train_df.copy()\n",
    "train_X, val_X, train_y, val_y = train_test_split(train_df, \n",
    "                                                  y_train, \n",
    "                                                  test_size=0.3, \n",
    "                                                  random_state=42,\n",
    "                                                 shuffle=False)"
   ]
  },
  {
   "cell_type": "code",
   "execution_count": 79,
   "metadata": {},
   "outputs": [
    {
     "name": "stdout",
     "output_type": "stream",
     "text": [
      "(622, 19) (267, 19) (622,) (267,)\n"
     ]
    }
   ],
   "source": [
    "print(train_X.shape, val_X.shape, train_y.shape, val_y.shape)"
   ]
  },
  {
   "cell_type": "markdown",
   "metadata": {},
   "source": [
    "<hr><br>\n",
    "<hr>"
   ]
  },
  {
   "cell_type": "markdown",
   "metadata": {},
   "source": [
    "### Neural Networks - Deep Learning Hyperparameter Tuning"
   ]
  },
  {
   "cell_type": "code",
   "execution_count": 80,
   "metadata": {
    "id": "7ZlhviYSOGGj"
   },
   "outputs": [],
   "source": [
    "seed = 7\n",
    "tf.random.set_seed(seed)\n",
    "\n",
    "# create dictionary to store hyper-parameters\n",
    "hyper_params = dict()"
   ]
  },
  {
   "cell_type": "markdown",
   "metadata": {},
   "source": [
    "Declare defaults to setup up Deep Learning Neural Network to hypertune parameters"
   ]
  },
  {
   "cell_type": "code",
   "execution_count": 81,
   "metadata": {},
   "outputs": [
    {
     "name": "stdout",
     "output_type": "stream",
     "text": [
      "def_neurons:          608\n",
      "def_num_layers:         4\n",
      "def_batch:             32\n",
      "def_epoch:            100\n"
     ]
    }
   ],
   "source": [
    "def_batch = 32\n",
    "def_epoch = 100\n",
    "def_num_layers = 4\n",
    "def_dropout = 0.2\n",
    "def_neurons = math.ceil(train_X.shape[1] * def_batch)\n",
    "\n",
    "print(\n",
    "    f\"{'def_neurons:':<15}{def_neurons:>10}\",\n",
    "    f\"{'def_num_layers:':<15}{def_num_layers:>10}\",\n",
    "    f\"{'def_batch:':<15}{def_batch:>10}\",\n",
    "    f\"{'def_epoch:':<15}{def_epoch:>10}\",\n",
    "    sep='\\n'\n",
    ")\n"
   ]
  },
  {
   "cell_type": "markdown",
   "metadata": {
    "id": "ULu0N86PVIaG"
   },
   "source": [
    "### **create Deep Learning Neural Netowrk model to Tune hyper-parameters**"
   ]
  },
  {
   "cell_type": "code",
   "execution_count": 82,
   "metadata": {},
   "outputs": [],
   "source": [
    "# default values to setup a Keras model\n",
    "hyper_params['learning_rate']     , best_learning_rate       = None, None  # 0.001\n",
    "hyper_params['momentum']          , best_momentum            = None, None  # 0.1\n",
    "hyper_params['init_mode']         , best_init_mode           = None, None # 'he_normal'\n",
    "hyper_params['activation']        , best_activation          = 'relu', 'relu'\n",
    "hyper_params['dropout']           , best_dropout             = None, None  # 0.2\n",
    "hyper_params['weight_constraint'] , best_weight_constraint   = None, None  # 4.0\n",
    "hyper_params['neurons']           , best_neurons             = def_neurons, def_neurons  # 256\n",
    "hyper_params['optimizer']         , best_optimizer           = 'Adam', 'Adam'  # 'Adam'\n",
    "hyper_params['epochs']            , best_epoch_num           = def_epoch, def_epoch\n",
    "hyper_params['batch_size']        , best_batch_size          = def_batch, def_batch\n",
    "hyper_params['num_hidden_layers'] , best_num_hidden_layers   = 3, 3\n",
    "\n",
    "# input dataframe\n",
    "inputdf=train_df         # define the dataframe to use for input_shape - Neural Networks only need number of features\n"
   ]
  },
  {
   "cell_type": "code",
   "execution_count": 83,
   "metadata": {},
   "outputs": [],
   "source": [
    "def create_hyper_model(lr=best_learning_rate,\n",
    "                       momentum=best_momentum,\n",
    "                       init_mode=best_init_mode,\n",
    "                       activation=best_activation,\n",
    "                       dropout=best_dropout,\n",
    "                       weight_constraint=best_weight_constraint,\n",
    "                       neurons=best_neurons,\n",
    "                       optimizer=best_optimizer,\n",
    "                       num_hidden_layers=best_num_hidden_layers,\n",
    "                      inputdf=inputdf):\n",
    "    \n",
    "    # clear model session and recreate - \n",
    "    # according to Keras docs works for a functional model\n",
    "    keras.backend.clear_session()\n",
    "    dense_dict = inspect.signature(Dense)\n",
    "    dropout_dict = inspect.signature(Dropout)\n",
    "    batch_norm_dict = inspect.signature(BatchNormalization)\n",
    "    \n",
    "    ###################################################\n",
    "    # get defaults for hyper-search parameter values\n",
    "    ###################################################\n",
    "    # ValueError: Unknown initializer: 'glorot_uniform'. \n",
    "    # Please ensure this object is passed to the `custom_objects` argument.\n",
    "    if init_mode is None:\n",
    "        k = 'kernel_initializer'\n",
    "        # val = str(dense_dict.parameters[k]).split('=')[1]\n",
    "        init_mode = str(dense_dict.parameters[k]).split('=')[1] \n",
    "        init_mode = 'glorot_normal'\n",
    "\n",
    "    if activation is None:\n",
    "        k = 'activation'\n",
    "        # val = str(dense_dict.parameters[k]).split('=')[1]\n",
    "        activation = str(dense_dict.parameters[k]).split('=')[1] \n",
    "         \n",
    "    if weight_constraint is None:\n",
    "        k = 'kernel_constraint'\n",
    "        # val = str(dense_dict.parameters[k]).split('=')[1]\n",
    "        # weight_constraint = str(dense_dict.parameters[k]).split('=')[1] \n",
    "        weight_constraint = 4.0\n",
    "\n",
    "    if lr is None:    # learning_rate - optimizer\n",
    "        lr = 0.001\n",
    "    \n",
    "    if momentum is None:\n",
    "        k = 'momentum'\n",
    "        # val = str(dense_dict.parameters[k]).split('=')[1]\n",
    "        momentum = np.float32(str(batch_norm_dict.parameters[k]).split('=')[1])\n",
    "        # momentum = 0.1\n",
    "\n",
    "    if dropout is None:\n",
    "        dropout = 0.2\n",
    "\n",
    "    ###################################################\n",
    "    # function to return a list of layers depending on the \n",
    "    # number asked and number_of_neurons in first layer\n",
    "    ###################################################\n",
    "    def return_num_layers(nn_num=neurons, n_layers=num_hidden_layers):\n",
    "        layers = []\n",
    "\n",
    "        divn = 1 if n_layers <= 1 else (n_layers -1)\n",
    "        # first layer to contain all neurons\n",
    "        first_lyr_units = neurons\n",
    "\n",
    "        # last layer (before output) is:\n",
    "        last_lyr_units = neurons // n_layers\n",
    "        \n",
    "        incr_by = (last_lyr_units - first_lyr_units) / divn\n",
    "        num_neurons = first_lyr_units\n",
    "        \n",
    "        # print(f'num_neurons:{num_neurons} - incr_by:{incr_by}')\n",
    "        for i in range(1, n_layers + 1):\n",
    "            layers.append(round(math.ceil(num_neurons)))\n",
    "            # print(f'layer:{i} - num_neurons:{num_neurons} - layers:{layers}')\n",
    "            num_neurons = num_neurons + incr_by\n",
    "\n",
    "        return layers\n",
    "\n",
    "    \n",
    "    # neurons = math.ceil(neurons)\n",
    "    neurons = math.ceil(inputdf.shape[1] * (best_batch_size / 2) )\n",
    "    num_lyrs = return_num_layers(neurons, num_hidden_layers)\n",
    "    # print('num_lyrs ', num_lyrs)\n",
    "    \n",
    "    ###################################################\n",
    "    # create model\n",
    "    ###################################################\n",
    "    model = Sequential()\n",
    "    # model.add(Input(shape=(inputdf.shape[1],)))   # used in functional\n",
    "\n",
    "    model.add(Dense(num_lyrs[0] * 2, input_shape=(inputdf.shape[1],), \n",
    "                    kernel_initializer=init_mode, activation=activation,\n",
    "                    kernel_constraint=MaxNorm(weight_constraint)))\n",
    "\n",
    "    if momentum > 0.5:\n",
    "        model.add(BatchNormalization(momentum=momentum))\n",
    "\n",
    "    if len(num_lyrs) > 2:\n",
    "        for i in range(1, num_hidden_layers -1):\n",
    "            model.add(Dense(num_lyrs[i -1] * ( i / num_hidden_layers ), \n",
    "                            kernel_initializer=init_mode, activation=activation,\n",
    "                            kernel_constraint=MaxNorm(weight_constraint)))\n",
    "    \n",
    "    # model.add(Dense(neurons//2, kernel_initializer=init_mode, activation=activation,\n",
    "    #               kernel_constraint=MaxNorm(weight_constraint)))\n",
    "\n",
    "    if dropout > 0.1:\n",
    "        model.add(Dropout(dropout))\n",
    "\n",
    "    # model.add(Flatten())\n",
    "    if len(num_lyrs) > 1:\n",
    "        model.add(Dense(num_lyrs[-1], kernel_initializer=init_mode, activation=activation,\n",
    "                        kernel_constraint=MaxNorm(weight_constraint)))\n",
    "    \n",
    "    model.add(Dense(1, kernel_initializer=init_mode, activation='sigmoid'))\n",
    "    ###################################################\n",
    "    \n",
    "    # Compile model\n",
    "    opt=keras.optimizers.get(optimizer)   # opt.__dir__ to know what can be set\n",
    "    opt.learning_rate=lr\n",
    "    model.compile(loss='binary_crossentropy', optimizer=opt, metrics=['accuracy'])\n",
    "    return model"
   ]
  },
  {
   "cell_type": "markdown",
   "metadata": {},
   "source": [
    "### create model (default settings) before hyper-parameter tuning to check current layers and parameters"
   ]
  },
  {
   "cell_type": "code",
   "execution_count": 84,
   "metadata": {},
   "outputs": [
    {
     "name": "stdout",
     "output_type": "stream",
     "text": [
      "Model: \"sequential\"\n",
      "_________________________________________________________________\n",
      " Layer (type)                Output Shape              Param #   \n",
      "=================================================================\n",
      " dense (Dense)               (None, 608)               12160     \n",
      "                                                                 \n",
      " batch_normalization (BatchN  (None, 608)              2432      \n",
      " ormalization)                                                   \n",
      "                                                                 \n",
      " dense_1 (Dense)             (None, 101)               61509     \n",
      "                                                                 \n",
      " dropout (Dropout)           (None, 101)               0         \n",
      "                                                                 \n",
      " dense_2 (Dense)             (None, 101)               10302     \n",
      "                                                                 \n",
      " dense_3 (Dense)             (None, 1)                 102       \n",
      "                                                                 \n",
      "=================================================================\n",
      "Total params: 86,505\n",
      "Trainable params: 85,289\n",
      "Non-trainable params: 1,216\n",
      "_________________________________________________________________\n"
     ]
    }
   ],
   "source": [
    "cvmodel = create_hyper_model()\n",
    "cvmodel.summary()"
   ]
  },
  {
   "cell_type": "markdown",
   "metadata": {},
   "source": [
    "### **Tune hyperparameters**"
   ]
  },
  {
   "cell_type": "markdown",
   "metadata": {},
   "source": [
    "if you have the resources you can tune on as many hyperparmaters as you wish  \n",
    "for this Notebook only tuned on a few with limited sets of inputs fo each parameter"
   ]
  },
  {
   "cell_type": "code",
   "execution_count": 85,
   "metadata": {
    "id": "JyXbIdDkOYNE"
   },
   "outputs": [],
   "source": [
    "clear_bags(cvmodel)\n",
    "# cvmodel = KerasClassifier(build_fn=create_hyper_model, verbose=0)\n",
    "\n",
    "# cvmodel = KerasClassifier(build_fn=create_hyper_model, verbose=0)\n",
    "\n",
    "num_hidden_layers = [2, 3, 4, 5]\n",
    "batch_size=[16, 32, 64]\n",
    "epochs = [30, 50, 70, 90]\n",
    "neurons = [128, 256, 512]\n",
    "\n",
    "# optimizer = ['SGD', 'RMSprop', 'Adagrad', 'Adadelta', 'Adam', 'Adamax', 'Nadam']\n",
    "optimizer = ['SGD', 'RMSprop', 'Adagrad', 'Adam']\n",
    "\n",
    "learn_rate = [0.001, 0.01, 0.1]\n",
    "momentum = [0.0, 0.2, 0.4, 0.6]\n",
    "\n",
    "# init_mode = ['uniform', 'lecun_uniform', 'normal', 'zero', 'glorot_normal', 'glorot_uniform', 'he_normal', 'he_uniform']\n",
    "init_mode = ['glorot_normal', 'glorot_uniform', 'he_normal', 'he_uniform']\n",
    "\n",
    "# activation = ['relu', 'tanh', 'linear', 'selu', 'elu', 'leaky_relu', 'exponential','gelu','mish']\n",
    "activation = ['relu', 'tanh', 'leaky_relu']\n",
    "\n",
    "weight_constraint = [0.1, 1.0, 2.0]\n",
    "dropout_rate = [0.3, 0.5, 0.6, 0.7]\n",
    "\n",
    "cvmodel = KerasClassifier(build_fn=create_hyper_model,\n",
    "                          neurons = neurons,\n",
    "                          num_hidden_layers = num_hidden_layers,\n",
    "                          # optimizer = optimizer,\n",
    "                          # lr = learn_rate,\n",
    "                          # momentum = momentum,\n",
    "                          # init_mode = init_mode,\n",
    "                          # activation = activation,                          \n",
    "                          # weight_constraint = weight_constraint,\n",
    "                          dropout = dropout_rate,\n",
    "                          epochs= epochs,\n",
    "                          batch_size = batch_size,\n",
    "                          inputdf=train_df,\n",
    "                          verbose=0,\n",
    "                          )\n",
    "\n",
    "# create param_grid dictionary\n",
    "param_grid = dict(batch_size=batch_size,\n",
    "                  # optimizer=optimizer,\n",
    "                  # lr=learn_rate,\n",
    "                  neurons=neurons,\n",
    "                  num_hidden_layers = num_hidden_layers,\n",
    "                  # momentum=momentum,\n",
    "                  # init_mode=init_mode,\n",
    "                  # activation=activation,\n",
    "                  # weight_constraint=weight_constraint,\n",
    "                  dropout=dropout_rate,\n",
    "                  epochs=epochs)\n"
   ]
  },
  {
   "cell_type": "code",
   "execution_count": 86,
   "metadata": {
    "colab": {
     "base_uri": "https://localhost:8080/"
    },
    "id": "PDSA1G7ZOdC6",
    "outputId": "031ab1f4-7027-4966-f9a3-b1345e48b9a7"
   },
   "outputs": [
    {
     "data": {
      "text/html": [
       "<style>#sk-container-id-1 {color: black;}#sk-container-id-1 pre{padding: 0;}#sk-container-id-1 div.sk-toggleable {background-color: white;}#sk-container-id-1 label.sk-toggleable__label {cursor: pointer;display: block;width: 100%;margin-bottom: 0;padding: 0.3em;box-sizing: border-box;text-align: center;}#sk-container-id-1 label.sk-toggleable__label-arrow:before {content: \"▸\";float: left;margin-right: 0.25em;color: #696969;}#sk-container-id-1 label.sk-toggleable__label-arrow:hover:before {color: black;}#sk-container-id-1 div.sk-estimator:hover label.sk-toggleable__label-arrow:before {color: black;}#sk-container-id-1 div.sk-toggleable__content {max-height: 0;max-width: 0;overflow: hidden;text-align: left;background-color: #f0f8ff;}#sk-container-id-1 div.sk-toggleable__content pre {margin: 0.2em;color: black;border-radius: 0.25em;background-color: #f0f8ff;}#sk-container-id-1 input.sk-toggleable__control:checked~div.sk-toggleable__content {max-height: 200px;max-width: 100%;overflow: auto;}#sk-container-id-1 input.sk-toggleable__control:checked~label.sk-toggleable__label-arrow:before {content: \"▾\";}#sk-container-id-1 div.sk-estimator input.sk-toggleable__control:checked~label.sk-toggleable__label {background-color: #d4ebff;}#sk-container-id-1 div.sk-label input.sk-toggleable__control:checked~label.sk-toggleable__label {background-color: #d4ebff;}#sk-container-id-1 input.sk-hidden--visually {border: 0;clip: rect(1px 1px 1px 1px);clip: rect(1px, 1px, 1px, 1px);height: 1px;margin: -1px;overflow: hidden;padding: 0;position: absolute;width: 1px;}#sk-container-id-1 div.sk-estimator {font-family: monospace;background-color: #f0f8ff;border: 1px dotted black;border-radius: 0.25em;box-sizing: border-box;margin-bottom: 0.5em;}#sk-container-id-1 div.sk-estimator:hover {background-color: #d4ebff;}#sk-container-id-1 div.sk-parallel-item::after {content: \"\";width: 100%;border-bottom: 1px solid gray;flex-grow: 1;}#sk-container-id-1 div.sk-label:hover label.sk-toggleable__label {background-color: #d4ebff;}#sk-container-id-1 div.sk-serial::before {content: \"\";position: absolute;border-left: 1px solid gray;box-sizing: border-box;top: 0;bottom: 0;left: 50%;z-index: 0;}#sk-container-id-1 div.sk-serial {display: flex;flex-direction: column;align-items: center;background-color: white;padding-right: 0.2em;padding-left: 0.2em;position: relative;}#sk-container-id-1 div.sk-item {position: relative;z-index: 1;}#sk-container-id-1 div.sk-parallel {display: flex;align-items: stretch;justify-content: center;background-color: white;position: relative;}#sk-container-id-1 div.sk-item::before, #sk-container-id-1 div.sk-parallel-item::before {content: \"\";position: absolute;border-left: 1px solid gray;box-sizing: border-box;top: 0;bottom: 0;left: 50%;z-index: -1;}#sk-container-id-1 div.sk-parallel-item {display: flex;flex-direction: column;z-index: 1;position: relative;background-color: white;}#sk-container-id-1 div.sk-parallel-item:first-child::after {align-self: flex-end;width: 50%;}#sk-container-id-1 div.sk-parallel-item:last-child::after {align-self: flex-start;width: 50%;}#sk-container-id-1 div.sk-parallel-item:only-child::after {width: 0;}#sk-container-id-1 div.sk-dashed-wrapped {border: 1px dashed gray;margin: 0 0.4em 0.5em 0.4em;box-sizing: border-box;padding-bottom: 0.4em;background-color: white;}#sk-container-id-1 div.sk-label label {font-family: monospace;font-weight: bold;display: inline-block;line-height: 1.2em;}#sk-container-id-1 div.sk-label-container {text-align: center;}#sk-container-id-1 div.sk-container {/* jupyter's `normalize.less` sets `[hidden] { display: none; }` but bootstrap.min.css set `[hidden] { display: none !important; }` so we also need the `!important` here to be able to override the default hidden behavior on the sphinx rendered scikit-learn.org. See: https://github.com/scikit-learn/scikit-learn/issues/21755 */display: inline-block !important;position: relative;}#sk-container-id-1 div.sk-text-repr-fallback {display: none;}</style><div id=\"sk-container-id-1\" class=\"sk-top-container\"><div class=\"sk-text-repr-fallback\"><pre>GridSearchCV(cv=3,\n",
       "             estimator=&lt;keras.wrappers.scikit_learn.KerasClassifier object at 0x000001AD1E16D880&gt;,\n",
       "             n_jobs=1,\n",
       "             param_grid={&#x27;batch_size&#x27;: [16, 32, 64],\n",
       "                         &#x27;dropout&#x27;: [0.3, 0.5, 0.6, 0.7],\n",
       "                         &#x27;epochs&#x27;: [30, 50, 70, 90], &#x27;neurons&#x27;: [128, 256, 512],\n",
       "                         &#x27;num_hidden_layers&#x27;: [2, 3, 4, 5]})</pre><b>In a Jupyter environment, please rerun this cell to show the HTML representation or trust the notebook. <br />On GitHub, the HTML representation is unable to render, please try loading this page with nbviewer.org.</b></div><div class=\"sk-container\" hidden><div class=\"sk-item sk-dashed-wrapped\"><div class=\"sk-label-container\"><div class=\"sk-label sk-toggleable\"><input class=\"sk-toggleable__control sk-hidden--visually\" id=\"sk-estimator-id-1\" type=\"checkbox\" ><label for=\"sk-estimator-id-1\" class=\"sk-toggleable__label sk-toggleable__label-arrow\">GridSearchCV</label><div class=\"sk-toggleable__content\"><pre>GridSearchCV(cv=3,\n",
       "             estimator=&lt;keras.wrappers.scikit_learn.KerasClassifier object at 0x000001AD1E16D880&gt;,\n",
       "             n_jobs=1,\n",
       "             param_grid={&#x27;batch_size&#x27;: [16, 32, 64],\n",
       "                         &#x27;dropout&#x27;: [0.3, 0.5, 0.6, 0.7],\n",
       "                         &#x27;epochs&#x27;: [30, 50, 70, 90], &#x27;neurons&#x27;: [128, 256, 512],\n",
       "                         &#x27;num_hidden_layers&#x27;: [2, 3, 4, 5]})</pre></div></div></div><div class=\"sk-parallel\"><div class=\"sk-parallel-item\"><div class=\"sk-item\"><div class=\"sk-label-container\"><div class=\"sk-label sk-toggleable\"><input class=\"sk-toggleable__control sk-hidden--visually\" id=\"sk-estimator-id-2\" type=\"checkbox\" ><label for=\"sk-estimator-id-2\" class=\"sk-toggleable__label sk-toggleable__label-arrow\">estimator: KerasClassifier</label><div class=\"sk-toggleable__content\"><pre>&lt;keras.wrappers.scikit_learn.KerasClassifier object at 0x000001AD1E16D880&gt;</pre></div></div></div><div class=\"sk-serial\"><div class=\"sk-item\"><div class=\"sk-estimator sk-toggleable\"><input class=\"sk-toggleable__control sk-hidden--visually\" id=\"sk-estimator-id-3\" type=\"checkbox\" ><label for=\"sk-estimator-id-3\" class=\"sk-toggleable__label sk-toggleable__label-arrow\">KerasClassifier</label><div class=\"sk-toggleable__content\"><pre>&lt;keras.wrappers.scikit_learn.KerasClassifier object at 0x000001AD1E16D880&gt;</pre></div></div></div></div></div></div></div></div></div></div>"
      ],
      "text/plain": [
       "GridSearchCV(cv=3,\n",
       "             estimator=<keras.wrappers.scikit_learn.KerasClassifier object at 0x000001AD1E16D880>,\n",
       "             n_jobs=1,\n",
       "             param_grid={'batch_size': [16, 32, 64],\n",
       "                         'dropout': [0.3, 0.5, 0.6, 0.7],\n",
       "                         'epochs': [30, 50, 70, 90], 'neurons': [128, 256, 512],\n",
       "                         'num_hidden_layers': [2, 3, 4, 5]})"
      ]
     },
     "execution_count": 86,
     "metadata": {},
     "output_type": "execute_result"
    }
   ],
   "source": [
    "# GridSearchCV on all hyper-parameters\n",
    "grid = GridSearchCV(estimator=cvmodel, param_grid=param_grid, n_jobs = 1, cv = 3)\n",
    "grid.fit(train_df,y_train)"
   ]
  },
  {
   "cell_type": "code",
   "execution_count": 87,
   "metadata": {},
   "outputs": [
    {
     "name": "stdout",
     "output_type": "stream",
     "text": [
      "best_fit:0.8335494597752889 best_params:{'batch_size': 32, 'dropout': 0.6, 'epochs': 50, 'neurons': 512, 'num_hidden_layers': 4}\n",
      "mean:0.8088126182556152 - std:0.025284365145728648 - param:{'batch_size': 16, 'dropout': 0.3, 'epochs': 30, 'neurons': 128, 'num_hidden_layers': 2}\n",
      "mean:0.8043080965677897 - std:0.021185533496844506 - param:{'batch_size': 16, 'dropout': 0.3, 'epochs': 30, 'neurons': 128, 'num_hidden_layers': 3}\n",
      "mean:0.8020634253819784 - std:0.025274038848429974 - param:{'batch_size': 16, 'dropout': 0.3, 'epochs': 30, 'neurons': 128, 'num_hidden_layers': 4}\n",
      "mean:0.7919169068336487 - std:0.022977414136208053 - param:{'batch_size': 16, 'dropout': 0.3, 'epochs': 30, 'neurons': 128, 'num_hidden_layers': 5}\n",
      "mean:0.802067220211029 - std:0.02684067132807802 - param:{'batch_size': 16, 'dropout': 0.3, 'epochs': 30, 'neurons': 256, 'num_hidden_layers': 2}\n",
      "mean:0.7986964186032613 - std:0.029369623230626665 - param:{'batch_size': 16, 'dropout': 0.3, 'epochs': 30, 'neurons': 256, 'num_hidden_layers': 3}\n",
      "mean:0.8031933506329855 - std:0.028346475749982995 - param:{'batch_size': 16, 'dropout': 0.3, 'epochs': 30, 'neurons': 256, 'num_hidden_layers': 4}\n",
      "mean:0.7919358809789022 - std:0.027462867797186846 - param:{'batch_size': 16, 'dropout': 0.3, 'epochs': 30, 'neurons': 256, 'num_hidden_layers': 5}\n",
      "mean:0.79645174741745 - std:0.032280624560662725 - param:{'batch_size': 16, 'dropout': 0.3, 'epochs': 30, 'neurons': 512, 'num_hidden_layers': 2}\n",
      "mean:0.7998111844062805 - std:0.022764281827646286 - param:{'batch_size': 16, 'dropout': 0.3, 'epochs': 30, 'neurons': 512, 'num_hidden_layers': 3}\n",
      "mean:0.8009410897890726 - std:0.02680453407631225 - param:{'batch_size': 16, 'dropout': 0.3, 'epochs': 30, 'neurons': 512, 'num_hidden_layers': 4}\n",
      "mean:0.8133019407590231 - std:0.018446897992692418 - param:{'batch_size': 16, 'dropout': 0.3, 'epochs': 30, 'neurons': 512, 'num_hidden_layers': 5}\n",
      "mean:0.8144356608390808 - std:0.02354019500509262 - param:{'batch_size': 16, 'dropout': 0.3, 'epochs': 50, 'neurons': 128, 'num_hidden_layers': 2}\n",
      "mean:0.8099159797032675 - std:0.010821006669878992 - param:{'batch_size': 16, 'dropout': 0.3, 'epochs': 50, 'neurons': 128, 'num_hidden_layers': 3}\n",
      "mean:0.8144015073776245 - std:0.018051055483414288 - param:{'batch_size': 16, 'dropout': 0.3, 'epochs': 50, 'neurons': 128, 'num_hidden_layers': 4}\n",
      "mean:0.8110420902570089 - std:0.015105342239313908 - param:{'batch_size': 16, 'dropout': 0.3, 'epochs': 50, 'neurons': 128, 'num_hidden_layers': 5}\n",
      "mean:0.8155542016029358 - std:0.019617998551246987 - param:{'batch_size': 16, 'dropout': 0.3, 'epochs': 50, 'neurons': 256, 'num_hidden_layers': 2}\n",
      "mean:0.8042891422907511 - std:0.009223022957537947 - param:{'batch_size': 16, 'dropout': 0.3, 'epochs': 50, 'neurons': 256, 'num_hidden_layers': 3}\n",
      "mean:0.8121644258499146 - std:0.01392164524138763 - param:{'batch_size': 16, 'dropout': 0.3, 'epochs': 50, 'neurons': 256, 'num_hidden_layers': 4}\n",
      "mean:0.8009297251701355 - std:0.0250110008607169 - param:{'batch_size': 16, 'dropout': 0.3, 'epochs': 50, 'neurons': 256, 'num_hidden_layers': 5}\n",
      "mean:0.8076826930046082 - std:0.023245678874854233 - param:{'batch_size': 16, 'dropout': 0.3, 'epochs': 50, 'neurons': 512, 'num_hidden_layers': 2}\n",
      "mean:0.8099159598350525 - std:0.011167039241496778 - param:{'batch_size': 16, 'dropout': 0.3, 'epochs': 50, 'neurons': 512, 'num_hidden_layers': 3}\n",
      "mean:0.8177798986434937 - std:0.005258956718158564 - param:{'batch_size': 16, 'dropout': 0.3, 'epochs': 50, 'neurons': 512, 'num_hidden_layers': 4}\n",
      "mean:0.8054038683573405 - std:0.0028687954886415204 - param:{'batch_size': 16, 'dropout': 0.3, 'epochs': 50, 'neurons': 512, 'num_hidden_layers': 5}\n",
      "mean:0.7997998197873434 - std:0.024805724260990925 - param:{'batch_size': 16, 'dropout': 0.3, 'epochs': 70, 'neurons': 128, 'num_hidden_layers': 2}\n",
      "mean:0.8132943511009216 - std:0.01384272060476234 - param:{'batch_size': 16, 'dropout': 0.3, 'epochs': 70, 'neurons': 128, 'num_hidden_layers': 3}\n",
      "mean:0.8065414031346639 - std:0.019771204069057344 - param:{'batch_size': 16, 'dropout': 0.3, 'epochs': 70, 'neurons': 128, 'num_hidden_layers': 4}\n",
      "mean:0.7907756368319193 - std:0.02206999068003589 - param:{'batch_size': 16, 'dropout': 0.3, 'epochs': 70, 'neurons': 128, 'num_hidden_layers': 5}\n",
      "mean:0.8178064425786337 - std:0.022257304067580128 - param:{'batch_size': 16, 'dropout': 0.3, 'epochs': 70, 'neurons': 256, 'num_hidden_layers': 2}\n",
      "mean:0.8155579964319865 - std:0.022125596773812352 - param:{'batch_size': 16, 'dropout': 0.3, 'epochs': 70, 'neurons': 256, 'num_hidden_layers': 3}\n",
      "mean:0.8166651527086893 - std:0.01363110601064275 - param:{'batch_size': 16, 'dropout': 0.3, 'epochs': 70, 'neurons': 256, 'num_hidden_layers': 4}\n",
      "mean:0.8121530413627625 - std:0.006223135115154215 - param:{'batch_size': 16, 'dropout': 0.3, 'epochs': 70, 'neurons': 256, 'num_hidden_layers': 5}\n",
      "mean:0.8065299987792969 - std:0.023731411604743048 - param:{'batch_size': 16, 'dropout': 0.3, 'epochs': 70, 'neurons': 512, 'num_hidden_layers': 2}\n",
      "mean:0.8189060091972351 - std:0.0134868032459654 - param:{'batch_size': 16, 'dropout': 0.3, 'epochs': 70, 'neurons': 512, 'num_hidden_layers': 3}\n",
      "mean:0.820051113764445 - std:0.021854889604985692 - param:{'batch_size': 16, 'dropout': 0.3, 'epochs': 70, 'neurons': 512, 'num_hidden_layers': 4}\n",
      "mean:0.802040676275889 - std:0.010108484730524524 - param:{'batch_size': 16, 'dropout': 0.3, 'epochs': 70, 'neurons': 512, 'num_hidden_layers': 5}\n",
      "mean:0.8166841268539429 - std:0.025915450485842092 - param:{'batch_size': 16, 'dropout': 0.3, 'epochs': 90, 'neurons': 128, 'num_hidden_layers': 2}\n",
      "mean:0.8211696545282999 - std:0.014285734774700977 - param:{'batch_size': 16, 'dropout': 0.3, 'epochs': 90, 'neurons': 128, 'num_hidden_layers': 3}\n",
      "mean:0.8155617912610372 - std:0.02437554048573223 - param:{'batch_size': 16, 'dropout': 0.3, 'epochs': 90, 'neurons': 128, 'num_hidden_layers': 4}\n",
      "mean:0.8076940576235453 - std:0.0294817229259027 - param:{'batch_size': 16, 'dropout': 0.3, 'epochs': 90, 'neurons': 128, 'num_hidden_layers': 5}\n",
      "mean:0.8200587034225464 - std:0.02377664307166507 - param:{'batch_size': 16, 'dropout': 0.3, 'epochs': 90, 'neurons': 256, 'num_hidden_layers': 2}\n",
      "mean:0.822299579779307 - std:0.017196700933616967 - param:{'batch_size': 16, 'dropout': 0.3, 'epochs': 90, 'neurons': 256, 'num_hidden_layers': 3}\n",
      "mean:0.8155542016029358 - std:0.020002097487108614 - param:{'batch_size': 16, 'dropout': 0.3, 'epochs': 90, 'neurons': 256, 'num_hidden_layers': 4}\n",
      "mean:0.8076864878336588 - std:0.024942273096338105 - param:{'batch_size': 16, 'dropout': 0.3, 'epochs': 90, 'neurons': 256, 'num_hidden_layers': 5}\n",
      "mean:0.8144356608390808 - std:0.023701261553793325 - param:{'batch_size': 16, 'dropout': 0.3, 'epochs': 90, 'neurons': 512, 'num_hidden_layers': 2}\n",
      "mean:0.8200587034225464 - std:0.022796379406970973 - param:{'batch_size': 16, 'dropout': 0.3, 'epochs': 90, 'neurons': 512, 'num_hidden_layers': 3}\n",
      "mean:0.8121796250343323 - std:0.02074391895200122 - param:{'batch_size': 16, 'dropout': 0.3, 'epochs': 90, 'neurons': 512, 'num_hidden_layers': 4}\n",
      "mean:0.803185760974884 - std:0.024693390958799452 - param:{'batch_size': 16, 'dropout': 0.3, 'epochs': 90, 'neurons': 512, 'num_hidden_layers': 5}\n",
      "mean:0.8009524742762247 - std:0.033510057968136456 - param:{'batch_size': 16, 'dropout': 0.5, 'epochs': 30, 'neurons': 128, 'num_hidden_layers': 2}\n",
      "mean:0.8088277777036031 - std:0.03388790126688168 - param:{'batch_size': 16, 'dropout': 0.5, 'epochs': 30, 'neurons': 128, 'num_hidden_layers': 3}\n",
      "mean:0.8065641323725382 - std:0.025267703194258365 - param:{'batch_size': 16, 'dropout': 0.5, 'epochs': 30, 'neurons': 128, 'num_hidden_layers': 4}\n",
      "mean:0.785190482934316 - std:0.02863719209662142 - param:{'batch_size': 16, 'dropout': 0.5, 'epochs': 30, 'neurons': 128, 'num_hidden_layers': 5}\n",
      "mean:0.8020937442779541 - std:0.043580008046438024 - param:{'batch_size': 16, 'dropout': 0.5, 'epochs': 30, 'neurons': 256, 'num_hidden_layers': 2}\n",
      "mean:0.8031933307647705 - std:0.030166990227639807 - param:{'batch_size': 16, 'dropout': 0.5, 'epochs': 30, 'neurons': 256, 'num_hidden_layers': 3}\n",
      "mean:0.7975627183914185 - std:0.028754174324303 - param:{'batch_size': 16, 'dropout': 0.5, 'epochs': 30, 'neurons': 256, 'num_hidden_layers': 4}\n",
      "mean:0.799818754196167 - std:0.02913557239960851 - param:{'batch_size': 16, 'dropout': 0.5, 'epochs': 30, 'neurons': 256, 'num_hidden_layers': 5}\n",
      "mean:0.8043156663576762 - std:0.025944297881624143 - param:{'batch_size': 16, 'dropout': 0.5, 'epochs': 30, 'neurons': 512, 'num_hidden_layers': 2}\n",
      "mean:0.8065641323725382 - std:0.025267703194258365 - param:{'batch_size': 16, 'dropout': 0.5, 'epochs': 30, 'neurons': 512, 'num_hidden_layers': 3}\n",
      "mean:0.8054418166478475 - std:0.02726784100681377 - param:{'batch_size': 16, 'dropout': 0.5, 'epochs': 30, 'neurons': 512, 'num_hidden_layers': 4}\n",
      "mean:0.781834880510966 - std:0.03713423169284684 - param:{'batch_size': 16, 'dropout': 0.5, 'epochs': 30, 'neurons': 512, 'num_hidden_layers': 5}\n",
      "mean:0.8099463184674581 - std:0.0300161015646833 - param:{'batch_size': 16, 'dropout': 0.5, 'epochs': 50, 'neurons': 128, 'num_hidden_layers': 2}\n",
      "mean:0.8087822596232096 - std:0.00867172881073045 - param:{'batch_size': 16, 'dropout': 0.5, 'epochs': 50, 'neurons': 128, 'num_hidden_layers': 3}\n",
      "mean:0.8222881952921549 - std:0.010140384740057701 - param:{'batch_size': 16, 'dropout': 0.5, 'epochs': 50, 'neurons': 128, 'num_hidden_layers': 4}\n",
      "mean:0.8267889221509298 - std:0.01084781206553192 - param:{'batch_size': 16, 'dropout': 0.5, 'epochs': 50, 'neurons': 128, 'num_hidden_layers': 5}\n",
      "mean:0.8211772243181864 - std:0.018985366081785807 - param:{'batch_size': 16, 'dropout': 0.5, 'epochs': 50, 'neurons': 256, 'num_hidden_layers': 2}\n",
      "mean:0.8211544950803121 - std:0.009411513770513903 - param:{'batch_size': 16, 'dropout': 0.5, 'epochs': 50, 'neurons': 256, 'num_hidden_layers': 3}\n",
      "mean:0.8189098040262858 - std:0.008138965810936 - param:{'batch_size': 16, 'dropout': 0.5, 'epochs': 50, 'neurons': 256, 'num_hidden_layers': 4}\n",
      "mean:0.8301597038904825 - std:0.008581207688735907 - param:{'batch_size': 16, 'dropout': 0.5, 'epochs': 50, 'neurons': 256, 'num_hidden_layers': 5}\n",
      "mean:0.8133019407590231 - std:0.018446897992692418 - param:{'batch_size': 16, 'dropout': 0.5, 'epochs': 50, 'neurons': 512, 'num_hidden_layers': 2}\n",
      "mean:0.8256514072418213 - std:0.002900967583004836 - param:{'batch_size': 16, 'dropout': 0.5, 'epochs': 50, 'neurons': 512, 'num_hidden_layers': 3}\n",
      "mean:0.8087936639785767 - std:0.016604417083337257 - param:{'batch_size': 16, 'dropout': 0.5, 'epochs': 50, 'neurons': 512, 'num_hidden_layers': 4}\n",
      "mean:0.8132829666137695 - std:0.010256519572733424 - param:{'batch_size': 16, 'dropout': 0.5, 'epochs': 50, 'neurons': 512, 'num_hidden_layers': 5}\n",
      "mean:0.8178026676177979 - std:0.018980045982731415 - param:{'batch_size': 16, 'dropout': 0.5, 'epochs': 70, 'neurons': 128, 'num_hidden_layers': 2}\n",
      "mean:0.8088125983874003 - std:0.027309775206271942 - param:{'batch_size': 16, 'dropout': 0.5, 'epochs': 70, 'neurons': 128, 'num_hidden_layers': 3}\n",
      "mean:0.809934933980306 - std:0.02311192793555046 - param:{'batch_size': 16, 'dropout': 0.5, 'epochs': 70, 'neurons': 128, 'num_hidden_layers': 4}\n",
      "mean:0.8166613578796387 - std:0.009407036252811545 - param:{'batch_size': 16, 'dropout': 0.5, 'epochs': 70, 'neurons': 128, 'num_hidden_layers': 5}\n",
      "mean:0.8200397292772929 - std:0.013635345021735176 - param:{'batch_size': 16, 'dropout': 0.5, 'epochs': 70, 'neurons': 256, 'num_hidden_layers': 2}\n",
      "mean:0.8166689276695251 - std:0.01636617864255466 - param:{'batch_size': 16, 'dropout': 0.5, 'epochs': 70, 'neurons': 256, 'num_hidden_layers': 3}\n",
      "mean:0.8087936639785767 - std:0.018552292673920723 - param:{'batch_size': 16, 'dropout': 0.5, 'epochs': 70, 'neurons': 256, 'num_hidden_layers': 4}\n",
      "mean:0.813290556271871 - std:0.017533781723676083 - param:{'batch_size': 16, 'dropout': 0.5, 'epochs': 70, 'neurons': 256, 'num_hidden_layers': 5}\n",
      "mean:0.8042815526326498 - std:0.019816541062134086 - param:{'batch_size': 16, 'dropout': 0.5, 'epochs': 70, 'neurons': 512, 'num_hidden_layers': 2}\n",
      "mean:0.8144432306289673 - std:0.028839802127016083 - param:{'batch_size': 16, 'dropout': 0.5, 'epochs': 70, 'neurons': 512, 'num_hidden_layers': 3}\n",
      "mean:0.805422862370809 - std:0.021185077242079277 - param:{'batch_size': 16, 'dropout': 0.5, 'epochs': 70, 'neurons': 512, 'num_hidden_layers': 4}\n",
      "mean:0.8133171002070109 - std:0.02836206515833381 - param:{'batch_size': 16, 'dropout': 0.5, 'epochs': 70, 'neurons': 512, 'num_hidden_layers': 5}\n",
      "mean:0.8155617912610372 - std:0.02437554048573223 - param:{'batch_size': 16, 'dropout': 0.5, 'epochs': 90, 'neurons': 128, 'num_hidden_layers': 2}\n",
      "mean:0.8155542016029358 - std:0.019617998551246987 - param:{'batch_size': 16, 'dropout': 0.5, 'epochs': 90, 'neurons': 128, 'num_hidden_layers': 3}\n",
      "mean:0.8211734493573507 - std:0.016458298428475026 - param:{'batch_size': 16, 'dropout': 0.5, 'epochs': 90, 'neurons': 128, 'num_hidden_layers': 4}\n",
      "mean:0.8178064624468485 - std:0.021206942363215603 - param:{'batch_size': 16, 'dropout': 0.5, 'epochs': 90, 'neurons': 128, 'num_hidden_layers': 5}\n",
      "mean:0.8166727224985758 - std:0.016545601499692225 - param:{'batch_size': 16, 'dropout': 0.5, 'epochs': 90, 'neurons': 256, 'num_hidden_layers': 2}\n",
      "mean:0.8177988529205322 - std:0.019026477985427438 - param:{'batch_size': 16, 'dropout': 0.5, 'epochs': 90, 'neurons': 256, 'num_hidden_layers': 3}\n",
      "mean:0.8223185340563456 - std:0.029146878617842892 - param:{'batch_size': 16, 'dropout': 0.5, 'epochs': 90, 'neurons': 256, 'num_hidden_layers': 4}\n",
      "mean:0.81893257300059 - std:0.022130904639274668 - param:{'batch_size': 16, 'dropout': 0.5, 'epochs': 90, 'neurons': 256, 'num_hidden_layers': 5}\n",
      "mean:0.8177988529205322 - std:0.01690909875211272 - param:{'batch_size': 16, 'dropout': 0.5, 'epochs': 90, 'neurons': 512, 'num_hidden_layers': 2}\n",
      "mean:0.8133171200752258 - std:0.02754548490181359 - param:{'batch_size': 16, 'dropout': 0.5, 'epochs': 90, 'neurons': 512, 'num_hidden_layers': 3}\n",
      "mean:0.8200472990671793 - std:0.01766263389081373 - param:{'batch_size': 16, 'dropout': 0.5, 'epochs': 90, 'neurons': 512, 'num_hidden_layers': 4}\n",
      "mean:0.8065717220306396 - std:0.030010757580025946 - param:{'batch_size': 16, 'dropout': 0.5, 'epochs': 90, 'neurons': 512, 'num_hidden_layers': 5}\n",
      "mean:0.8121985793113708 - std:0.03148167278890932 - param:{'batch_size': 16, 'dropout': 0.6, 'epochs': 30, 'neurons': 128, 'num_hidden_layers': 2}\n",
      "mean:0.8189173936843872 - std:0.013594091581949772 - param:{'batch_size': 16, 'dropout': 0.6, 'epochs': 30, 'neurons': 128, 'num_hidden_layers': 3}\n",
      "mean:0.8121758103370667 - std:0.0171805727395868 - param:{'batch_size': 16, 'dropout': 0.6, 'epochs': 30, 'neurons': 128, 'num_hidden_layers': 4}\n",
      "mean:0.8121985594431559 - std:0.0319613929919145 - param:{'batch_size': 16, 'dropout': 0.6, 'epochs': 30, 'neurons': 128, 'num_hidden_layers': 5}\n",
      "mean:0.8088050285975138 - std:0.02073885756233926 - param:{'batch_size': 16, 'dropout': 0.6, 'epochs': 30, 'neurons': 256, 'num_hidden_layers': 2}\n",
      "mean:0.8009410897890726 - std:0.026230652066604375 - param:{'batch_size': 16, 'dropout': 0.6, 'epochs': 30, 'neurons': 256, 'num_hidden_layers': 3}\n",
      "mean:0.7952990929285685 - std:0.02323013404874747 - param:{'batch_size': 16, 'dropout': 0.6, 'epochs': 30, 'neurons': 256, 'num_hidden_layers': 4}\n",
      "mean:0.7885764439900717 - std:0.03553387978950743 - param:{'batch_size': 16, 'dropout': 0.6, 'epochs': 30, 'neurons': 256, 'num_hidden_layers': 5}\n",
      "mean:0.803185760974884 - std:0.02375099116054154 - param:{'batch_size': 16, 'dropout': 0.6, 'epochs': 30, 'neurons': 512, 'num_hidden_layers': 2}\n",
      "mean:0.8133057355880737 - std:0.020546392622369625 - param:{'batch_size': 16, 'dropout': 0.6, 'epochs': 30, 'neurons': 512, 'num_hidden_layers': 3}\n",
      "mean:0.7986812591552734 - std:0.026521585128747627 - param:{'batch_size': 16, 'dropout': 0.6, 'epochs': 30, 'neurons': 512, 'num_hidden_layers': 4}\n",
      "mean:0.7919282913208008 - std:0.020391465944351154 - param:{'batch_size': 16, 'dropout': 0.6, 'epochs': 30, 'neurons': 512, 'num_hidden_layers': 5}\n",
      "mean:0.8189211885134379 - std:0.015375036657152171 - param:{'batch_size': 16, 'dropout': 0.6, 'epochs': 50, 'neurons': 128, 'num_hidden_layers': 2}\n",
      "mean:0.8121644258499146 - std:0.01392164524138763 - param:{'batch_size': 16, 'dropout': 0.6, 'epochs': 50, 'neurons': 128, 'num_hidden_layers': 3}\n",
      "mean:0.8166461984316508 - std:0.0017553661380278487 - param:{'batch_size': 16, 'dropout': 0.6, 'epochs': 50, 'neurons': 128, 'num_hidden_layers': 4}\n",
      "mean:0.8301710685094198 - std:0.015861877791135126 - param:{'batch_size': 16, 'dropout': 0.6, 'epochs': 50, 'neurons': 128, 'num_hidden_layers': 5}\n",
      "mean:0.8222995599110922 - std:0.017416512966957894 - param:{'batch_size': 16, 'dropout': 0.6, 'epochs': 50, 'neurons': 256, 'num_hidden_layers': 2}\n",
      "mean:0.808789849281311 - std:0.010119145691439046 - param:{'batch_size': 16, 'dropout': 0.6, 'epochs': 50, 'neurons': 256, 'num_hidden_layers': 3}\n",
      "mean:0.8222844004631042 - std:0.008144015088926 - param:{'batch_size': 16, 'dropout': 0.6, 'epochs': 50, 'neurons': 256, 'num_hidden_layers': 4}\n",
      "mean:0.8098932107289633 - std:0.011569540603969445 - param:{'batch_size': 16, 'dropout': 0.6, 'epochs': 50, 'neurons': 256, 'num_hidden_layers': 5}\n",
      "mean:0.8099500934282938 - std:0.03253674736806997 - param:{'batch_size': 16, 'dropout': 0.6, 'epochs': 50, 'neurons': 512, 'num_hidden_layers': 2}\n",
      "mean:0.8189135988553365 - std:0.010135067939959516 - param:{'batch_size': 16, 'dropout': 0.6, 'epochs': 50, 'neurons': 512, 'num_hidden_layers': 3}\n",
      "mean:0.8099045952161154 - std:0.012944252224114211 - param:{'batch_size': 16, 'dropout': 0.6, 'epochs': 50, 'neurons': 512, 'num_hidden_layers': 4}\n",
      "mean:0.8222881952921549 - std:0.010864871807962712 - param:{'batch_size': 16, 'dropout': 0.6, 'epochs': 50, 'neurons': 512, 'num_hidden_layers': 5}\n",
      "mean:0.8099197745323181 - std:0.014896790018853688 - param:{'batch_size': 16, 'dropout': 0.6, 'epochs': 70, 'neurons': 128, 'num_hidden_layers': 2}\n",
      "mean:0.8233991662661234 - std:0.008378105635323504 - param:{'batch_size': 16, 'dropout': 0.6, 'epochs': 70, 'neurons': 128, 'num_hidden_layers': 3}\n",
      "mean:0.8031630118687948 - std:0.008538852838529886 - param:{'batch_size': 16, 'dropout': 0.6, 'epochs': 70, 'neurons': 128, 'num_hidden_layers': 4}\n",
      "mean:0.8065337936083475 - std:0.010250170821176843 - param:{'batch_size': 16, 'dropout': 0.6, 'epochs': 70, 'neurons': 128, 'num_hidden_layers': 5}\n",
      "mean:0.8222995599110922 - std:0.017416512966957894 - param:{'batch_size': 16, 'dropout': 0.6, 'epochs': 70, 'neurons': 256, 'num_hidden_layers': 2}\n",
      "mean:0.8144508004188538 - std:0.033074233606741964 - param:{'batch_size': 16, 'dropout': 0.6, 'epochs': 70, 'neurons': 256, 'num_hidden_layers': 3}\n",
      "mean:0.8132678071657816 - std:0.008975192772789192 - param:{'batch_size': 16, 'dropout': 0.6, 'epochs': 70, 'neurons': 256, 'num_hidden_layers': 4}\n",
      "mean:0.8110459049542745 - std:0.014269919519131683 - param:{'batch_size': 16, 'dropout': 0.6, 'epochs': 70, 'neurons': 256, 'num_hidden_layers': 5}\n",
      "mean:0.8189287980397543 - std:0.019623351974317617 - param:{'batch_size': 16, 'dropout': 0.6, 'epochs': 70, 'neurons': 512, 'num_hidden_layers': 2}\n",
      "mean:0.8099387288093567 - std:0.03008389058362527 - param:{'batch_size': 16, 'dropout': 0.6, 'epochs': 70, 'neurons': 512, 'num_hidden_layers': 3}\n",
      "mean:0.8133019606272379 - std:0.01925420184029722 - param:{'batch_size': 16, 'dropout': 0.6, 'epochs': 70, 'neurons': 512, 'num_hidden_layers': 4}\n",
      "mean:0.8087860544522604 - std:0.011263579761315853 - param:{'batch_size': 16, 'dropout': 0.6, 'epochs': 70, 'neurons': 512, 'num_hidden_layers': 5}\n",
      "mean:0.8144356608390808 - std:0.023701261553793325 - param:{'batch_size': 16, 'dropout': 0.6, 'epochs': 90, 'neurons': 128, 'num_hidden_layers': 2}\n",
      "mean:0.8166765371958414 - std:0.02041005318796402 - param:{'batch_size': 16, 'dropout': 0.6, 'epochs': 90, 'neurons': 128, 'num_hidden_layers': 3}\n",
      "mean:0.8279150327046713 - std:0.011725488348993144 - param:{'batch_size': 16, 'dropout': 0.6, 'epochs': 90, 'neurons': 128, 'num_hidden_layers': 4}\n",
      "mean:0.8155731360117594 - std:0.0314870113897207 - param:{'batch_size': 16, 'dropout': 0.6, 'epochs': 90, 'neurons': 128, 'num_hidden_layers': 5}\n",
      "mean:0.8245480259259542 - std:0.01691948647078431 - param:{'batch_size': 16, 'dropout': 0.6, 'epochs': 90, 'neurons': 256, 'num_hidden_layers': 2}\n",
      "mean:0.8178216218948364 - std:0.030973706634838585 - param:{'batch_size': 16, 'dropout': 0.6, 'epochs': 90, 'neurons': 256, 'num_hidden_layers': 3}\n",
      "mean:0.8166841069857279 - std:0.023122469828532298 - param:{'batch_size': 16, 'dropout': 0.6, 'epochs': 90, 'neurons': 256, 'num_hidden_layers': 4}\n",
      "mean:0.8223109642664591 - std:0.024696288523948146 - param:{'batch_size': 16, 'dropout': 0.6, 'epochs': 90, 'neurons': 256, 'num_hidden_layers': 5}\n",
      "mean:0.8121796051661173 - std:0.019612645135432715 - param:{'batch_size': 16, 'dropout': 0.6, 'epochs': 90, 'neurons': 512, 'num_hidden_layers': 2}\n",
      "mean:0.8245480259259542 - std:0.016463630217943823 - param:{'batch_size': 16, 'dropout': 0.6, 'epochs': 90, 'neurons': 512, 'num_hidden_layers': 3}\n",
      "mean:0.8088315526644388 - std:0.036348143274705716 - param:{'batch_size': 16, 'dropout': 0.6, 'epochs': 90, 'neurons': 512, 'num_hidden_layers': 4}\n",
      "mean:0.8189363678296407 - std:0.024690997699390125 - param:{'batch_size': 16, 'dropout': 0.6, 'epochs': 90, 'neurons': 512, 'num_hidden_layers': 5}\n",
      "mean:0.8054455916086832 - std:0.029120103277377747 - param:{'batch_size': 16, 'dropout': 0.7, 'epochs': 30, 'neurons': 128, 'num_hidden_layers': 2}\n",
      "mean:0.8065527677536011 - std:0.020395893548141343 - param:{'batch_size': 16, 'dropout': 0.7, 'epochs': 30, 'neurons': 128, 'num_hidden_layers': 3}\n",
      "mean:0.8088125983874003 - std:0.026171586566336575 - param:{'batch_size': 16, 'dropout': 0.7, 'epochs': 30, 'neurons': 128, 'num_hidden_layers': 4}\n",
      "mean:0.793069581190745 - std:0.028330867331490508 - param:{'batch_size': 16, 'dropout': 0.7, 'epochs': 30, 'neurons': 128, 'num_hidden_layers': 5}\n",
      "mean:0.8144242763519287 - std:0.016447574811365426 - param:{'batch_size': 16, 'dropout': 0.7, 'epochs': 30, 'neurons': 256, 'num_hidden_layers': 2}\n",
      "mean:0.8155427972475687 - std:0.012721593637992667 - param:{'batch_size': 16, 'dropout': 0.7, 'epochs': 30, 'neurons': 256, 'num_hidden_layers': 3}\n",
      "mean:0.8065868814786276 - std:0.03951416786547342 - param:{'batch_size': 16, 'dropout': 0.7, 'epochs': 30, 'neurons': 256, 'num_hidden_layers': 4}\n",
      "mean:0.7930468320846558 - std:0.024528664904281558 - param:{'batch_size': 16, 'dropout': 0.7, 'epochs': 30, 'neurons': 256, 'num_hidden_layers': 5}\n",
      "mean:0.805449386437734 - std:0.03159159768904193 - param:{'batch_size': 16, 'dropout': 0.7, 'epochs': 30, 'neurons': 512, 'num_hidden_layers': 2}\n",
      "mean:0.8110837936401367 - std:0.03783590025780575 - param:{'batch_size': 16, 'dropout': 0.7, 'epochs': 30, 'neurons': 512, 'num_hidden_layers': 3}\n",
      "mean:0.7975778778394064 - std:0.03316236306491894 - param:{'batch_size': 16, 'dropout': 0.7, 'epochs': 30, 'neurons': 512, 'num_hidden_layers': 4}\n",
      "mean:0.7975589235623678 - std:0.02957151984312558 - param:{'batch_size': 16, 'dropout': 0.7, 'epochs': 30, 'neurons': 512, 'num_hidden_layers': 5}\n",
      "mean:0.8166841268539429 - std:0.022791038037306546 - param:{'batch_size': 16, 'dropout': 0.7, 'epochs': 50, 'neurons': 128, 'num_hidden_layers': 2}\n",
      "mean:0.8177836736043295 - std:0.006998228787411795 - param:{'batch_size': 16, 'dropout': 0.7, 'epochs': 50, 'neurons': 128, 'num_hidden_layers': 3}\n",
      "mean:0.8031554222106934 - std:0.018299510517068143 - param:{'batch_size': 16, 'dropout': 0.7, 'epochs': 50, 'neurons': 128, 'num_hidden_layers': 4}\n",
      "mean:0.8245328664779663 - std:0.007008751990778906 - param:{'batch_size': 16, 'dropout': 0.7, 'epochs': 50, 'neurons': 128, 'num_hidden_layers': 5}\n",
      "mean:0.8234332799911499 - std:0.022801723725651285 - param:{'batch_size': 16, 'dropout': 0.7, 'epochs': 50, 'neurons': 256, 'num_hidden_layers': 2}\n",
      "mean:0.8088315526644388 - std:0.03634814327470572 - param:{'batch_size': 16, 'dropout': 0.7, 'epochs': 50, 'neurons': 256, 'num_hidden_layers': 3}\n",
      "mean:0.8132867614428202 - std:0.00855475186039479 - param:{'batch_size': 16, 'dropout': 0.7, 'epochs': 50, 'neurons': 256, 'num_hidden_layers': 4}\n",
      "mean:0.8155352274576823 - std:0.009433324248680264 - param:{'batch_size': 16, 'dropout': 0.7, 'epochs': 50, 'neurons': 256, 'num_hidden_layers': 5}\n",
      "mean:0.8234143257141113 - std:0.011187834459628175 - param:{'batch_size': 16, 'dropout': 0.7, 'epochs': 50, 'neurons': 512, 'num_hidden_layers': 2}\n",
      "mean:0.8245555957158407 - std:0.021217653048384785 - param:{'batch_size': 16, 'dropout': 0.7, 'epochs': 50, 'neurons': 512, 'num_hidden_layers': 3}\n",
      "mean:0.8042815526326498 - std:0.009398775533806938 - param:{'batch_size': 16, 'dropout': 0.7, 'epochs': 50, 'neurons': 512, 'num_hidden_layers': 4}\n",
      "mean:0.8189211885134379 - std:0.014871910283541425 - param:{'batch_size': 16, 'dropout': 0.7, 'epochs': 50, 'neurons': 512, 'num_hidden_layers': 5}\n",
      "mean:0.8222919702529907 - std:0.014932416064865731 - param:{'batch_size': 16, 'dropout': 0.7, 'epochs': 70, 'neurons': 128, 'num_hidden_layers': 2}\n",
      "mean:0.8133246898651123 - std:0.034582485168069436 - param:{'batch_size': 16, 'dropout': 0.7, 'epochs': 70, 'neurons': 128, 'num_hidden_layers': 3}\n",
      "mean:0.8234181006749471 - std:0.014915821447940078 - param:{'batch_size': 16, 'dropout': 0.7, 'epochs': 70, 'neurons': 128, 'num_hidden_layers': 4}\n",
      "mean:0.8031554222106934 - std:0.003910992783177812 - param:{'batch_size': 16, 'dropout': 0.7, 'epochs': 70, 'neurons': 128, 'num_hidden_layers': 5}\n",
      "mean:0.8177836934725443 - std:0.011844118770295156 - param:{'batch_size': 16, 'dropout': 0.7, 'epochs': 70, 'neurons': 256, 'num_hidden_layers': 2}\n",
      "mean:0.8189060290654501 - std:0.01868932862365385 - param:{'batch_size': 16, 'dropout': 0.7, 'epochs': 70, 'neurons': 256, 'num_hidden_layers': 3}\n",
      "mean:0.8076864878336588 - std:0.024167582205091378 - param:{'batch_size': 16, 'dropout': 0.7, 'epochs': 70, 'neurons': 256, 'num_hidden_layers': 4}\n",
      "mean:0.8133095304171244 - std:0.022785681176849353 - param:{'batch_size': 16, 'dropout': 0.7, 'epochs': 70, 'neurons': 256, 'num_hidden_layers': 5}\n",
      "mean:0.8155466119448344 - std:0.016330002957106217 - param:{'batch_size': 16, 'dropout': 0.7, 'epochs': 70, 'neurons': 512, 'num_hidden_layers': 2}\n",
      "mean:0.8189022342363993 - std:0.008765517520032646 - param:{'batch_size': 16, 'dropout': 0.7, 'epochs': 70, 'neurons': 512, 'num_hidden_layers': 3}\n",
      "mean:0.8042967319488525 - std:0.014259407205255679 - param:{'batch_size': 16, 'dropout': 0.7, 'epochs': 70, 'neurons': 512, 'num_hidden_layers': 4}\n",
      "mean:0.809934933980306 - std:0.022780324321023393 - param:{'batch_size': 16, 'dropout': 0.7, 'epochs': 70, 'neurons': 512, 'num_hidden_layers': 5}\n",
      "mean:0.8121833999951681 - std:0.02212027195622352 - param:{'batch_size': 16, 'dropout': 0.7, 'epochs': 90, 'neurons': 128, 'num_hidden_layers': 2}\n",
      "mean:0.8121947844823202 - std:0.029130824633485625 - param:{'batch_size': 16, 'dropout': 0.7, 'epochs': 90, 'neurons': 128, 'num_hidden_layers': 3}\n",
      "mean:0.8166765371958414 - std:0.01845212798606885 - param:{'batch_size': 16, 'dropout': 0.7, 'epochs': 90, 'neurons': 128, 'num_hidden_layers': 4}\n",
      "mean:0.8144356608390808 - std:0.023701261553793325 - param:{'batch_size': 16, 'dropout': 0.7, 'epochs': 90, 'neurons': 128, 'num_hidden_layers': 5}\n",
      "mean:0.8223033547401428 - std:0.019628717709072707 - param:{'batch_size': 16, 'dropout': 0.7, 'epochs': 90, 'neurons': 256, 'num_hidden_layers': 2}\n",
      "mean:0.826800266901652 - std:0.018051101935589845 - param:{'batch_size': 16, 'dropout': 0.7, 'epochs': 90, 'neurons': 256, 'num_hidden_layers': 3}\n",
      "mean:0.8166879018147787 - std:0.02528369050497839 - param:{'batch_size': 16, 'dropout': 0.7, 'epochs': 90, 'neurons': 256, 'num_hidden_layers': 4}\n",
      "mean:0.8189249833424886 - std:0.01719133423490658 - param:{'batch_size': 16, 'dropout': 0.7, 'epochs': 90, 'neurons': 256, 'num_hidden_layers': 5}\n",
      "mean:0.8166879018147787 - std:0.02528369050497839 - param:{'batch_size': 16, 'dropout': 0.7, 'epochs': 90, 'neurons': 512, 'num_hidden_layers': 2}\n",
      "mean:0.8189211885134379 - std:0.014871910283541425 - param:{'batch_size': 16, 'dropout': 0.7, 'epochs': 90, 'neurons': 512, 'num_hidden_layers': 3}\n",
      "mean:0.8223033547401428 - std:0.019628717709072707 - param:{'batch_size': 16, 'dropout': 0.7, 'epochs': 90, 'neurons': 512, 'num_hidden_layers': 4}\n",
      "mean:0.8189287781715393 - std:0.020754015690114886 - param:{'batch_size': 16, 'dropout': 0.7, 'epochs': 90, 'neurons': 512, 'num_hidden_layers': 5}\n",
      "mean:0.799818754196167 - std:0.0277991306322321 - param:{'batch_size': 32, 'dropout': 0.3, 'epochs': 30, 'neurons': 128, 'num_hidden_layers': 2}\n",
      "mean:0.811053474744161 - std:0.01896942660959516 - param:{'batch_size': 32, 'dropout': 0.3, 'epochs': 30, 'neurons': 128, 'num_hidden_layers': 3}\n",
      "mean:0.8076751033465067 - std:0.017771472477454975 - param:{'batch_size': 32, 'dropout': 0.3, 'epochs': 30, 'neurons': 128, 'num_hidden_layers': 4}\n",
      "mean:0.8076864878336588 - std:0.024942273096338105 - param:{'batch_size': 32, 'dropout': 0.3, 'epochs': 30, 'neurons': 128, 'num_hidden_layers': 5}\n",
      "mean:0.7998035947481791 - std:0.018008322165815816 - param:{'batch_size': 32, 'dropout': 0.3, 'epochs': 30, 'neurons': 256, 'num_hidden_layers': 2}\n",
      "mean:0.7930468320846558 - std:0.024528664904281558 - param:{'batch_size': 32, 'dropout': 0.3, 'epochs': 30, 'neurons': 256, 'num_hidden_layers': 3}\n",
      "mean:0.8020482659339905 - std:0.014845192641527132 - param:{'batch_size': 32, 'dropout': 0.3, 'epochs': 30, 'neurons': 256, 'num_hidden_layers': 4}\n",
      "mean:0.7986888488133749 - std:0.02615664876644969 - param:{'batch_size': 32, 'dropout': 0.3, 'epochs': 30, 'neurons': 256, 'num_hidden_layers': 5}\n",
      "mean:0.7952990929285685 - std:0.01630082050080137 - param:{'batch_size': 32, 'dropout': 0.3, 'epochs': 30, 'neurons': 512, 'num_hidden_layers': 2}\n",
      "mean:0.8133095304171244 - std:0.02311720795035799 - param:{'batch_size': 32, 'dropout': 0.3, 'epochs': 30, 'neurons': 512, 'num_hidden_layers': 3}\n",
      "mean:0.8099349538485209 - std:0.02376126237481948 - param:{'batch_size': 32, 'dropout': 0.3, 'epochs': 30, 'neurons': 512, 'num_hidden_layers': 4}\n",
      "mean:0.8088012337684631 - std:0.020414013372442582 - param:{'batch_size': 32, 'dropout': 0.3, 'epochs': 30, 'neurons': 512, 'num_hidden_layers': 5}\n",
      "mean:0.8155655860900879 - std:0.026720006137845535 - param:{'batch_size': 32, 'dropout': 0.3, 'epochs': 50, 'neurons': 128, 'num_hidden_layers': 2}\n",
      "mean:0.814420481522878 - std:0.0162681767041748 - param:{'batch_size': 32, 'dropout': 0.3, 'epochs': 50, 'neurons': 128, 'num_hidden_layers': 3}\n",
      "mean:0.8234332799911499 - std:0.022801723725651285 - param:{'batch_size': 32, 'dropout': 0.3, 'epochs': 50, 'neurons': 128, 'num_hidden_layers': 4}\n",
      "mean:0.816657563050588 - std:0.010259691013917301 - param:{'batch_size': 32, 'dropout': 0.3, 'epochs': 50, 'neurons': 128, 'num_hidden_layers': 5}\n",
      "mean:0.8189249634742737 - std:0.01805484130920037 - param:{'batch_size': 32, 'dropout': 0.3, 'epochs': 50, 'neurons': 256, 'num_hidden_layers': 2}\n",
      "mean:0.8144356608390808 - std:0.023701261553793325 - param:{'batch_size': 32, 'dropout': 0.3, 'epochs': 50, 'neurons': 256, 'num_hidden_layers': 3}\n",
      "mean:0.8268040617307028 - std:0.020381850667181258 - param:{'batch_size': 32, 'dropout': 0.3, 'epochs': 50, 'neurons': 256, 'num_hidden_layers': 4}\n",
      "mean:0.8211658596992493 - std:0.012347293695630413 - param:{'batch_size': 32, 'dropout': 0.3, 'epochs': 50, 'neurons': 256, 'num_hidden_layers': 5}\n",
      "mean:0.825681726137797 - std:0.021969072884202523 - param:{'batch_size': 32, 'dropout': 0.3, 'epochs': 50, 'neurons': 512, 'num_hidden_layers': 2}\n",
      "mean:0.8211961984634399 - std:0.030979014568558037 - param:{'batch_size': 32, 'dropout': 0.3, 'epochs': 50, 'neurons': 512, 'num_hidden_layers': 3}\n",
      "mean:0.8256779313087463 - std:0.019634058842204226 - param:{'batch_size': 32, 'dropout': 0.3, 'epochs': 50, 'neurons': 512, 'num_hidden_layers': 4}\n",
      "mean:0.8177836736043295 - std:0.006998228787411795 - param:{'batch_size': 32, 'dropout': 0.3, 'epochs': 50, 'neurons': 512, 'num_hidden_layers': 5}\n",
      "mean:0.8121758302052816 - std:0.01804462156330082 - param:{'batch_size': 32, 'dropout': 0.3, 'epochs': 70, 'neurons': 128, 'num_hidden_layers': 2}\n",
      "mean:0.814409097035726 - std:0.019195779211384472 - param:{'batch_size': 32, 'dropout': 0.3, 'epochs': 70, 'neurons': 128, 'num_hidden_layers': 3}\n",
      "mean:0.8132943511009216 - std:0.01384272060476234 - param:{'batch_size': 32, 'dropout': 0.3, 'epochs': 70, 'neurons': 128, 'num_hidden_layers': 4}\n",
      "mean:0.8031630317370096 - std:0.01981131994754112 - param:{'batch_size': 32, 'dropout': 0.3, 'epochs': 70, 'neurons': 128, 'num_hidden_layers': 5}\n",
      "mean:0.8155427972475687 - std:0.01661243950128736 - param:{'batch_size': 32, 'dropout': 0.3, 'epochs': 70, 'neurons': 256, 'num_hidden_layers': 2}\n",
      "mean:0.8087822596232096 - std:0.02402894503419113 - param:{'batch_size': 32, 'dropout': 0.3, 'epochs': 70, 'neurons': 256, 'num_hidden_layers': 3}\n",
      "mean:0.8020368814468384 - std:0.015762221934264145 - param:{'batch_size': 32, 'dropout': 0.3, 'epochs': 70, 'neurons': 256, 'num_hidden_layers': 4}\n",
      "mean:0.7964138388633728 - std:0.017349345823096687 - param:{'batch_size': 32, 'dropout': 0.3, 'epochs': 70, 'neurons': 256, 'num_hidden_layers': 5}\n",
      "mean:0.8155352274576823 - std:0.011270872368774353 - param:{'batch_size': 32, 'dropout': 0.3, 'epochs': 70, 'neurons': 512, 'num_hidden_layers': 2}\n",
      "mean:0.814409097035726 - std:0.019195779211384472 - param:{'batch_size': 32, 'dropout': 0.3, 'epochs': 70, 'neurons': 512, 'num_hidden_layers': 3}\n",
      "mean:0.7997808456420898 - std:0.0039059930541422354 - param:{'batch_size': 32, 'dropout': 0.3, 'epochs': 70, 'neurons': 512, 'num_hidden_layers': 4}\n",
      "mean:0.8031743963559469 - std:0.015819627827107437 - param:{'batch_size': 32, 'dropout': 0.3, 'epochs': 70, 'neurons': 512, 'num_hidden_layers': 5}\n",
      "mean:0.8133171200752258 - std:0.02754548490181359 - param:{'batch_size': 32, 'dropout': 0.3, 'epochs': 90, 'neurons': 128, 'num_hidden_layers': 2}\n",
      "mean:0.8166841069857279 - std:0.023122469828532298 - param:{'batch_size': 32, 'dropout': 0.3, 'epochs': 90, 'neurons': 128, 'num_hidden_layers': 3}\n",
      "mean:0.8009448846181234 - std:0.03036163465028811 - param:{'batch_size': 32, 'dropout': 0.3, 'epochs': 90, 'neurons': 128, 'num_hidden_layers': 4}\n",
      "mean:0.7942070762316386 - std:0.03609056129303413 - param:{'batch_size': 32, 'dropout': 0.3, 'epochs': 90, 'neurons': 128, 'num_hidden_layers': 5}\n",
      "mean:0.8088315526644388 - std:0.036348143274705716 - param:{'batch_size': 32, 'dropout': 0.3, 'epochs': 90, 'neurons': 256, 'num_hidden_layers': 2}\n",
      "mean:0.7998528877894083 - std:0.04963576923509725 - param:{'batch_size': 32, 'dropout': 0.3, 'epochs': 90, 'neurons': 256, 'num_hidden_layers': 3}\n",
      "mean:0.8166879216829935 - std:0.02513278392082427 - param:{'batch_size': 32, 'dropout': 0.3, 'epochs': 90, 'neurons': 256, 'num_hidden_layers': 4}\n",
      "mean:0.7975702881813049 - std:0.0284146161728551 - param:{'batch_size': 32, 'dropout': 0.3, 'epochs': 90, 'neurons': 256, 'num_hidden_layers': 5}\n",
      "mean:0.8155655662218729 - std:0.027283580816948847 - param:{'batch_size': 32, 'dropout': 0.3, 'epochs': 90, 'neurons': 512, 'num_hidden_layers': 2}\n",
      "mean:0.8043346206347147 - std:0.038225385750678756 - param:{'batch_size': 32, 'dropout': 0.3, 'epochs': 90, 'neurons': 512, 'num_hidden_layers': 3}\n",
      "mean:0.800963838895162 - std:0.040415705304215295 - param:{'batch_size': 32, 'dropout': 0.3, 'epochs': 90, 'neurons': 512, 'num_hidden_layers': 4}\n",
      "mean:0.7908628384272257 - std:0.05464519153501462 - param:{'batch_size': 32, 'dropout': 0.3, 'epochs': 90, 'neurons': 512, 'num_hidden_layers': 5}\n",
      "mean:0.7987078030904134 - std:0.0366449136081644 - param:{'batch_size': 32, 'dropout': 0.5, 'epochs': 30, 'neurons': 128, 'num_hidden_layers': 2}\n",
      "mean:0.7987115780512491 - std:0.03883182678751763 - param:{'batch_size': 32, 'dropout': 0.5, 'epochs': 30, 'neurons': 128, 'num_hidden_layers': 3}\n",
      "mean:0.8088277578353882 - std:0.03455492259364814 - param:{'batch_size': 32, 'dropout': 0.5, 'epochs': 30, 'neurons': 128, 'num_hidden_layers': 4}\n",
      "mean:0.8088050285975138 - std:0.021811790135772727 - param:{'batch_size': 32, 'dropout': 0.5, 'epochs': 30, 'neurons': 128, 'num_hidden_layers': 5}\n",
      "mean:0.7818159063657125 - std:0.028632665355921495 - param:{'batch_size': 32, 'dropout': 0.5, 'epochs': 30, 'neurons': 256, 'num_hidden_layers': 2}\n",
      "mean:0.7998035947481791 - std:0.023506780754474158 - param:{'batch_size': 32, 'dropout': 0.5, 'epochs': 30, 'neurons': 256, 'num_hidden_layers': 3}\n",
      "mean:0.7964252233505249 - std:0.02480235563902651 - param:{'batch_size': 32, 'dropout': 0.5, 'epochs': 30, 'neurons': 256, 'num_hidden_layers': 4}\n",
      "mean:0.8043232758839926 - std:0.0314402724679154 - param:{'batch_size': 32, 'dropout': 0.5, 'epochs': 30, 'neurons': 256, 'num_hidden_layers': 5}\n",
      "mean:0.7840719421704611 - std:0.0314450766087948 - param:{'batch_size': 32, 'dropout': 0.5, 'epochs': 30, 'neurons': 512, 'num_hidden_layers': 2}\n",
      "mean:0.782926877339681 - std:0.016495047004129373 - param:{'batch_size': 32, 'dropout': 0.5, 'epochs': 30, 'neurons': 512, 'num_hidden_layers': 3}\n",
      "mean:0.7964176336924235 - std:0.027073171607687824 - param:{'batch_size': 32, 'dropout': 0.5, 'epochs': 30, 'neurons': 512, 'num_hidden_layers': 4}\n",
      "mean:0.8031781911849976 - std:0.02351088031083328 - param:{'batch_size': 32, 'dropout': 0.5, 'epochs': 30, 'neurons': 512, 'num_hidden_layers': 5}\n",
      "mean:0.8121833999951681 - std:0.022120271956223524 - param:{'batch_size': 32, 'dropout': 0.5, 'epochs': 50, 'neurons': 128, 'num_hidden_layers': 2}\n",
      "mean:0.8178064425786337 - std:0.022257304067580128 - param:{'batch_size': 32, 'dropout': 0.5, 'epochs': 50, 'neurons': 128, 'num_hidden_layers': 3}\n",
      "mean:0.8189135988553365 - std:0.010135067939959516 - param:{'batch_size': 32, 'dropout': 0.5, 'epochs': 50, 'neurons': 128, 'num_hidden_layers': 4}\n",
      "mean:0.8133019407590231 - std:0.018446897992692418 - param:{'batch_size': 32, 'dropout': 0.5, 'epochs': 50, 'neurons': 128, 'num_hidden_layers': 5}\n",
      "mean:0.8155352075894674 - std:0.007651900836647848 - param:{'batch_size': 32, 'dropout': 0.5, 'epochs': 50, 'neurons': 256, 'num_hidden_layers': 2}\n",
      "mean:0.8234256903330485 - std:0.01804576307784248 - param:{'batch_size': 32, 'dropout': 0.5, 'epochs': 50, 'neurons': 256, 'num_hidden_layers': 3}\n",
      "mean:0.8211696346600851 - std:0.015063486011176927 - param:{'batch_size': 32, 'dropout': 0.5, 'epochs': 50, 'neurons': 256, 'num_hidden_layers': 4}\n",
      "mean:0.8122175335884094 - std:0.0439437167893609 - param:{'batch_size': 32, 'dropout': 0.5, 'epochs': 50, 'neurons': 256, 'num_hidden_layers': 5}\n",
      "mean:0.8223071694374084 - std:0.022136229497991364 - param:{'batch_size': 32, 'dropout': 0.5, 'epochs': 50, 'neurons': 512, 'num_hidden_layers': 2}\n",
      "mean:0.8110496799151102 - std:0.016442227020807037 - param:{'batch_size': 32, 'dropout': 0.5, 'epochs': 50, 'neurons': 512, 'num_hidden_layers': 3}\n",
      "mean:0.8178064425786337 - std:0.022257304067580128 - param:{'batch_size': 32, 'dropout': 0.5, 'epochs': 50, 'neurons': 512, 'num_hidden_layers': 4}\n",
      "mean:0.8234332998593649 - std:0.023133030059384455 - param:{'batch_size': 32, 'dropout': 0.5, 'epochs': 50, 'neurons': 512, 'num_hidden_layers': 5}\n",
      "mean:0.8166916966438293 - std:0.02782563773346874 - param:{'batch_size': 32, 'dropout': 0.5, 'epochs': 70, 'neurons': 128, 'num_hidden_layers': 2}\n",
      "mean:0.8200397292772929 - std:0.019782955396146683 - param:{'batch_size': 32, 'dropout': 0.5, 'epochs': 70, 'neurons': 128, 'num_hidden_layers': 3}\n",
      "mean:0.7986698746681213 - std:0.027746888369878195 - param:{'batch_size': 32, 'dropout': 0.5, 'epochs': 70, 'neurons': 128, 'num_hidden_layers': 4}\n",
      "mean:0.803159217039744 - std:0.010247032795030935 - param:{'batch_size': 32, 'dropout': 0.5, 'epochs': 70, 'neurons': 128, 'num_hidden_layers': 5}\n",
      "mean:0.8121606508890787 - std:0.01342434854597315 - param:{'batch_size': 32, 'dropout': 0.5, 'epochs': 70, 'neurons': 256, 'num_hidden_layers': 2}\n",
      "mean:0.7998149792353312 - std:0.0372988823460024 - param:{'batch_size': 32, 'dropout': 0.5, 'epochs': 70, 'neurons': 256, 'num_hidden_layers': 3}\n",
      "mean:0.7941729625066122 - std:0.023835077627315248 - param:{'batch_size': 32, 'dropout': 0.5, 'epochs': 70, 'neurons': 256, 'num_hidden_layers': 4}\n",
      "mean:0.802040676275889 - std:0.010108484730524524 - param:{'batch_size': 32, 'dropout': 0.5, 'epochs': 70, 'neurons': 256, 'num_hidden_layers': 5}\n",
      "mean:0.8132943511009216 - std:0.01490157216371615 - param:{'batch_size': 32, 'dropout': 0.5, 'epochs': 70, 'neurons': 512, 'num_hidden_layers': 2}\n",
      "mean:0.7930582165718079 - std:0.036522877813590905 - param:{'batch_size': 32, 'dropout': 0.5, 'epochs': 70, 'neurons': 512, 'num_hidden_layers': 3}\n",
      "mean:0.808789849281311 - std:0.018184228983811022 - param:{'batch_size': 32, 'dropout': 0.5, 'epochs': 70, 'neurons': 512, 'num_hidden_layers': 4}\n",
      "mean:0.7964138388633728 - std:0.010880498113264706 - param:{'batch_size': 32, 'dropout': 0.5, 'epochs': 70, 'neurons': 512, 'num_hidden_layers': 5}\n",
      "mean:0.8122061491012573 - std:0.03635349449963871 - param:{'batch_size': 32, 'dropout': 0.5, 'epochs': 90, 'neurons': 128, 'num_hidden_layers': 2}\n",
      "mean:0.8177950580914816 - std:0.01627277294885892 - param:{'batch_size': 32, 'dropout': 0.5, 'epochs': 90, 'neurons': 128, 'num_hidden_layers': 3}\n",
      "mean:0.8133057355880737 - std:0.020546392622369625 - param:{'batch_size': 32, 'dropout': 0.5, 'epochs': 90, 'neurons': 128, 'num_hidden_layers': 4}\n",
      "mean:0.8043346405029297 - std:0.037925642934507064 - param:{'batch_size': 32, 'dropout': 0.5, 'epochs': 90, 'neurons': 128, 'num_hidden_layers': 5}\n",
      "mean:0.8189363678296407 - std:0.024690997699390125 - param:{'batch_size': 32, 'dropout': 0.5, 'epochs': 90, 'neurons': 256, 'num_hidden_layers': 2}\n",
      "mean:0.8077168067296346 - std:0.04268679875063092 - param:{'batch_size': 32, 'dropout': 0.5, 'epochs': 90, 'neurons': 256, 'num_hidden_layers': 3}\n",
      "mean:0.8121871749560038 - std:0.02528950138842871 - param:{'batch_size': 32, 'dropout': 0.5, 'epochs': 90, 'neurons': 256, 'num_hidden_layers': 4}\n",
      "mean:0.7930923302968343 - std:0.04358478604196357 - param:{'batch_size': 32, 'dropout': 0.5, 'epochs': 90, 'neurons': 256, 'num_hidden_layers': 5}\n",
      "mean:0.8009676337242126 - std:0.042676103384649264 - param:{'batch_size': 32, 'dropout': 0.5, 'epochs': 90, 'neurons': 512, 'num_hidden_layers': 2}\n",
      "mean:0.8144545952479044 - std:0.03548456438545144 - param:{'batch_size': 32, 'dropout': 0.5, 'epochs': 90, 'neurons': 512, 'num_hidden_layers': 3}\n",
      "mean:0.8110724488894144 - std:0.033100964592838324 - param:{'batch_size': 32, 'dropout': 0.5, 'epochs': 90, 'neurons': 512, 'num_hidden_layers': 4}\n",
      "mean:0.800963838895162 - std:0.040415705304215295 - param:{'batch_size': 32, 'dropout': 0.5, 'epochs': 90, 'neurons': 512, 'num_hidden_layers': 5}\n",
      "mean:0.8065755168596903 - std:0.03229669696547626 - param:{'batch_size': 32, 'dropout': 0.6, 'epochs': 30, 'neurons': 128, 'num_hidden_layers': 2}\n",
      "mean:0.7930544217427572 - std:0.017997632455968682 - param:{'batch_size': 32, 'dropout': 0.6, 'epochs': 30, 'neurons': 128, 'num_hidden_layers': 3}\n",
      "mean:0.8076826930046082 - std:0.021546964315372136 - param:{'batch_size': 32, 'dropout': 0.6, 'epochs': 30, 'neurons': 128, 'num_hidden_layers': 4}\n",
      "mean:0.8065527677536011 - std:0.020395893548141343 - param:{'batch_size': 32, 'dropout': 0.6, 'epochs': 30, 'neurons': 128, 'num_hidden_layers': 5}\n",
      "mean:0.7795674403508505 - std:0.027394141504834223 - param:{'batch_size': 32, 'dropout': 0.6, 'epochs': 30, 'neurons': 256, 'num_hidden_layers': 2}\n",
      "mean:0.8020482659339905 - std:0.01765466015567488 - param:{'batch_size': 32, 'dropout': 0.6, 'epochs': 30, 'neurons': 256, 'num_hidden_layers': 3}\n",
      "mean:0.8088088035583496 - std:0.021942239390650587 - param:{'batch_size': 32, 'dropout': 0.6, 'epochs': 30, 'neurons': 256, 'num_hidden_layers': 4}\n",
      "mean:0.8043156862258911 - std:0.026809720160584947 - param:{'batch_size': 32, 'dropout': 0.6, 'epochs': 30, 'neurons': 256, 'num_hidden_layers': 5}\n",
      "mean:0.7761852741241455 - std:0.029985356841528952 - param:{'batch_size': 32, 'dropout': 0.6, 'epochs': 30, 'neurons': 512, 'num_hidden_layers': 2}\n",
      "mean:0.8076826930046082 - std:0.022242023523430784 - param:{'batch_size': 32, 'dropout': 0.6, 'epochs': 30, 'neurons': 512, 'num_hidden_layers': 3}\n",
      "mean:0.8088050285975138 - std:0.02073885756233926 - param:{'batch_size': 32, 'dropout': 0.6, 'epochs': 30, 'neurons': 512, 'num_hidden_layers': 4}\n",
      "mean:0.8031668066978455 - std:0.013614028079044396 - param:{'batch_size': 32, 'dropout': 0.6, 'epochs': 30, 'neurons': 512, 'num_hidden_layers': 5}\n",
      "mean:0.8144394357999166 - std:0.02682525168613971 - param:{'batch_size': 32, 'dropout': 0.6, 'epochs': 50, 'neurons': 128, 'num_hidden_layers': 2}\n",
      "mean:0.8121909896532694 - std:0.026714639439135147 - param:{'batch_size': 32, 'dropout': 0.6, 'epochs': 50, 'neurons': 128, 'num_hidden_layers': 3}\n",
      "mean:0.8133133252461752 - std:0.025127417222113885 - param:{'batch_size': 32, 'dropout': 0.6, 'epochs': 50, 'neurons': 128, 'num_hidden_layers': 4}\n",
      "mean:0.8200587034225464 - std:0.022796379406970973 - param:{'batch_size': 32, 'dropout': 0.6, 'epochs': 50, 'neurons': 128, 'num_hidden_layers': 5}\n",
      "mean:0.8200662732124329 - std:0.02755617677861826 - param:{'batch_size': 32, 'dropout': 0.6, 'epochs': 50, 'neurons': 256, 'num_hidden_layers': 2}\n",
      "mean:0.820051113764445 - std:0.018040427948913314 - param:{'batch_size': 32, 'dropout': 0.6, 'epochs': 50, 'neurons': 256, 'num_hidden_layers': 3}\n",
      "mean:0.8290563225746155 - std:0.022146896246350717 - param:{'batch_size': 32, 'dropout': 0.6, 'epochs': 50, 'neurons': 256, 'num_hidden_layers': 4}\n",
      "mean:0.813290556271871 - std:0.01117223971443827 - param:{'batch_size': 32, 'dropout': 0.6, 'epochs': 50, 'neurons': 256, 'num_hidden_layers': 5}\n",
      "mean:0.8099311590194702 - std:0.021089407318283546 - param:{'batch_size': 32, 'dropout': 0.6, 'epochs': 50, 'neurons': 512, 'num_hidden_layers': 2}\n",
      "mean:0.8189249833424886 - std:0.01719133423490658 - param:{'batch_size': 32, 'dropout': 0.6, 'epochs': 50, 'neurons': 512, 'num_hidden_layers': 3}\n",
      "mean:0.8335494597752889 - std:0.018478279128891998 - param:{'batch_size': 32, 'dropout': 0.6, 'epochs': 50, 'neurons': 512, 'num_hidden_layers': 4}\n",
      "mean:0.8155238628387451 - std:0.0014675269681207056 - param:{'batch_size': 32, 'dropout': 0.6, 'epochs': 50, 'neurons': 512, 'num_hidden_layers': 5}\n",
      "mean:0.826811671257019 - std:0.025746864420577414 - param:{'batch_size': 32, 'dropout': 0.6, 'epochs': 70, 'neurons': 128, 'num_hidden_layers': 2}\n",
      "mean:0.7998035947481791 - std:0.029532091444302987 - param:{'batch_size': 32, 'dropout': 0.6, 'epochs': 70, 'neurons': 128, 'num_hidden_layers': 3}\n",
      "mean:0.8166651328404745 - std:0.015461862890522302 - param:{'batch_size': 32, 'dropout': 0.6, 'epochs': 70, 'neurons': 128, 'num_hidden_layers': 4}\n",
      "mean:0.8121796051661173 - std:0.019612645135432715 - param:{'batch_size': 32, 'dropout': 0.6, 'epochs': 70, 'neurons': 128, 'num_hidden_layers': 5}\n",
      "mean:0.81893257300059 - std:0.022130904639274668 - param:{'batch_size': 32, 'dropout': 0.6, 'epochs': 70, 'neurons': 256, 'num_hidden_layers': 2}\n",
      "mean:0.8155427972475687 - std:0.01855947313275145 - param:{'batch_size': 32, 'dropout': 0.6, 'epochs': 70, 'neurons': 256, 'num_hidden_layers': 3}\n",
      "mean:0.8110686540603638 - std:0.03037661260018087 - param:{'batch_size': 32, 'dropout': 0.6, 'epochs': 70, 'neurons': 256, 'num_hidden_layers': 4}\n",
      "mean:0.8177912632624308 - std:0.015113572334552785 - param:{'batch_size': 32, 'dropout': 0.6, 'epochs': 70, 'neurons': 256, 'num_hidden_layers': 5}\n",
      "mean:0.8223071694374084 - std:0.02264596160981329 - param:{'batch_size': 32, 'dropout': 0.6, 'epochs': 70, 'neurons': 512, 'num_hidden_layers': 2}\n",
      "mean:0.8144128918647766 - std:0.018954785651117204 - param:{'batch_size': 32, 'dropout': 0.6, 'epochs': 70, 'neurons': 512, 'num_hidden_layers': 3}\n",
      "mean:0.8020255168279012 - std:0.026209524005760276 - param:{'batch_size': 32, 'dropout': 0.6, 'epochs': 70, 'neurons': 512, 'num_hidden_layers': 4}\n",
      "mean:0.8099311391512553 - std:0.024587615597641548 - param:{'batch_size': 32, 'dropout': 0.6, 'epochs': 70, 'neurons': 512, 'num_hidden_layers': 5}\n",
      "mean:0.8088012337684631 - std:0.020414013372442582 - param:{'batch_size': 32, 'dropout': 0.6, 'epochs': 90, 'neurons': 128, 'num_hidden_layers': 2}\n",
      "mean:0.8054607510566711 - std:0.03980990284633857 - param:{'batch_size': 32, 'dropout': 0.6, 'epochs': 90, 'neurons': 128, 'num_hidden_layers': 3}\n",
      "mean:0.8043270508448283 - std:0.0335153415973713 - param:{'batch_size': 32, 'dropout': 0.6, 'epochs': 90, 'neurons': 128, 'num_hidden_layers': 4}\n",
      "mean:0.7986964186032613 - std:0.032796726501505294 - param:{'batch_size': 32, 'dropout': 0.6, 'epochs': 90, 'neurons': 128, 'num_hidden_layers': 5}\n",
      "mean:0.8065830866495768 - std:0.03726467491260696 - param:{'batch_size': 32, 'dropout': 0.6, 'epochs': 90, 'neurons': 256, 'num_hidden_layers': 2}\n",
      "mean:0.8178253968556722 - std:0.03487123709055551 - param:{'batch_size': 32, 'dropout': 0.6, 'epochs': 90, 'neurons': 256, 'num_hidden_layers': 3}\n",
      "mean:0.8110724488894144 - std:0.030716358799671505 - param:{'batch_size': 32, 'dropout': 0.6, 'epochs': 90, 'neurons': 256, 'num_hidden_layers': 4}\n",
      "mean:0.8144318660100301 - std:0.02120158702924552 - param:{'batch_size': 32, 'dropout': 0.6, 'epochs': 90, 'neurons': 256, 'num_hidden_layers': 5}\n",
      "mean:0.8234294652938843 - std:0.020376483968470874 - param:{'batch_size': 32, 'dropout': 0.6, 'epochs': 90, 'neurons': 512, 'num_hidden_layers': 2}\n",
      "mean:0.8178216218948364 - std:0.030973706634838585 - param:{'batch_size': 32, 'dropout': 0.6, 'epochs': 90, 'neurons': 512, 'num_hidden_layers': 3}\n",
      "mean:0.7975930372873942 - std:0.04293739375275091 - param:{'batch_size': 32, 'dropout': 0.6, 'epochs': 90, 'neurons': 512, 'num_hidden_layers': 4}\n",
      "mean:0.8088088035583496 - std:0.022114947158882205 - param:{'batch_size': 32, 'dropout': 0.6, 'epochs': 90, 'neurons': 512, 'num_hidden_layers': 5}\n",
      "mean:0.7694285114606222 - std:0.029279855097211302 - param:{'batch_size': 32, 'dropout': 0.7, 'epochs': 30, 'neurons': 128, 'num_hidden_layers': 2}\n",
      "mean:0.7896646658579508 - std:0.02752013267897512 - param:{'batch_size': 32, 'dropout': 0.7, 'epochs': 30, 'neurons': 128, 'num_hidden_layers': 3}\n",
      "mean:0.8043156862258911 - std:0.026809720160584947 - param:{'batch_size': 32, 'dropout': 0.7, 'epochs': 30, 'neurons': 128, 'num_hidden_layers': 4}\n",
      "mean:0.8065527677536011 - std:0.018019008185811147 - param:{'batch_size': 32, 'dropout': 0.7, 'epochs': 30, 'neurons': 128, 'num_hidden_layers': 5}\n",
      "mean:0.7862862944602966 - std:0.022872937475444628 - param:{'batch_size': 32, 'dropout': 0.7, 'epochs': 30, 'neurons': 256, 'num_hidden_layers': 2}\n",
      "mean:0.7941653728485107 - std:0.02139174532244656 - param:{'batch_size': 32, 'dropout': 0.7, 'epochs': 30, 'neurons': 256, 'num_hidden_layers': 3}\n",
      "mean:0.8088125983874003 - std:0.024675143352734432 - param:{'batch_size': 32, 'dropout': 0.7, 'epochs': 30, 'neurons': 256, 'num_hidden_layers': 4}\n",
      "mean:0.7964290181795756 - std:0.01922917710686835 - param:{'batch_size': 32, 'dropout': 0.7, 'epochs': 30, 'neurons': 256, 'num_hidden_layers': 5}\n",
      "mean:0.7919169267018636 - std:0.025489303468451307 - param:{'batch_size': 32, 'dropout': 0.7, 'epochs': 30, 'neurons': 512, 'num_hidden_layers': 2}\n",
      "mean:0.7975589235623678 - std:0.022226723190312075 - param:{'batch_size': 32, 'dropout': 0.7, 'epochs': 30, 'neurons': 512, 'num_hidden_layers': 3}\n",
      "mean:0.800963838895162 - std:0.040415705304215295 - param:{'batch_size': 32, 'dropout': 0.7, 'epochs': 30, 'neurons': 512, 'num_hidden_layers': 4}\n",
      "mean:0.8065565625826517 - std:0.023148490297863804 - param:{'batch_size': 32, 'dropout': 0.7, 'epochs': 30, 'neurons': 512, 'num_hidden_layers': 5}\n",
      "mean:0.8144280711809794 - std:0.020516138972517403 - param:{'batch_size': 32, 'dropout': 0.7, 'epochs': 50, 'neurons': 128, 'num_hidden_layers': 2}\n",
      "mean:0.8178216020266215 - std:0.030727053305605795 - param:{'batch_size': 32, 'dropout': 0.7, 'epochs': 50, 'neurons': 128, 'num_hidden_layers': 3}\n",
      "mean:0.8279188275337219 - std:0.015073474165262266 - param:{'batch_size': 32, 'dropout': 0.7, 'epochs': 50, 'neurons': 128, 'num_hidden_layers': 4}\n",
      "mean:0.8245707949002584 - std:0.030737775888653635 - param:{'batch_size': 32, 'dropout': 0.7, 'epochs': 50, 'neurons': 128, 'num_hidden_layers': 5}\n",
      "mean:0.822299579779307 - std:0.017196700933616967 - param:{'batch_size': 32, 'dropout': 0.7, 'epochs': 50, 'neurons': 256, 'num_hidden_layers': 2}\n",
      "mean:0.8189439376195272 - std:0.029141517932046612 - param:{'batch_size': 32, 'dropout': 0.7, 'epochs': 50, 'neurons': 256, 'num_hidden_layers': 3}\n",
      "mean:0.8245555957158407 - std:0.021217653048384785 - param:{'batch_size': 32, 'dropout': 0.7, 'epochs': 50, 'neurons': 256, 'num_hidden_layers': 4}\n",
      "mean:0.8335380752881368 - std:0.011203410986423126 - param:{'batch_size': 32, 'dropout': 0.7, 'epochs': 50, 'neurons': 256, 'num_hidden_layers': 5}\n",
      "mean:0.8155504067738851 - std:0.018049725422591735 - param:{'batch_size': 32, 'dropout': 0.7, 'epochs': 50, 'neurons': 512, 'num_hidden_layers': 2}\n",
      "mean:0.822299579779307 - std:0.017196700933616967 - param:{'batch_size': 32, 'dropout': 0.7, 'epochs': 50, 'neurons': 512, 'num_hidden_layers': 3}\n",
      "mean:0.8245442310969034 - std:0.015068479960116113 - param:{'batch_size': 32, 'dropout': 0.7, 'epochs': 50, 'neurons': 512, 'num_hidden_layers': 4}\n",
      "mean:0.8211696545282999 - std:0.014016889800864057 - param:{'batch_size': 32, 'dropout': 0.7, 'epochs': 50, 'neurons': 512, 'num_hidden_layers': 5}\n",
      "mean:0.8088125983874003 - std:0.024675143352734432 - param:{'batch_size': 32, 'dropout': 0.7, 'epochs': 70, 'neurons': 128, 'num_hidden_layers': 2}\n",
      "mean:0.8110572695732117 - std:0.026029777419997444 - param:{'batch_size': 32, 'dropout': 0.7, 'epochs': 70, 'neurons': 128, 'num_hidden_layers': 3}\n",
      "mean:0.8087822596232096 - std:0.026727364124038856 - param:{'batch_size': 32, 'dropout': 0.7, 'epochs': 70, 'neurons': 128, 'num_hidden_layers': 4}\n",
      "mean:0.8042739629745483 - std:0.022069677736177136 - param:{'batch_size': 32, 'dropout': 0.7, 'epochs': 70, 'neurons': 128, 'num_hidden_layers': 5}\n",
      "mean:0.8155693610509237 - std:0.02913617012979696 - param:{'batch_size': 32, 'dropout': 0.7, 'epochs': 70, 'neurons': 256, 'num_hidden_layers': 2}\n",
      "mean:0.8065565625826517 - std:0.02623034675548161 - param:{'batch_size': 32, 'dropout': 0.7, 'epochs': 70, 'neurons': 256, 'num_hidden_layers': 3}\n",
      "mean:0.7975930372873942 - std:0.04398780431758202 - param:{'batch_size': 32, 'dropout': 0.7, 'epochs': 70, 'neurons': 256, 'num_hidden_layers': 4}\n",
      "mean:0.8088012337684631 - std:0.027963585938153197 - param:{'batch_size': 32, 'dropout': 0.7, 'epochs': 70, 'neurons': 256, 'num_hidden_layers': 5}\n",
      "mean:0.8245518207550049 - std:0.020530894954683264 - param:{'batch_size': 32, 'dropout': 0.7, 'epochs': 70, 'neurons': 512, 'num_hidden_layers': 2}\n",
      "mean:0.8054342269897461 - std:0.025912360859215174 - param:{'batch_size': 32, 'dropout': 0.7, 'epochs': 70, 'neurons': 512, 'num_hidden_layers': 3}\n",
      "mean:0.8166727224985758 - std:0.027023947434849073 - param:{'batch_size': 32, 'dropout': 0.7, 'epochs': 70, 'neurons': 512, 'num_hidden_layers': 4}\n",
      "mean:0.8009069561958313 - std:0.007088316048550531 - param:{'batch_size': 32, 'dropout': 0.7, 'epochs': 70, 'neurons': 512, 'num_hidden_layers': 5}\n",
      "mean:0.8223071495691935 - std:0.021963678087593128 - param:{'batch_size': 32, 'dropout': 0.7, 'epochs': 90, 'neurons': 128, 'num_hidden_layers': 2}\n",
      "mean:0.8223071694374084 - std:0.02264596160981329 - param:{'batch_size': 32, 'dropout': 0.7, 'epochs': 90, 'neurons': 128, 'num_hidden_layers': 3}\n",
      "mean:0.8065755168596903 - std:0.03253144127773732 - param:{'batch_size': 32, 'dropout': 0.7, 'epochs': 90, 'neurons': 128, 'num_hidden_layers': 4}\n",
      "mean:0.8133095304171244 - std:0.022785681176849353 - param:{'batch_size': 32, 'dropout': 0.7, 'epochs': 90, 'neurons': 128, 'num_hidden_layers': 5}\n",
      "mean:0.8223109443982443 - std:0.024386228642269133 - param:{'batch_size': 32, 'dropout': 0.7, 'epochs': 90, 'neurons': 256, 'num_hidden_layers': 2}\n",
      "mean:0.8189363678296407 - std:0.024690997699390125 - param:{'batch_size': 32, 'dropout': 0.7, 'epochs': 90, 'neurons': 256, 'num_hidden_layers': 3}\n",
      "mean:0.808816393216451 - std:0.028898589415050142 - param:{'batch_size': 32, 'dropout': 0.7, 'epochs': 90, 'neurons': 256, 'num_hidden_layers': 4}\n",
      "mean:0.8009562492370605 - std:0.035463141898566614 - param:{'batch_size': 32, 'dropout': 0.7, 'epochs': 90, 'neurons': 256, 'num_hidden_layers': 5}\n",
      "mean:0.8144356409708658 - std:0.024178004971715013 - param:{'batch_size': 32, 'dropout': 0.7, 'epochs': 90, 'neurons': 512, 'num_hidden_layers': 2}\n",
      "mean:0.8223109642664591 - std:0.024696288523948146 - param:{'batch_size': 32, 'dropout': 0.7, 'epochs': 90, 'neurons': 512, 'num_hidden_layers': 3}\n",
      "mean:0.814447025458018 - std:0.030968388044695476 - param:{'batch_size': 32, 'dropout': 0.7, 'epochs': 90, 'neurons': 512, 'num_hidden_layers': 4}\n",
      "mean:0.790859043598175 - std:0.05210480011486594 - param:{'batch_size': 32, 'dropout': 0.7, 'epochs': 90, 'neurons': 512, 'num_hidden_layers': 5}\n",
      "mean:0.6197599172592163 - std:0.03738932956565493 - param:{'batch_size': 64, 'dropout': 0.3, 'epochs': 30, 'neurons': 128, 'num_hidden_layers': 2}\n",
      "mean:0.6175152460734049 - std:0.03546718343479995 - param:{'batch_size': 64, 'dropout': 0.3, 'epochs': 30, 'neurons': 128, 'num_hidden_layers': 3}\n",
      "mean:0.6208936174710592 - std:0.03771773754104592 - param:{'batch_size': 64, 'dropout': 0.3, 'epochs': 30, 'neurons': 128, 'num_hidden_layers': 4}\n",
      "mean:0.6197675069173177 - std:0.0369141378529153 - param:{'batch_size': 64, 'dropout': 0.3, 'epochs': 30, 'neurons': 128, 'num_hidden_layers': 5}\n",
      "mean:0.6265242497126261 - std:0.04240981235966496 - param:{'batch_size': 64, 'dropout': 0.3, 'epochs': 30, 'neurons': 256, 'num_hidden_layers': 2}\n",
      "mean:0.6175152460734049 - std:0.03546718343479995 - param:{'batch_size': 64, 'dropout': 0.3, 'epochs': 30, 'neurons': 256, 'num_hidden_layers': 3}\n",
      "mean:0.6175152460734049 - std:0.03546718343479995 - param:{'batch_size': 64, 'dropout': 0.3, 'epochs': 30, 'neurons': 256, 'num_hidden_layers': 4}\n",
      "mean:0.6310287714004517 - std:0.04680462428419801 - param:{'batch_size': 64, 'dropout': 0.3, 'epochs': 30, 'neurons': 256, 'num_hidden_layers': 5}\n",
      "mean:0.6175152460734049 - std:0.03546718343479995 - param:{'batch_size': 64, 'dropout': 0.3, 'epochs': 30, 'neurons': 512, 'num_hidden_layers': 2}\n",
      "mean:0.6175152460734049 - std:0.03546718343479995 - param:{'batch_size': 64, 'dropout': 0.3, 'epochs': 30, 'neurons': 512, 'num_hidden_layers': 3}\n",
      "mean:0.6197675069173177 - std:0.0369141378529153 - param:{'batch_size': 64, 'dropout': 0.3, 'epochs': 30, 'neurons': 512, 'num_hidden_layers': 4}\n",
      "mean:0.6175152460734049 - std:0.03546718343479995 - param:{'batch_size': 64, 'dropout': 0.3, 'epochs': 30, 'neurons': 512, 'num_hidden_layers': 5}\n",
      "mean:0.7401643991470337 - std:0.004354106625963441 - param:{'batch_size': 64, 'dropout': 0.3, 'epochs': 50, 'neurons': 128, 'num_hidden_layers': 2}\n",
      "mean:0.7469135721524557 - std:0.005163438009672282 - param:{'batch_size': 64, 'dropout': 0.3, 'epochs': 50, 'neurons': 128, 'num_hidden_layers': 3}\n",
      "mean:0.7615570028622946 - std:0.017321221629029937 - param:{'batch_size': 64, 'dropout': 0.3, 'epochs': 50, 'neurons': 128, 'num_hidden_layers': 4}\n",
      "mean:0.7559187809626261 - std:0.024889707807597892 - param:{'batch_size': 64, 'dropout': 0.3, 'epochs': 50, 'neurons': 128, 'num_hidden_layers': 5}\n",
      "mean:0.7480207482973734 - std:0.017876556625949006 - param:{'batch_size': 64, 'dropout': 0.3, 'epochs': 50, 'neurons': 256, 'num_hidden_layers': 2}\n",
      "mean:0.7390458583831787 - std:0.00843832373681607 - param:{'batch_size': 64, 'dropout': 0.3, 'epochs': 50, 'neurons': 256, 'num_hidden_layers': 3}\n",
      "mean:0.7502995530764262 - std:0.01503121809450967 - param:{'batch_size': 64, 'dropout': 0.3, 'epochs': 50, 'neurons': 256, 'num_hidden_layers': 4}\n",
      "mean:0.7514180739720663 - std:0.008038150649699923 - param:{'batch_size': 64, 'dropout': 0.3, 'epochs': 50, 'neurons': 256, 'num_hidden_layers': 5}\n",
      "mean:0.7412943442662557 - std:0.018184674128545006 - param:{'batch_size': 64, 'dropout': 0.3, 'epochs': 50, 'neurons': 512, 'num_hidden_layers': 2}\n",
      "mean:0.7345337867736816 - std:0.004154415555534093 - param:{'batch_size': 64, 'dropout': 0.3, 'epochs': 50, 'neurons': 512, 'num_hidden_layers': 3}\n",
      "mean:0.753670334815979 - std:0.023886428549203385 - param:{'batch_size': 64, 'dropout': 0.3, 'epochs': 50, 'neurons': 512, 'num_hidden_layers': 4}\n",
      "mean:0.7750781178474426 - std:0.034316295409951666 - param:{'batch_size': 64, 'dropout': 0.3, 'epochs': 50, 'neurons': 512, 'num_hidden_layers': 5}\n",
      "mean:0.8144356409708658 - std:0.02495237227168467 - param:{'batch_size': 64, 'dropout': 0.3, 'epochs': 70, 'neurons': 128, 'num_hidden_layers': 2}\n",
      "mean:0.8144508004188538 - std:0.033074233606741964 - param:{'batch_size': 64, 'dropout': 0.3, 'epochs': 70, 'neurons': 128, 'num_hidden_layers': 3}\n",
      "mean:0.8133095304171244 - std:0.022785681176849353 - param:{'batch_size': 64, 'dropout': 0.3, 'epochs': 70, 'neurons': 128, 'num_hidden_layers': 4}\n",
      "mean:0.8178178071975708 - std:0.028312566955678176 - param:{'batch_size': 64, 'dropout': 0.3, 'epochs': 70, 'neurons': 128, 'num_hidden_layers': 5}\n",
      "mean:0.8121758302052816 - std:0.01804462156330082 - param:{'batch_size': 64, 'dropout': 0.3, 'epochs': 70, 'neurons': 256, 'num_hidden_layers': 2}\n",
      "mean:0.81669549147288 - std:0.030026773333347804 - param:{'batch_size': 64, 'dropout': 0.3, 'epochs': 70, 'neurons': 256, 'num_hidden_layers': 3}\n",
      "mean:0.8200700680414835 - std:0.030032105588134368 - param:{'batch_size': 64, 'dropout': 0.3, 'epochs': 70, 'neurons': 256, 'num_hidden_layers': 4}\n",
      "mean:0.8099197745323181 - std:0.014896790018853688 - param:{'batch_size': 64, 'dropout': 0.3, 'epochs': 70, 'neurons': 256, 'num_hidden_layers': 5}\n",
      "mean:0.8043080965677897 - std:0.026021053639953832 - param:{'batch_size': 64, 'dropout': 0.3, 'epochs': 70, 'neurons': 512, 'num_hidden_layers': 2}\n",
      "mean:0.8189401626586914 - std:0.027288836678953616 - param:{'batch_size': 64, 'dropout': 0.3, 'epochs': 70, 'neurons': 512, 'num_hidden_layers': 3}\n",
      "mean:0.8110648592313131 - std:0.025955016107854223 - param:{'batch_size': 64, 'dropout': 0.3, 'epochs': 70, 'neurons': 512, 'num_hidden_layers': 4}\n",
      "mean:0.8189211885134379 - std:0.014871910283541425 - param:{'batch_size': 64, 'dropout': 0.3, 'epochs': 70, 'neurons': 512, 'num_hidden_layers': 5}\n",
      "mean:0.8020975391070048 - std:0.046097970160297756 - param:{'batch_size': 64, 'dropout': 0.3, 'epochs': 90, 'neurons': 128, 'num_hidden_layers': 2}\n",
      "mean:0.8088277578353882 - std:0.03411168034917199 - param:{'batch_size': 64, 'dropout': 0.3, 'epochs': 90, 'neurons': 128, 'num_hidden_layers': 3}\n",
      "mean:0.8065868814786276 - std:0.04027705724750343 - param:{'batch_size': 64, 'dropout': 0.3, 'epochs': 90, 'neurons': 128, 'num_hidden_layers': 4}\n",
      "mean:0.7908362944920858 - std:0.03780375626134144 - param:{'batch_size': 64, 'dropout': 0.3, 'epochs': 90, 'neurons': 128, 'num_hidden_layers': 5}\n",
      "mean:0.8088315526644388 - std:0.03634814327470572 - param:{'batch_size': 64, 'dropout': 0.3, 'epochs': 90, 'neurons': 256, 'num_hidden_layers': 2}\n",
      "mean:0.8110610644022623 - std:0.025992909865348697 - param:{'batch_size': 64, 'dropout': 0.3, 'epochs': 90, 'neurons': 256, 'num_hidden_layers': 3}\n",
      "mean:0.7885802388191223 - std:0.03452340718192316 - param:{'batch_size': 64, 'dropout': 0.3, 'epochs': 90, 'neurons': 256, 'num_hidden_layers': 4}\n",
      "mean:0.7930885354677836 - std:0.03949278149834065 - param:{'batch_size': 64, 'dropout': 0.3, 'epochs': 90, 'neurons': 256, 'num_hidden_layers': 5}\n",
      "mean:0.8133171002070109 - std:0.027820330710411123 - param:{'batch_size': 64, 'dropout': 0.3, 'epochs': 90, 'neurons': 512, 'num_hidden_layers': 2}\n",
      "mean:0.8133095304171244 - std:0.022785681176849353 - param:{'batch_size': 64, 'dropout': 0.3, 'epochs': 90, 'neurons': 512, 'num_hidden_layers': 3}\n",
      "mean:0.7964593370755514 - std:0.037248702336445054 - param:{'batch_size': 64, 'dropout': 0.3, 'epochs': 90, 'neurons': 512, 'num_hidden_layers': 4}\n",
      "mean:0.7863583167394003 - std:0.051321674968423124 - param:{'batch_size': 64, 'dropout': 0.3, 'epochs': 90, 'neurons': 512, 'num_hidden_layers': 5}\n",
      "mean:0.6175152460734049 - std:0.03546718343479995 - param:{'batch_size': 64, 'dropout': 0.5, 'epochs': 30, 'neurons': 128, 'num_hidden_layers': 2}\n",
      "mean:0.6175152460734049 - std:0.03546718343479995 - param:{'batch_size': 64, 'dropout': 0.5, 'epochs': 30, 'neurons': 128, 'num_hidden_layers': 3}\n",
      "mean:0.6197675069173177 - std:0.0369141378529153 - param:{'batch_size': 64, 'dropout': 0.5, 'epochs': 30, 'neurons': 128, 'num_hidden_layers': 4}\n",
      "mean:0.6175152460734049 - std:0.03546718343479995 - param:{'batch_size': 64, 'dropout': 0.5, 'epochs': 30, 'neurons': 128, 'num_hidden_layers': 5}\n",
      "mean:0.6186375816663107 - std:0.03640634915392159 - param:{'batch_size': 64, 'dropout': 0.5, 'epochs': 30, 'neurons': 256, 'num_hidden_layers': 2}\n",
      "mean:0.6175152460734049 - std:0.03546718343479995 - param:{'batch_size': 64, 'dropout': 0.5, 'epochs': 30, 'neurons': 256, 'num_hidden_layers': 3}\n",
      "mean:0.6175152460734049 - std:0.03546718343479995 - param:{'batch_size': 64, 'dropout': 0.5, 'epochs': 30, 'neurons': 256, 'num_hidden_layers': 4}\n",
      "mean:0.6175152460734049 - std:0.03546718343479995 - param:{'batch_size': 64, 'dropout': 0.5, 'epochs': 30, 'neurons': 256, 'num_hidden_layers': 5}\n",
      "mean:0.6175152460734049 - std:0.03546718343479995 - param:{'batch_size': 64, 'dropout': 0.5, 'epochs': 30, 'neurons': 512, 'num_hidden_layers': 2}\n",
      "mean:0.6175152460734049 - std:0.03546718343479995 - param:{'batch_size': 64, 'dropout': 0.5, 'epochs': 30, 'neurons': 512, 'num_hidden_layers': 3}\n",
      "mean:0.6175152460734049 - std:0.03546718343479995 - param:{'batch_size': 64, 'dropout': 0.5, 'epochs': 30, 'neurons': 512, 'num_hidden_layers': 4}\n",
      "mean:0.6175152460734049 - std:0.03546718343479995 - param:{'batch_size': 64, 'dropout': 0.5, 'epochs': 30, 'neurons': 512, 'num_hidden_layers': 5}\n",
      "mean:0.7266470988591512 - std:0.016961763429504617 - param:{'batch_size': 64, 'dropout': 0.5, 'epochs': 50, 'neurons': 128, 'num_hidden_layers': 2}\n",
      "mean:0.7457798719406128 - std:0.006999450057360281 - param:{'batch_size': 64, 'dropout': 0.5, 'epochs': 50, 'neurons': 128, 'num_hidden_layers': 3}\n",
      "mean:0.7491658131281534 - std:0.010196660703035288 - param:{'batch_size': 64, 'dropout': 0.5, 'epochs': 50, 'neurons': 128, 'num_hidden_layers': 4}\n",
      "mean:0.7581672469774882 - std:0.011209162292589267 - param:{'batch_size': 64, 'dropout': 0.5, 'epochs': 50, 'neurons': 128, 'num_hidden_layers': 5}\n",
      "mean:0.7368125716845194 - std:0.026845012052683113 - param:{'batch_size': 64, 'dropout': 0.5, 'epochs': 50, 'neurons': 256, 'num_hidden_layers': 2}\n",
      "mean:0.7457950512568156 - std:0.01731049406155286 - param:{'batch_size': 64, 'dropout': 0.5, 'epochs': 50, 'neurons': 256, 'num_hidden_layers': 3}\n",
      "mean:0.7626717686653137 - std:0.017484253158520372 - param:{'batch_size': 64, 'dropout': 0.5, 'epochs': 50, 'neurons': 256, 'num_hidden_layers': 4}\n",
      "mean:0.751433273156484 - std:0.01795275104265012 - param:{'batch_size': 64, 'dropout': 0.5, 'epochs': 50, 'neurons': 256, 'num_hidden_layers': 5}\n",
      "mean:0.730029284954071 - std:0.003132467286543275 - param:{'batch_size': 64, 'dropout': 0.5, 'epochs': 50, 'neurons': 512, 'num_hidden_layers': 2}\n",
      "mean:0.7412943442662557 - std:0.009337876281407463 - param:{'batch_size': 64, 'dropout': 0.5, 'epochs': 50, 'neurons': 512, 'num_hidden_layers': 3}\n",
      "mean:0.7491658329963684 - std:0.006565082841169023 - param:{'batch_size': 64, 'dropout': 0.5, 'epochs': 50, 'neurons': 512, 'num_hidden_layers': 4}\n",
      "mean:0.7525366346041361 - std:0.012918701664363515 - param:{'batch_size': 64, 'dropout': 0.5, 'epochs': 50, 'neurons': 512, 'num_hidden_layers': 5}\n",
      "mean:0.8009259303410848 - std:0.026380322828594687 - param:{'batch_size': 64, 'dropout': 0.5, 'epochs': 70, 'neurons': 128, 'num_hidden_layers': 2}\n",
      "mean:0.8087784647941589 - std:0.016798329036731688 - param:{'batch_size': 64, 'dropout': 0.5, 'epochs': 70, 'neurons': 128, 'num_hidden_layers': 3}\n",
      "mean:0.8110572695732117 - std:0.021196231701024252 - param:{'batch_size': 64, 'dropout': 0.5, 'epochs': 70, 'neurons': 128, 'num_hidden_layers': 4}\n",
      "mean:0.8189249634742737 - std:0.01805484130920037 - param:{'batch_size': 64, 'dropout': 0.5, 'epochs': 70, 'neurons': 128, 'num_hidden_layers': 5}\n",
      "mean:0.7975589235623678 - std:0.022226723190312075 - param:{'batch_size': 64, 'dropout': 0.5, 'epochs': 70, 'neurons': 256, 'num_hidden_layers': 2}\n",
      "mean:0.7998073697090149 - std:0.02804480700656567 - param:{'batch_size': 64, 'dropout': 0.5, 'epochs': 70, 'neurons': 256, 'num_hidden_layers': 3}\n",
      "mean:0.8200587034225464 - std:0.022796379406970973 - param:{'batch_size': 64, 'dropout': 0.5, 'epochs': 70, 'neurons': 256, 'num_hidden_layers': 4}\n",
      "mean:0.806567927201589 - std:0.027534764972811994 - param:{'batch_size': 64, 'dropout': 0.5, 'epochs': 70, 'neurons': 256, 'num_hidden_layers': 5}\n",
      "mean:0.8020444711049398 - std:0.01854511564709 - param:{'batch_size': 64, 'dropout': 0.5, 'epochs': 70, 'neurons': 512, 'num_hidden_layers': 2}\n",
      "mean:0.8099349538485209 - std:0.02376126237481948 - param:{'batch_size': 64, 'dropout': 0.5, 'epochs': 70, 'neurons': 512, 'num_hidden_layers': 3}\n",
      "mean:0.8211886088053385 - std:0.02597106541244579 - param:{'batch_size': 64, 'dropout': 0.5, 'epochs': 70, 'neurons': 512, 'num_hidden_layers': 4}\n",
      "mean:0.8133209149042765 - std:0.029894450571888057 - param:{'batch_size': 64, 'dropout': 0.5, 'epochs': 70, 'neurons': 512, 'num_hidden_layers': 5}\n",
      "mean:0.8133246898651123 - std:0.032307405499511936 - param:{'batch_size': 64, 'dropout': 0.5, 'epochs': 90, 'neurons': 128, 'num_hidden_layers': 2}\n",
      "mean:0.8267964919408163 - std:0.01585660249607942 - param:{'batch_size': 64, 'dropout': 0.5, 'epochs': 90, 'neurons': 128, 'num_hidden_layers': 3}\n",
      "mean:0.803212304910024 - std:0.039508829974625036 - param:{'batch_size': 64, 'dropout': 0.5, 'epochs': 90, 'neurons': 128, 'num_hidden_layers': 4}\n",
      "mean:0.7897063493728638 - std:0.0350606960622847 - param:{'batch_size': 64, 'dropout': 0.5, 'epochs': 90, 'neurons': 128, 'num_hidden_layers': 5}\n",
      "mean:0.8155693610509237 - std:0.02913617012979696 - param:{'batch_size': 64, 'dropout': 0.5, 'epochs': 90, 'neurons': 256, 'num_hidden_layers': 2}\n",
      "mean:0.8166879018147787 - std:0.025731147008964228 - param:{'batch_size': 64, 'dropout': 0.5, 'epochs': 90, 'neurons': 256, 'num_hidden_layers': 3}\n",
      "mean:0.8110610644022623 - std:0.023534828306382236 - param:{'batch_size': 64, 'dropout': 0.5, 'epochs': 90, 'neurons': 256, 'num_hidden_layers': 4}\n",
      "mean:0.8043156663576762 - std:0.025944297881624143 - param:{'batch_size': 64, 'dropout': 0.5, 'epochs': 90, 'neurons': 256, 'num_hidden_layers': 5}\n",
      "mean:0.8133057355880737 - std:0.02036038387233971 - param:{'batch_size': 64, 'dropout': 0.5, 'epochs': 90, 'neurons': 512, 'num_hidden_layers': 2}\n",
      "mean:0.8200473189353943 - std:0.01560411201788532 - param:{'batch_size': 64, 'dropout': 0.5, 'epochs': 90, 'neurons': 512, 'num_hidden_layers': 3}\n",
      "mean:0.8110610644022623 - std:0.02369593133376328 - param:{'batch_size': 64, 'dropout': 0.5, 'epochs': 90, 'neurons': 512, 'num_hidden_layers': 4}\n",
      "mean:0.7728486259778341 - std:0.044131178334584936 - param:{'batch_size': 64, 'dropout': 0.5, 'epochs': 90, 'neurons': 512, 'num_hidden_layers': 5}\n",
      "mean:0.6175152460734049 - std:0.03546718343479995 - param:{'batch_size': 64, 'dropout': 0.6, 'epochs': 30, 'neurons': 128, 'num_hidden_layers': 2}\n",
      "mean:0.6175152460734049 - std:0.03546718343479995 - param:{'batch_size': 64, 'dropout': 0.6, 'epochs': 30, 'neurons': 128, 'num_hidden_layers': 3}\n",
      "mean:0.6175152460734049 - std:0.03546718343479995 - param:{'batch_size': 64, 'dropout': 0.6, 'epochs': 30, 'neurons': 128, 'num_hidden_layers': 4}\n",
      "mean:0.6175152460734049 - std:0.03546718343479995 - param:{'batch_size': 64, 'dropout': 0.6, 'epochs': 30, 'neurons': 128, 'num_hidden_layers': 5}\n",
      "mean:0.6175152460734049 - std:0.03546718343479995 - param:{'batch_size': 64, 'dropout': 0.6, 'epochs': 30, 'neurons': 256, 'num_hidden_layers': 2}\n",
      "mean:0.6175152460734049 - std:0.03546718343479995 - param:{'batch_size': 64, 'dropout': 0.6, 'epochs': 30, 'neurons': 256, 'num_hidden_layers': 3}\n",
      "mean:0.6175152460734049 - std:0.03546718343479995 - param:{'batch_size': 64, 'dropout': 0.6, 'epochs': 30, 'neurons': 256, 'num_hidden_layers': 4}\n",
      "mean:0.6175152460734049 - std:0.03546718343479995 - param:{'batch_size': 64, 'dropout': 0.6, 'epochs': 30, 'neurons': 256, 'num_hidden_layers': 5}\n",
      "mean:0.6163929104804993 - std:0.03457540298551357 - param:{'batch_size': 64, 'dropout': 0.6, 'epochs': 30, 'neurons': 512, 'num_hidden_layers': 2}\n",
      "mean:0.6186413764953613 - std:0.036162840010933596 - param:{'batch_size': 64, 'dropout': 0.6, 'epochs': 30, 'neurons': 512, 'num_hidden_layers': 3}\n",
      "mean:0.6175152460734049 - std:0.03546718343479995 - param:{'batch_size': 64, 'dropout': 0.6, 'epochs': 30, 'neurons': 512, 'num_hidden_layers': 4}\n",
      "mean:0.6175152460734049 - std:0.03546718343479995 - param:{'batch_size': 64, 'dropout': 0.6, 'epochs': 30, 'neurons': 512, 'num_hidden_layers': 5}\n",
      "mean:0.7029908696810404 - std:0.029204566547928197 - param:{'batch_size': 64, 'dropout': 0.6, 'epochs': 50, 'neurons': 128, 'num_hidden_layers': 2}\n",
      "mean:0.7457950512568156 - std:0.014952032955759984 - param:{'batch_size': 64, 'dropout': 0.6, 'epochs': 50, 'neurons': 128, 'num_hidden_layers': 3}\n",
      "mean:0.7615494132041931 - std:0.025280036152235598 - param:{'batch_size': 64, 'dropout': 0.6, 'epochs': 50, 'neurons': 128, 'num_hidden_layers': 4}\n",
      "mean:0.7379121581713358 - std:0.016779401131619142 - param:{'batch_size': 64, 'dropout': 0.6, 'epochs': 50, 'neurons': 128, 'num_hidden_layers': 5}\n",
      "mean:0.7266470789909363 - std:0.019468146060639426 - param:{'batch_size': 64, 'dropout': 0.6, 'epochs': 50, 'neurons': 256, 'num_hidden_layers': 2}\n",
      "mean:0.7379007736841837 - std:0.010605312188197174 - param:{'batch_size': 64, 'dropout': 0.6, 'epochs': 50, 'neurons': 256, 'num_hidden_layers': 3}\n",
      "mean:0.7390269041061401 - std:0.016936068364963017 - param:{'batch_size': 64, 'dropout': 0.6, 'epochs': 50, 'neurons': 256, 'num_hidden_layers': 4}\n",
      "mean:0.7581748366355896 - std:0.014847714739894614 - param:{'batch_size': 64, 'dropout': 0.6, 'epochs': 50, 'neurons': 256, 'num_hidden_layers': 5}\n",
      "mean:0.7322739362716675 - std:0.029575841663044843 - param:{'batch_size': 64, 'dropout': 0.6, 'epochs': 50, 'neurons': 512, 'num_hidden_layers': 2}\n",
      "mean:0.7334076563517252 - std:0.0004236320233324996 - param:{'batch_size': 64, 'dropout': 0.6, 'epochs': 50, 'neurons': 512, 'num_hidden_layers': 3}\n",
      "mean:0.7491734226544698 - std:0.015386927792365454 - param:{'batch_size': 64, 'dropout': 0.6, 'epochs': 50, 'neurons': 512, 'num_hidden_layers': 4}\n",
      "mean:0.7469325462977091 - std:0.018929523483168568 - param:{'batch_size': 64, 'dropout': 0.6, 'epochs': 50, 'neurons': 512, 'num_hidden_layers': 5}\n",
      "mean:0.7907907962799072 - std:0.0239090366249634 - param:{'batch_size': 64, 'dropout': 0.6, 'epochs': 70, 'neurons': 128, 'num_hidden_layers': 2}\n",
      "mean:0.8054342269897461 - std:0.027479978976728443 - param:{'batch_size': 64, 'dropout': 0.6, 'epochs': 70, 'neurons': 128, 'num_hidden_layers': 3}\n",
      "mean:0.8189173936843872 - std:0.014927947356794587 - param:{'batch_size': 64, 'dropout': 0.6, 'epochs': 70, 'neurons': 128, 'num_hidden_layers': 4}\n",
      "mean:0.8178064425786337 - std:0.02156273742240977 - param:{'batch_size': 64, 'dropout': 0.6, 'epochs': 70, 'neurons': 128, 'num_hidden_layers': 5}\n",
      "mean:0.8189135988553365 - std:0.010135067939959516 - param:{'batch_size': 64, 'dropout': 0.6, 'epochs': 70, 'neurons': 256, 'num_hidden_layers': 2}\n",
      "mean:0.7986623048782349 - std:0.020760080609295583 - param:{'batch_size': 64, 'dropout': 0.6, 'epochs': 70, 'neurons': 256, 'num_hidden_layers': 3}\n",
      "mean:0.8200549284617106 - std:0.020371117269760486 - param:{'batch_size': 64, 'dropout': 0.6, 'epochs': 70, 'neurons': 256, 'num_hidden_layers': 4}\n",
      "mean:0.8155542016029358 - std:0.019617998551246987 - param:{'batch_size': 64, 'dropout': 0.6, 'epochs': 70, 'neurons': 256, 'num_hidden_layers': 5}\n",
      "mean:0.8110458850860596 - std:0.01400076160683389 - param:{'batch_size': 64, 'dropout': 0.6, 'epochs': 70, 'neurons': 512, 'num_hidden_layers': 2}\n",
      "mean:0.8065603574117025 - std:0.02469833056121624 - param:{'batch_size': 64, 'dropout': 0.6, 'epochs': 70, 'neurons': 512, 'num_hidden_layers': 3}\n",
      "mean:0.8189287980397543 - std:0.019623351974317617 - param:{'batch_size': 64, 'dropout': 0.6, 'epochs': 70, 'neurons': 512, 'num_hidden_layers': 4}\n",
      "mean:0.8245442509651184 - std:0.014022256499574445 - param:{'batch_size': 64, 'dropout': 0.6, 'epochs': 70, 'neurons': 512, 'num_hidden_layers': 5}\n",
      "mean:0.8234294851620992 - std:0.020562357733802196 - param:{'batch_size': 64, 'dropout': 0.6, 'epochs': 90, 'neurons': 128, 'num_hidden_layers': 2}\n",
      "mean:0.8313009937604269 - std:0.01879999514887038 - param:{'batch_size': 64, 'dropout': 0.6, 'epochs': 90, 'neurons': 128, 'num_hidden_layers': 3}\n",
      "mean:0.8144318660100301 - std:0.02120158702924552 - param:{'batch_size': 64, 'dropout': 0.6, 'epochs': 90, 'neurons': 128, 'num_hidden_layers': 4}\n",
      "mean:0.7897405028343201 - std:0.05622798561408915 - param:{'batch_size': 64, 'dropout': 0.6, 'epochs': 90, 'neurons': 128, 'num_hidden_layers': 5}\n",
      "mean:0.8133019407590231 - std:0.021846033230129236 - param:{'batch_size': 64, 'dropout': 0.6, 'epochs': 90, 'neurons': 256, 'num_hidden_layers': 2}\n",
      "mean:0.8245555957158407 - std:0.021217653048384785 - param:{'batch_size': 64, 'dropout': 0.6, 'epochs': 90, 'neurons': 256, 'num_hidden_layers': 3}\n",
      "mean:0.8121909896532694 - std:0.026856674751847612 - param:{'batch_size': 64, 'dropout': 0.6, 'epochs': 90, 'neurons': 256, 'num_hidden_layers': 4}\n",
      "mean:0.7998225490252177 - std:0.030378146817675946 - param:{'batch_size': 64, 'dropout': 0.6, 'epochs': 90, 'neurons': 256, 'num_hidden_layers': 5}\n",
      "mean:0.8178178270657858 - std:0.02844663648417019 - param:{'batch_size': 64, 'dropout': 0.6, 'epochs': 90, 'neurons': 512, 'num_hidden_layers': 2}\n",
      "mean:0.8155655662218729 - std:0.026861996600207976 - param:{'batch_size': 64, 'dropout': 0.6, 'epochs': 90, 'neurons': 512, 'num_hidden_layers': 3}\n",
      "mean:0.799818754196167 - std:0.0277991306322321 - param:{'batch_size': 64, 'dropout': 0.6, 'epochs': 90, 'neurons': 512, 'num_hidden_layers': 4}\n",
      "mean:0.7942108511924744 - std:0.037809094862152816 - param:{'batch_size': 64, 'dropout': 0.6, 'epochs': 90, 'neurons': 512, 'num_hidden_layers': 5}\n",
      "mean:0.6175152460734049 - std:0.03546718343479995 - param:{'batch_size': 64, 'dropout': 0.7, 'epochs': 30, 'neurons': 128, 'num_hidden_layers': 2}\n",
      "mean:0.6175152460734049 - std:0.03546718343479995 - param:{'batch_size': 64, 'dropout': 0.7, 'epochs': 30, 'neurons': 128, 'num_hidden_layers': 3}\n",
      "mean:0.6175152460734049 - std:0.03546718343479995 - param:{'batch_size': 64, 'dropout': 0.7, 'epochs': 30, 'neurons': 128, 'num_hidden_layers': 4}\n",
      "mean:0.6175152460734049 - std:0.03546718343479995 - param:{'batch_size': 64, 'dropout': 0.7, 'epochs': 30, 'neurons': 128, 'num_hidden_layers': 5}\n",
      "mean:0.6197599172592163 - std:0.03738932956565493 - param:{'batch_size': 64, 'dropout': 0.7, 'epochs': 30, 'neurons': 256, 'num_hidden_layers': 2}\n",
      "mean:0.6175152460734049 - std:0.03546718343479995 - param:{'batch_size': 64, 'dropout': 0.7, 'epochs': 30, 'neurons': 256, 'num_hidden_layers': 3}\n",
      "mean:0.6197675069173177 - std:0.0369141378529153 - param:{'batch_size': 64, 'dropout': 0.7, 'epochs': 30, 'neurons': 256, 'num_hidden_layers': 4}\n",
      "mean:0.6175152460734049 - std:0.03546718343479995 - param:{'batch_size': 64, 'dropout': 0.7, 'epochs': 30, 'neurons': 256, 'num_hidden_layers': 5}\n",
      "mean:0.6175152460734049 - std:0.03546718343479995 - param:{'batch_size': 64, 'dropout': 0.7, 'epochs': 30, 'neurons': 512, 'num_hidden_layers': 2}\n",
      "mean:0.6163929104804993 - std:0.03457540298551357 - param:{'batch_size': 64, 'dropout': 0.7, 'epochs': 30, 'neurons': 512, 'num_hidden_layers': 3}\n",
      "mean:0.6175152460734049 - std:0.03546718343479995 - param:{'batch_size': 64, 'dropout': 0.7, 'epochs': 30, 'neurons': 512, 'num_hidden_layers': 4}\n",
      "mean:0.6175152460734049 - std:0.03546718343479995 - param:{'batch_size': 64, 'dropout': 0.7, 'epochs': 30, 'neurons': 512, 'num_hidden_layers': 5}\n",
      "mean:0.7412943243980408 - std:0.013360506601635756 - param:{'batch_size': 64, 'dropout': 0.7, 'epochs': 50, 'neurons': 128, 'num_hidden_layers': 2}\n",
      "mean:0.7367784380912781 - std:0.004997010730740857 - param:{'batch_size': 64, 'dropout': 0.7, 'epochs': 50, 'neurons': 128, 'num_hidden_layers': 3}\n",
      "mean:0.7480321129163107 - std:0.009662550030331224 - param:{'batch_size': 64, 'dropout': 0.7, 'epochs': 50, 'neurons': 128, 'num_hidden_layers': 4}\n",
      "mean:0.7683023810386658 - std:0.03006001213550107 - param:{'batch_size': 64, 'dropout': 0.7, 'epochs': 50, 'neurons': 128, 'num_hidden_layers': 5}\n",
      "mean:0.7255285580952963 - std:0.030557257879681173 - param:{'batch_size': 64, 'dropout': 0.7, 'epochs': 50, 'neurons': 256, 'num_hidden_layers': 2}\n",
      "mean:0.7322815259297689 - std:0.009731277195658094 - param:{'batch_size': 64, 'dropout': 0.7, 'epochs': 50, 'neurons': 256, 'num_hidden_layers': 3}\n",
      "mean:0.7469135721524557 - std:0.007034781245378583 - param:{'batch_size': 64, 'dropout': 0.7, 'epochs': 50, 'neurons': 256, 'num_hidden_layers': 4}\n",
      "mean:0.7784564892450968 - std:0.03450762280112158 - param:{'batch_size': 64, 'dropout': 0.7, 'epochs': 50, 'neurons': 256, 'num_hidden_layers': 5}\n",
      "mean:0.6962379018465678 - std:0.03149845248154999 - param:{'batch_size': 64, 'dropout': 0.7, 'epochs': 50, 'neurons': 512, 'num_hidden_layers': 2}\n",
      "mean:0.7435389757156372 - std:0.00515890211352653 - param:{'batch_size': 64, 'dropout': 0.7, 'epochs': 50, 'neurons': 512, 'num_hidden_layers': 3}\n",
      "mean:0.7581862211227417 - std:0.02647418149846893 - param:{'batch_size': 64, 'dropout': 0.7, 'epochs': 50, 'neurons': 512, 'num_hidden_layers': 4}\n",
      "mean:0.7671383420626322 - std:0.00990405983367598 - param:{'batch_size': 64, 'dropout': 0.7, 'epochs': 50, 'neurons': 512, 'num_hidden_layers': 5}\n",
      "mean:0.7986698945363363 - std:0.013564671493948355 - param:{'batch_size': 64, 'dropout': 0.7, 'epochs': 70, 'neurons': 128, 'num_hidden_layers': 2}\n",
      "mean:0.8031819860140482 - std:0.02314377336322244 - param:{'batch_size': 64, 'dropout': 0.7, 'epochs': 70, 'neurons': 128, 'num_hidden_layers': 3}\n",
      "mean:0.8178216020266215 - std:0.030727053305605795 - param:{'batch_size': 64, 'dropout': 0.7, 'epochs': 70, 'neurons': 128, 'num_hidden_layers': 4}\n",
      "mean:0.8088125983874003 - std:0.024364824291402683 - param:{'batch_size': 64, 'dropout': 0.7, 'epochs': 70, 'neurons': 128, 'num_hidden_layers': 5}\n",
      "mean:0.7964328130086263 - std:0.021068715906835057 - param:{'batch_size': 64, 'dropout': 0.7, 'epochs': 70, 'neurons': 256, 'num_hidden_layers': 2}\n",
      "mean:0.8054304321606954 - std:0.024748835758361506 - param:{'batch_size': 64, 'dropout': 0.7, 'epochs': 70, 'neurons': 256, 'num_hidden_layers': 3}\n",
      "mean:0.8155579964319865 - std:0.024569823647943682 - param:{'batch_size': 64, 'dropout': 0.7, 'epochs': 70, 'neurons': 256, 'num_hidden_layers': 4}\n",
      "mean:0.8054418166478475 - std:0.02726784100681377 - param:{'batch_size': 64, 'dropout': 0.7, 'epochs': 70, 'neurons': 256, 'num_hidden_layers': 5}\n",
      "mean:0.7975475589434305 - std:0.0150285617000805 - param:{'batch_size': 64, 'dropout': 0.7, 'epochs': 70, 'neurons': 512, 'num_hidden_layers': 2}\n",
      "mean:0.817814032236735 - std:0.026830438054110974 - param:{'batch_size': 64, 'dropout': 0.7, 'epochs': 70, 'neurons': 512, 'num_hidden_layers': 3}\n",
      "mean:0.8234332799911499 - std:0.022801723725651285 - param:{'batch_size': 64, 'dropout': 0.7, 'epochs': 70, 'neurons': 512, 'num_hidden_layers': 4}\n",
      "mean:0.8110724488894144 - std:0.030716358799671505 - param:{'batch_size': 64, 'dropout': 0.7, 'epochs': 70, 'neurons': 512, 'num_hidden_layers': 5}\n",
      "mean:0.8223109642664591 - std:0.024696288523948146 - param:{'batch_size': 64, 'dropout': 0.7, 'epochs': 90, 'neurons': 128, 'num_hidden_layers': 2}\n",
      "mean:0.826800266901652 - std:0.018051101935589845 - param:{'batch_size': 64, 'dropout': 0.7, 'epochs': 90, 'neurons': 128, 'num_hidden_layers': 3}\n",
      "mean:0.8077092170715332 - std:0.03793097963991264 - param:{'batch_size': 64, 'dropout': 0.7, 'epochs': 90, 'neurons': 128, 'num_hidden_layers': 4}\n",
      "mean:0.8065717220306396 - std:0.030010757580025946 - param:{'batch_size': 64, 'dropout': 0.7, 'epochs': 90, 'neurons': 128, 'num_hidden_layers': 5}\n",
      "mean:0.804304321606954 - std:0.021761701042455863 - param:{'batch_size': 64, 'dropout': 0.7, 'epochs': 90, 'neurons': 256, 'num_hidden_layers': 2}\n",
      "mean:0.8211886088053385 - std:0.02597106541244579 - param:{'batch_size': 64, 'dropout': 0.7, 'epochs': 90, 'neurons': 256, 'num_hidden_layers': 3}\n",
      "mean:0.8178291916847229 - std:0.035703682685112335 - param:{'batch_size': 64, 'dropout': 0.7, 'epochs': 90, 'neurons': 256, 'num_hidden_layers': 4}\n",
      "mean:0.814447025458018 - std:0.03072170495927883 - param:{'batch_size': 64, 'dropout': 0.7, 'epochs': 90, 'neurons': 256, 'num_hidden_layers': 5}\n",
      "mean:0.8211886286735535 - std:0.026262421874614174 - param:{'batch_size': 64, 'dropout': 0.7, 'epochs': 90, 'neurons': 512, 'num_hidden_layers': 2}\n",
      "mean:0.825681726137797 - std:0.021969072884202523 - param:{'batch_size': 64, 'dropout': 0.7, 'epochs': 90, 'neurons': 512, 'num_hidden_layers': 3}\n",
      "mean:0.8133171002070109 - std:0.027820330710411123 - param:{'batch_size': 64, 'dropout': 0.7, 'epochs': 90, 'neurons': 512, 'num_hidden_layers': 4}\n",
      "mean:0.800963838895162 - std:0.04022699589218798 - param:{'batch_size': 64, 'dropout': 0.7, 'epochs': 90, 'neurons': 512, 'num_hidden_layers': 5}\n"
     ]
    }
   ],
   "source": [
    "print(f'best_fit:{grid.best_score_} best_params:{grid.best_params_}')\n",
    "means = grid.cv_results_['mean_test_score']\n",
    "stds = grid.cv_results_['std_test_score']\n",
    "params = grid.cv_results_['params']\n",
    "\n",
    "for mean, std, param in zip(means, stds, params):\n",
    "    print(f'mean:{mean} - std:{std} - param:{param}')"
   ]
  },
  {
   "cell_type": "code",
   "execution_count": 88,
   "metadata": {},
   "outputs": [],
   "source": [
    "# grid.best_params_.keys()"
   ]
  },
  {
   "cell_type": "code",
   "execution_count": 123,
   "metadata": {},
   "outputs": [
    {
     "name": "stdout",
     "output_type": "stream",
     "text": [
      "best_optimizer:  Adam\n",
      "best_neurons:  512\n",
      "num_hidden_layers:  4\n",
      "best_weight_constraint:  None\n",
      "best_dropout:  0.6\n",
      "best_activation:  relu\n",
      "best_init_mode:  None\n",
      "best_learning_rate:  None\n",
      "best_momentum:  None\n",
      "best_epoch_num:  50\n",
      "best_batch_size:  32\n"
     ]
    }
   ],
   "source": [
    "def list_params():\n",
    "\n",
    "    # mark these as globals ince values might change\n",
    "    # also get error 'Unbound LocalError' \n",
    "    global best_optimizer, best_neurons, num_hidden_layers, best_weight_constraint, best_dropout\n",
    "    global best_activation, best_init_mode, best_learning_rate, best_momentum, best_epoch_num\n",
    "    global best_batch_size\n",
    "    \n",
    "    # capture best values for each hyper-parameter if evailable in gridCV run \n",
    "    if 'optimizer' in grid.best_params_.keys():\n",
    "        best_optimizer= grid.best_params_['optimizer']\n",
    "        \n",
    "    if 'epochs' in grid.best_params_.keys():\n",
    "        best_epoch_num = grid.best_params_['epochs']\n",
    "\n",
    "    if 'batch_size' in grid.best_params_.keys():\n",
    "        best_batch_size = grid.best_params_['batch_size']\n",
    "\n",
    "    if 'lr' in grid.best_params_.keys():\n",
    "        best_learning_rate = grid.best_params_['lr']\n",
    "\n",
    "    if 'momentum' in grid.best_params_.keys():\n",
    "        best_momentum = grid.best_params_['momentum']\n",
    "\n",
    "    if 'init_mode' in grid.best_params_.keys():\n",
    "        best_init_mode= grid.best_params_['init_mode']\n",
    "\n",
    "    if 'activation' in grid.best_params_.keys():\n",
    "        best_activation= grid.best_params_['activation']\n",
    "\n",
    "    if 'dropout' in grid.best_params_.keys():\n",
    "        best_dropout = grid.best_params_['dropout']\n",
    "\n",
    "    if 'neurons' in grid.best_params_.keys():\n",
    "        best_neurons = grid.best_params_['neurons']\n",
    "\n",
    "    if 'weight_constraint' in grid.best_params_.keys():\n",
    "        best_weight_constraint = grid.best_params_['weight_constraint']\n",
    "\n",
    "    if 'num_hidden_layers' in grid.best_params_.keys():\n",
    "        best_num_hidden_layers = grid.best_params_['num_hidden_layers']\n",
    "        \n",
    "    ## add to hyper_params dictionary\n",
    "    hyper_params['optimizer'] = best_optimizer\n",
    "    hyper_params['dropout'] = best_dropout\n",
    "    hyper_params['neurons'] = best_neurons\n",
    "    hyper_params['weight_constraint'] = best_weight_constraint\n",
    "    hyper_params['activation'] = best_activation\n",
    "    hyper_params['init_mode'] = best_init_mode\n",
    "    hyper_params['learning_rate'] = best_learning_rate\n",
    "    hyper_params['momentum'] = best_momentum\n",
    "    hyper_params['epochs'] = best_epoch_num\n",
    "    hyper_params['batch_size'] = best_batch_size\n",
    "\n",
    "    hyper_params['num_hidden_layers'] = best_num_hidden_layers\n",
    "    # print(best_num_hidden_layers)\n",
    "\n",
    "    ## print best values\n",
    "    print('best_optimizer: ', best_optimizer)\n",
    "    print('best_neurons: ', best_neurons)\n",
    "    print('num_hidden_layers: ', best_num_hidden_layers)\n",
    "    print('best_weight_constraint: ', best_weight_constraint)\n",
    "    print('best_dropout: ', best_dropout)\n",
    "    print('best_activation: ', best_activation)\n",
    "    print('best_init_mode: ', best_init_mode)\n",
    "    print('best_learning_rate: ', best_learning_rate)\n",
    "    print('best_momentum: ', best_momentum)\n",
    "    print('best_epoch_num: ', best_epoch_num)\n",
    "    print('best_batch_size: ', best_batch_size)\n",
    "\n",
    "\n",
    "list_params()  # params"
   ]
  },
  {
   "cell_type": "markdown",
   "metadata": {
    "id": "wTE7wdDkjFzF"
   },
   "source": [
    "### **Create Final Model incorporating all Tuned hyper-parameters**"
   ]
  },
  {
   "cell_type": "code",
   "execution_count": 90,
   "metadata": {},
   "outputs": [
    {
     "data": {
      "text/plain": [
       "((889, 19),\n",
       " (889,),\n",
       " (889, 19),\n",
       " Index(['Pclass', 'Age', 'SibSp', 'Parch', 'Sex_female', 'Sex_male', 'Cabin_A',\n",
       "        'Cabin_B', 'Cabin_C', 'Cabin_D', 'Cabin_E', 'Cabin_F', 'Cabin_FE',\n",
       "        'Cabin_FG', 'Cabin_G', 'Cabin_T', 'Embarked_C', 'Embarked_Q',\n",
       "        'Embarked_S'],\n",
       "       dtype='object'))"
      ]
     },
     "execution_count": 90,
     "metadata": {},
     "output_type": "execute_result"
    }
   ],
   "source": [
    "train_df.shape, y_train.shape, train_df.shape, train_df.columns"
   ]
  },
  {
   "cell_type": "code",
   "execution_count": 91,
   "metadata": {
    "id": "uoHJO8wWgDis"
   },
   "outputs": [],
   "source": [
    "X_train, X_val, y_train, y_val = train_test_split(train_df, y_train, test_size=0.3, random_state=111)"
   ]
  },
  {
   "cell_type": "code",
   "execution_count": 92,
   "metadata": {
    "colab": {
     "base_uri": "https://localhost:8080/"
    },
    "id": "7tdWKXhklAt-",
    "outputId": "f461d4d2-5f91-483f-a57d-836f10dac5dd"
   },
   "outputs": [
    {
     "name": "stdout",
     "output_type": "stream",
     "text": [
      "(622, 19) (267, 19) (622,) (267,) (418, 19)\n"
     ]
    }
   ],
   "source": [
    "print(X_train.shape, X_val.shape, y_train.shape, y_val.shape, test_df.shape)"
   ]
  },
  {
   "cell_type": "markdown",
   "metadata": {},
   "source": [
    "### list of hyper-parameters fine-timed for titanic disaster dataset"
   ]
  },
  {
   "cell_type": "code",
   "execution_count": 93,
   "metadata": {},
   "outputs": [
    {
     "name": "stdout",
     "output_type": "stream",
     "text": [
      "key: learning_rate        value: None\n",
      "key: momentum             value: None\n",
      "key: init_mode            value: None\n",
      "key: activation           value: relu\n",
      "key: dropout              value: 0.6\n",
      "key: weight_constraint    value: None\n",
      "key: neurons              value: 512\n",
      "key: optimizer            value: Adam\n",
      "key: epochs               value: 50\n",
      "key: batch_size           value: 32\n",
      "key: num_hidden_layers    value: [2, 3, 4, 5]\n"
     ]
    }
   ],
   "source": [
    "# list all hyper-parameters for this run\n",
    "for key in hyper_params.keys():\n",
    "  print(f'key: {key:20s} value: {hyper_params[key]}')"
   ]
  },
  {
   "cell_type": "markdown",
   "metadata": {},
   "source": [
    "### build and execute final model"
   ]
  },
  {
   "cell_type": "markdown",
   "metadata": {},
   "source": [
    "use captured hyperparamters during GridSearchCV\n",
    "you can also manually change values to build and execute the model to improve accuracy, etc.."
   ]
  },
  {
   "cell_type": "code",
   "execution_count": 124,
   "metadata": {
    "id": "PITiID0wgDv9"
   },
   "outputs": [
    {
     "name": "stdout",
     "output_type": "stream",
     "text": [
      "Model: \"sequential\"\n",
      "_________________________________________________________________\n",
      " Layer (type)                Output Shape              Param #   \n",
      "=================================================================\n",
      " dense (Dense)               (None, 608)               12160     \n",
      "                                                                 \n",
      " batch_normalization (BatchN  (None, 608)              2432      \n",
      " ormalization)                                                   \n",
      "                                                                 \n",
      " dense_1 (Dense)             (None, 101)               61509     \n",
      "                                                                 \n",
      " dropout (Dropout)           (None, 101)               0         \n",
      "                                                                 \n",
      " dense_2 (Dense)             (None, 101)               10302     \n",
      "                                                                 \n",
      " dense_3 (Dense)             (None, 1)                 102       \n",
      "                                                                 \n",
      "=================================================================\n",
      "Total params: 86,505\n",
      "Trainable params: 85,289\n",
      "Non-trainable params: 1,216\n",
      "_________________________________________________________________\n"
     ]
    }
   ],
   "source": [
    "clear_bags(cvmodel)\n",
    "final_model = create_hyper_model(lr=best_learning_rate,\n",
    "                                 momentum=best_momentum,\n",
    "                                 init_mode=best_init_mode,\n",
    "                                 activation=best_activation,\n",
    "                                 dropout=best_dropout,\n",
    "                                 weight_constraint=best_weight_constraint,\n",
    "                                 neurons=best_neurons,\n",
    "                                 optimizer=best_optimizer,\n",
    "                                 num_hidden_layers=best_num_hidden_layers,\n",
    "                                 inputdf=X_train,\n",
    "                                )\n",
    "final_model.summary()"
   ]
  },
  {
   "cell_type": "markdown",
   "metadata": {},
   "source": [
    "### Keras callbacks - Learning Rate, and Early Stopping"
   ]
  },
  {
   "cell_type": "markdown",
   "metadata": {},
   "source": [
    "**[Early Stopping](https://keras.io/api/callbacks/early_stopping/)** - stop training when a monitored metric has improved to minimize loss metric.  \n",
    "The qty to be monitored needs to be available in 'logs' dict."
   ]
  },
  {
   "cell_type": "code",
   "execution_count": 95,
   "metadata": {},
   "outputs": [],
   "source": [
    "# early stopping call back on 'val_loss'\n",
    "callback = keras.callbacks.EarlyStopping(monitor='val_accuracy',  # what to monitor\n",
    "                                         min_delta=0.03,          # change to monitor\n",
    "                                         patience=35,             # num of epochs to wait before breaking out\n",
    "                                         mode='max',              # here 'min' stop decreasing\n",
    "                                         verbose=1,               # verbose=0 don't print output\n",
    "                                         restore_best_weights=False,   # whether to restore model weights\n",
    "                                         )"
   ]
  },
  {
   "cell_type": "code",
   "execution_count": 96,
   "metadata": {},
   "outputs": [],
   "source": [
    "# This function keeps the initial learning rate for the first ten epochs\n",
    "# and decreases it exponentially after that.\n",
    "#\n",
    "# learning rate scheduling\n",
    "LEARN_RATE = 0.001\n",
    "\n",
    "def lr_scheduler(epoch):\n",
    "    global LEARN_RATE\n",
    "    if epoch < 10:\n",
    "        LEARN_RATE += 1e-7 \n",
    "    else:\n",
    "        LEARN_RATE *= tf.math.exp(-0.004)\n",
    "        \n",
    "    return LEARN_RATE\n",
    "\n",
    "# define callback\n",
    "lr_callback = keras.callbacks.LearningRateScheduler(\n",
    "    lr_scheduler, \n",
    "    verbose=True,\n",
    ")"
   ]
  },
  {
   "cell_type": "code",
   "execution_count": 125,
   "metadata": {
    "id": "bPRW75e9gD25"
   },
   "outputs": [
    {
     "name": "stdout",
     "output_type": "stream",
     "text": [
      "\n",
      "Epoch 1: LearningRateScheduler setting learning rate to 0.0008530956110917032.\n",
      "Epoch 1/50\n",
      "20/20 [==============================] - 1s 15ms/step - loss: 0.6735 - accuracy: 0.5981 - val_loss: 0.6722 - val_accuracy: 0.6105 - lr: 8.5310e-04\n",
      "\n",
      "Epoch 2: LearningRateScheduler setting learning rate to 0.0008531956118531525.\n",
      "Epoch 2/50\n",
      "20/20 [==============================] - 0s 8ms/step - loss: 0.6361 - accuracy: 0.6768 - val_loss: 0.6628 - val_accuracy: 0.6105 - lr: 8.5320e-04\n",
      "\n",
      "Epoch 3: LearningRateScheduler setting learning rate to 0.0008532956126146019.\n",
      "Epoch 3/50\n",
      "20/20 [==============================] - 0s 8ms/step - loss: 0.5668 - accuracy: 0.7138 - val_loss: 0.6589 - val_accuracy: 0.6105 - lr: 8.5330e-04\n",
      "\n",
      "Epoch 4: LearningRateScheduler setting learning rate to 0.0008533956133760512.\n",
      "Epoch 4/50\n",
      "20/20 [==============================] - 0s 8ms/step - loss: 0.5066 - accuracy: 0.7765 - val_loss: 0.6532 - val_accuracy: 0.6105 - lr: 8.5340e-04\n",
      "\n",
      "Epoch 5: LearningRateScheduler setting learning rate to 0.0008534956141375005.\n",
      "Epoch 5/50\n",
      "20/20 [==============================] - 0s 8ms/step - loss: 0.5014 - accuracy: 0.7830 - val_loss: 0.6450 - val_accuracy: 0.6105 - lr: 8.5350e-04\n",
      "\n",
      "Epoch 6: LearningRateScheduler setting learning rate to 0.0008535956148989499.\n",
      "Epoch 6/50\n",
      "20/20 [==============================] - 0s 9ms/step - loss: 0.4807 - accuracy: 0.7797 - val_loss: 0.6593 - val_accuracy: 0.6105 - lr: 8.5360e-04\n",
      "\n",
      "Epoch 7: LearningRateScheduler setting learning rate to 0.0008536956156603992.\n",
      "Epoch 7/50\n",
      "20/20 [==============================] - 0s 9ms/step - loss: 0.4453 - accuracy: 0.8119 - val_loss: 0.6452 - val_accuracy: 0.6105 - lr: 8.5370e-04\n",
      "\n",
      "Epoch 8: LearningRateScheduler setting learning rate to 0.0008537956164218485.\n",
      "Epoch 8/50\n",
      "20/20 [==============================] - 0s 7ms/step - loss: 0.4518 - accuracy: 0.8103 - val_loss: 0.6652 - val_accuracy: 0.6105 - lr: 8.5380e-04\n",
      "\n",
      "Epoch 9: LearningRateScheduler setting learning rate to 0.0008538956171832979.\n",
      "Epoch 9/50\n",
      "20/20 [==============================] - 0s 8ms/step - loss: 0.4492 - accuracy: 0.8151 - val_loss: 0.6306 - val_accuracy: 0.6105 - lr: 8.5390e-04\n",
      "\n",
      "Epoch 10: LearningRateScheduler setting learning rate to 0.0008539956179447472.\n",
      "Epoch 10/50\n",
      "20/20 [==============================] - 0s 7ms/step - loss: 0.4691 - accuracy: 0.7894 - val_loss: 0.6592 - val_accuracy: 0.6105 - lr: 8.5400e-04\n",
      "\n",
      "Epoch 11: LearningRateScheduler setting learning rate to 0.0008505864534527063.\n",
      "Epoch 11/50\n",
      "20/20 [==============================] - 0s 7ms/step - loss: 0.4640 - accuracy: 0.8087 - val_loss: 0.6275 - val_accuracy: 0.6105 - lr: 8.5059e-04\n",
      "\n",
      "Epoch 12: LearningRateScheduler setting learning rate to 0.0008471909095533192.\n",
      "Epoch 12/50\n",
      "20/20 [==============================] - 0s 8ms/step - loss: 0.4560 - accuracy: 0.8087 - val_loss: 0.6237 - val_accuracy: 0.6105 - lr: 8.4719e-04\n",
      "\n",
      "Epoch 13: LearningRateScheduler setting learning rate to 0.0008438089280389249.\n",
      "Epoch 13/50\n",
      "20/20 [==============================] - 0s 7ms/step - loss: 0.4576 - accuracy: 0.7942 - val_loss: 0.6101 - val_accuracy: 0.6105 - lr: 8.4381e-04\n",
      "\n",
      "Epoch 14: LearningRateScheduler setting learning rate to 0.0008404404507018626.\n",
      "Epoch 14/50\n",
      "20/20 [==============================] - 0s 7ms/step - loss: 0.4671 - accuracy: 0.7974 - val_loss: 0.6195 - val_accuracy: 0.6105 - lr: 8.4044e-04\n",
      "\n",
      "Epoch 15: LearningRateScheduler setting learning rate to 0.0008370854193344712.\n",
      "Epoch 15/50\n",
      "20/20 [==============================] - 0s 7ms/step - loss: 0.4489 - accuracy: 0.8039 - val_loss: 0.6098 - val_accuracy: 0.6105 - lr: 8.3709e-04\n",
      "\n",
      "Epoch 16: LearningRateScheduler setting learning rate to 0.00083374377572909.\n",
      "Epoch 16/50\n",
      "20/20 [==============================] - 0s 8ms/step - loss: 0.4425 - accuracy: 0.8039 - val_loss: 0.6057 - val_accuracy: 0.6105 - lr: 8.3374e-04\n",
      "\n",
      "Epoch 17: LearningRateScheduler setting learning rate to 0.0008304154616780579.\n",
      "Epoch 17/50\n",
      "20/20 [==============================] - 0s 8ms/step - loss: 0.4575 - accuracy: 0.7974 - val_loss: 0.5893 - val_accuracy: 0.6292 - lr: 8.3042e-04\n",
      "\n",
      "Epoch 18: LearningRateScheduler setting learning rate to 0.0008271004189737141.\n",
      "Epoch 18/50\n",
      "20/20 [==============================] - 0s 8ms/step - loss: 0.4340 - accuracy: 0.8055 - val_loss: 0.5853 - val_accuracy: 0.6367 - lr: 8.2710e-04\n",
      "\n",
      "Epoch 19: LearningRateScheduler setting learning rate to 0.0008237985894083977.\n",
      "Epoch 19/50\n",
      "20/20 [==============================] - 0s 7ms/step - loss: 0.4480 - accuracy: 0.7974 - val_loss: 0.5731 - val_accuracy: 0.6479 - lr: 8.2380e-04\n",
      "\n",
      "Epoch 20: LearningRateScheduler setting learning rate to 0.0008205099729821086.\n",
      "Epoch 20/50\n",
      "20/20 [==============================] - 0s 6ms/step - loss: 0.4342 - accuracy: 0.8280 - val_loss: 0.5673 - val_accuracy: 0.6592 - lr: 8.2051e-04\n",
      "\n",
      "Epoch 21: LearningRateScheduler setting learning rate to 0.000817234453279525.\n",
      "Epoch 21/50\n",
      "20/20 [==============================] - 0s 6ms/step - loss: 0.4244 - accuracy: 0.8199 - val_loss: 0.5308 - val_accuracy: 0.7266 - lr: 8.1723e-04\n",
      "\n",
      "Epoch 22: LearningRateScheduler setting learning rate to 0.000813972030300647.\n",
      "Epoch 22/50\n",
      "20/20 [==============================] - 0s 6ms/step - loss: 0.4454 - accuracy: 0.8103 - val_loss: 0.5712 - val_accuracy: 0.6554 - lr: 8.1397e-04\n",
      "\n",
      "Epoch 23: LearningRateScheduler setting learning rate to 0.0008107226458378136.\n",
      "Epoch 23/50\n",
      "20/20 [==============================] - 0s 7ms/step - loss: 0.4472 - accuracy: 0.8199 - val_loss: 0.5231 - val_accuracy: 0.7378 - lr: 8.1072e-04\n",
      "\n",
      "Epoch 24: LearningRateScheduler setting learning rate to 0.0008074862416833639.\n",
      "Epoch 24/50\n",
      "20/20 [==============================] - 0s 6ms/step - loss: 0.4447 - accuracy: 0.8103 - val_loss: 0.5221 - val_accuracy: 0.7528 - lr: 8.0749e-04\n",
      "\n",
      "Epoch 25: LearningRateScheduler setting learning rate to 0.000804262759629637.\n",
      "Epoch 25/50\n",
      "20/20 [==============================] - 0s 8ms/step - loss: 0.4398 - accuracy: 0.8264 - val_loss: 0.4774 - val_accuracy: 0.8165 - lr: 8.0426e-04\n",
      "\n",
      "Epoch 26: LearningRateScheduler setting learning rate to 0.000801052141468972.\n",
      "Epoch 26/50\n",
      "20/20 [==============================] - 0s 7ms/step - loss: 0.4365 - accuracy: 0.8119 - val_loss: 0.4867 - val_accuracy: 0.7715 - lr: 8.0105e-04\n",
      "\n",
      "Epoch 27: LearningRateScheduler setting learning rate to 0.0007978543289937079.\n",
      "Epoch 27/50\n",
      "20/20 [==============================] - 0s 7ms/step - loss: 0.4407 - accuracy: 0.8215 - val_loss: 0.4751 - val_accuracy: 0.7828 - lr: 7.9785e-04\n",
      "\n",
      "Epoch 28: LearningRateScheduler setting learning rate to 0.0007946692639961839.\n",
      "Epoch 28/50\n",
      "20/20 [==============================] - 0s 7ms/step - loss: 0.4379 - accuracy: 0.8199 - val_loss: 0.4619 - val_accuracy: 0.8052 - lr: 7.9467e-04\n",
      "\n",
      "Epoch 29: LearningRateScheduler setting learning rate to 0.0007914969464763999.\n",
      "Epoch 29/50\n",
      "20/20 [==============================] - 0s 7ms/step - loss: 0.4350 - accuracy: 0.8119 - val_loss: 0.4582 - val_accuracy: 0.8015 - lr: 7.9150e-04\n",
      "\n",
      "Epoch 30: LearningRateScheduler setting learning rate to 0.0007883372600190341.\n",
      "Epoch 30/50\n",
      "20/20 [==============================] - 0s 7ms/step - loss: 0.4381 - accuracy: 0.8087 - val_loss: 0.4294 - val_accuracy: 0.8352 - lr: 7.8834e-04\n",
      "\n",
      "Epoch 31: LearningRateScheduler setting learning rate to 0.0007851902046240866.\n",
      "Epoch 31/50\n",
      "20/20 [==============================] - 0s 7ms/step - loss: 0.4149 - accuracy: 0.8264 - val_loss: 0.4380 - val_accuracy: 0.8015 - lr: 7.8519e-04\n",
      "\n",
      "Epoch 32: LearningRateScheduler setting learning rate to 0.0007820557220838964.\n",
      "Epoch 32/50\n",
      "20/20 [==============================] - 0s 8ms/step - loss: 0.4487 - accuracy: 0.8055 - val_loss: 0.4225 - val_accuracy: 0.8277 - lr: 7.8206e-04\n",
      "\n",
      "Epoch 33: LearningRateScheduler setting learning rate to 0.0007789337541908026.\n",
      "Epoch 33/50\n",
      "20/20 [==============================] - 0s 7ms/step - loss: 0.4153 - accuracy: 0.8296 - val_loss: 0.4146 - val_accuracy: 0.8577 - lr: 7.7893e-04\n",
      "\n",
      "Epoch 34: LearningRateScheduler setting learning rate to 0.0007758242427371442.\n",
      "Epoch 34/50\n",
      "20/20 [==============================] - 0s 7ms/step - loss: 0.4309 - accuracy: 0.8264 - val_loss: 0.4061 - val_accuracy: 0.8539 - lr: 7.7582e-04\n",
      "\n",
      "Epoch 35: LearningRateScheduler setting learning rate to 0.0007727271295152605.\n",
      "Epoch 35/50\n",
      "20/20 [==============================] - 0s 7ms/step - loss: 0.4324 - accuracy: 0.8248 - val_loss: 0.4050 - val_accuracy: 0.8464 - lr: 7.7273e-04\n",
      "\n",
      "Epoch 36: LearningRateScheduler setting learning rate to 0.0007696424145251513.\n",
      "Epoch 36/50\n",
      "20/20 [==============================] - 0s 7ms/step - loss: 0.4235 - accuracy: 0.8055 - val_loss: 0.3903 - val_accuracy: 0.8539 - lr: 7.6964e-04\n",
      "\n",
      "Epoch 37: LearningRateScheduler setting learning rate to 0.0007665699813514948.\n",
      "Epoch 37/50\n",
      "20/20 [==============================] - 0s 7ms/step - loss: 0.4201 - accuracy: 0.8215 - val_loss: 0.3887 - val_accuracy: 0.8577 - lr: 7.6657e-04\n",
      "\n",
      "Epoch 38: LearningRateScheduler setting learning rate to 0.0007635098299942911.\n",
      "Epoch 38/50\n",
      "20/20 [==============================] - 0s 7ms/step - loss: 0.4123 - accuracy: 0.8183 - val_loss: 0.3888 - val_accuracy: 0.8427 - lr: 7.6351e-04\n",
      "\n",
      "Epoch 39: LearningRateScheduler setting learning rate to 0.0007604619022458792.\n",
      "Epoch 39/50\n",
      "20/20 [==============================] - 0s 7ms/step - loss: 0.4256 - accuracy: 0.8199 - val_loss: 0.3969 - val_accuracy: 0.8464 - lr: 7.6046e-04\n",
      "\n",
      "Epoch 40: LearningRateScheduler setting learning rate to 0.0007574261398985982.\n",
      "Epoch 40/50\n",
      "20/20 [==============================] - 0s 7ms/step - loss: 0.4248 - accuracy: 0.8248 - val_loss: 0.3841 - val_accuracy: 0.8502 - lr: 7.5743e-04\n",
      "\n",
      "Epoch 41: LearningRateScheduler setting learning rate to 0.0007544024847447872.\n",
      "Epoch 41/50\n",
      "20/20 [==============================] - 0s 7ms/step - loss: 0.4363 - accuracy: 0.8103 - val_loss: 0.3754 - val_accuracy: 0.8502 - lr: 7.5440e-04\n",
      "\n",
      "Epoch 42: LearningRateScheduler setting learning rate to 0.0007513908785767853.\n",
      "Epoch 42/50\n",
      "20/20 [==============================] - 0s 7ms/step - loss: 0.4209 - accuracy: 0.8248 - val_loss: 0.3754 - val_accuracy: 0.8427 - lr: 7.5139e-04\n",
      "\n",
      "Epoch 43: LearningRateScheduler setting learning rate to 0.0007483913213945925.\n",
      "Epoch 43/50\n",
      "20/20 [==============================] - 0s 7ms/step - loss: 0.4166 - accuracy: 0.8215 - val_loss: 0.3763 - val_accuracy: 0.8427 - lr: 7.4839e-04\n",
      "\n",
      "Epoch 44: LearningRateScheduler setting learning rate to 0.0007454037549905479.\n",
      "Epoch 44/50\n",
      "20/20 [==============================] - 0s 7ms/step - loss: 0.4192 - accuracy: 0.8103 - val_loss: 0.3852 - val_accuracy: 0.8502 - lr: 7.4540e-04\n",
      "\n",
      "Epoch 45: LearningRateScheduler setting learning rate to 0.0007424280629493296.\n",
      "Epoch 45/50\n",
      "20/20 [==============================] - 0s 7ms/step - loss: 0.4218 - accuracy: 0.8376 - val_loss: 0.3769 - val_accuracy: 0.8390 - lr: 7.4243e-04\n",
      "\n",
      "Epoch 46: LearningRateScheduler setting learning rate to 0.0007394643034785986.\n",
      "Epoch 46/50\n",
      "20/20 [==============================] - 0s 7ms/step - loss: 0.4285 - accuracy: 0.8135 - val_loss: 0.3960 - val_accuracy: 0.8427 - lr: 7.3946e-04\n",
      "\n",
      "Epoch 47: LearningRateScheduler setting learning rate to 0.000736512360163033.\n",
      "Epoch 47/50\n",
      "20/20 [==============================] - 0s 7ms/step - loss: 0.4402 - accuracy: 0.8006 - val_loss: 0.3891 - val_accuracy: 0.8502 - lr: 7.3651e-04\n",
      "\n",
      "Epoch 48: LearningRateScheduler setting learning rate to 0.0007335721747949719.\n",
      "Epoch 48/50\n",
      "20/20 [==============================] - 0s 7ms/step - loss: 0.4196 - accuracy: 0.8280 - val_loss: 0.3729 - val_accuracy: 0.8614 - lr: 7.3357e-04\n",
      "\n",
      "Epoch 49: LearningRateScheduler setting learning rate to 0.0007306437473744154.\n",
      "Epoch 49/50\n",
      "20/20 [==============================] - 0s 8ms/step - loss: 0.4132 - accuracy: 0.8199 - val_loss: 0.3688 - val_accuracy: 0.8539 - lr: 7.3064e-04\n",
      "\n",
      "Epoch 50: LearningRateScheduler setting learning rate to 0.0007277270196937025.\n",
      "Epoch 50/50\n",
      "20/20 [==============================] - 0s 7ms/step - loss: 0.4026 - accuracy: 0.8248 - val_loss: 0.3720 - val_accuracy: 0.8539 - lr: 7.2773e-04\n",
      "9/9 [==============================] - 0s 3ms/step - loss: 0.3720 - accuracy: 0.8539\n",
      "[0.3719540536403656, 0.8539325594902039]\n"
     ]
    }
   ],
   "source": [
    "history = final_model.fit(X_train, y_train,\n",
    "                          epochs= best_epoch_num,\n",
    "                          batch_size = best_batch_size,\n",
    "                          validation_data=(X_val, y_val),\n",
    "                          callbacks=[callback, lr_callback],\n",
    "                          verbose=1,\n",
    "                         )\n",
    "\n",
    "# Training stopped early due to setting of callback\n",
    "model_eval = final_model.evaluate(X_val, y_val)\n",
    "print(model_eval)"
   ]
  },
  {
   "cell_type": "code",
   "execution_count": 127,
   "metadata": {},
   "outputs": [
    {
     "name": "stdout",
     "output_type": "stream",
     "text": [
      "9/9 [==============================] - 0s 3ms/step\n",
      "\n",
      "Neural Nets - report on Confusion matrix, Classification report, Accuracy and F1 scores\n",
      "[[158   5]\n",
      " [ 34  70]]\n",
      "              precision    recall  f1-score   support\n",
      "\n",
      "           0       0.82      0.97      0.89       163\n",
      "           1       0.93      0.67      0.78       104\n",
      "\n",
      "    accuracy                           0.85       267\n",
      "   macro avg       0.88      0.82      0.84       267\n",
      "weighted avg       0.87      0.85      0.85       267\n",
      "\n",
      "Accuracy Score: 0.85\n",
      "F1 Score: 0.78\n"
     ]
    }
   ],
   "source": [
    "# predict on validation dataset\n",
    "val_pred_model = final_model.predict(X_val)\n",
    "from sklearn.metrics import confusion_matrix, classification_report, f1_score, accuracy_score\n",
    "# print(val_pred_model)\n",
    "val_predicted = [0 if pred < 0.5 else 1 for pred in val_pred_model]\n",
    "print('\\nNeural Nets - report on Confusion matrix, Classification report, Accuracy and F1 scores')\n",
    "print(confusion_matrix(y_val, val_predicted))\n",
    "print(classification_report(y_val, val_predicted))\n",
    "\n",
    "print(f'Accuracy Score: {accuracy_score(y_val, val_predicted):.2f}')\n",
    "print(f'F1 Score: {f1_score(y_val, val_predicted):.2f}')"
   ]
  },
  {
   "cell_type": "markdown",
   "metadata": {
    "id": "YlOUAnGvgD8F"
   },
   "source": [
    "### loss and accuracy plots"
   ]
  },
  {
   "cell_type": "code",
   "execution_count": 102,
   "metadata": {
    "id": "iX-WXtGggEAp"
   },
   "outputs": [
    {
     "data": {
      "text/plain": [
       "<AxesSubplot:>"
      ]
     },
     "execution_count": 102,
     "metadata": {},
     "output_type": "execute_result"
    },
    {
     "data": {
      "image/png": "[encoded data removed]",
      "text/plain": [
       "<Figure size 1200x900 with 2 Axes>"
      ]
     },
     "metadata": {},
     "output_type": "display_data"
    }
   ],
   "source": [
    "import matplotlib.pyplot as plt\n",
    "import seaborn as sns\n",
    "%matplotlib inline\n",
    "\n",
    "hist_frame=pd.DataFrame(data=history.history)\n",
    "plt.figure(figsize=(12,9))\n",
    "plt.subplot(2,2,1)\n",
    "sns.lineplot(data=(hist_frame.loss, hist_frame.val_loss))\n",
    "plt.subplot(2,2,2)\n",
    "sns.lineplot(data=(hist_frame.accuracy, hist_frame.val_accuracy))"
   ]
  },
  {
   "cell_type": "markdown",
   "metadata": {},
   "source": [
    "### predictions test data"
   ]
  },
  {
   "cell_type": "code",
   "execution_count": 128,
   "metadata": {},
   "outputs": [
    {
     "name": "stdout",
     "output_type": "stream",
     "text": [
      "14/14 [==============================] - 0s 2ms/step\n"
     ]
    }
   ],
   "source": [
    "test_model_predictions = final_model.predict(test_df)"
   ]
  },
  {
   "cell_type": "markdown",
   "metadata": {},
   "source": [
    "### create submission.csv file"
   ]
  },
  {
   "cell_type": "code",
   "execution_count": 129,
   "metadata": {},
   "outputs": [],
   "source": [
    "# now predict on Test dataset and copy to CSV\n",
    "\n",
    "test_model_data = pd.DataFrame()\n",
    "test_model_data['PassengerId'] = passengerId\n",
    "\n",
    "test_model_data['Survived'] = [0 if pred < 0.5 else 1 for pred in test_model_predictions]\n",
    "test_model_data.to_csv('submission.csv', index = False)\n"
   ]
  },
  {
   "cell_type": "code",
   "execution_count": 130,
   "metadata": {},
   "outputs": [
    {
     "name": "stdout",
     "output_type": "stream",
     "text": [
      "PassengerId,Survived\n",
      "892,0\n",
      "893,0\n",
      "894,0\n",
      "895,0\n",
      "896,0\n",
      "897,0\n",
      "898,1\n",
      "899,0\n",
      "900,0\n"
     ]
    }
   ],
   "source": [
    "!head submission.csv"
   ]
  },
  {
   "cell_type": "markdown",
   "metadata": {},
   "source": [
    "<u>For more information on hyper-parameter search also chekout:</u><br>\n",
    "[Grid Search Hyperparameters for Deep Learning Models - Jason Brownlee](https://machinelearningmastery.com/grid-search-hyperparameters-deep-learning-models-python-keras/)<br>\n",
    "[Tuning the Hyperparameters and Layers of NN Deep Learning - Rendyk](https://www.analyticsvidhya.com/blog/2021/05/tuning-the-hyperparameters-and-layers-of-neural-network-deep-learning/)"
   ]
  },
  {
   "cell_type": "markdown",
   "metadata": {},
   "source": [
    "[JBL]:https://machinelearningmastery.com/grid-search-hyperparameters-deep-learning-models-python-keras"
   ]
  },
  {
   "cell_type": "markdown",
   "metadata": {},
   "source": [
    "[RDK]:https://www.analyticsvidhya.com/blog/2021/05/tuning-the-hyperparameters-and-layers-of-neural-network-deep-learning"
   ]
  }
 ],
 "metadata": {
  "colab": {
   "machine_shape": "hm",
   "provenance": []
  },
  "kernelspec": {
   "display_name": "Python 3 (ipykernel)",
   "language": "python",
   "name": "python3"
  },
  "language_info": {
   "codemirror_mode": {
    "name": "ipython",
    "version": 3
   },
   "file_extension": ".py",
   "mimetype": "text/x-python",
   "name": "python",
   "nbconvert_exporter": "python",
   "pygments_lexer": "ipython3",
   "version": "3.9.18"
  }
 },
 "nbformat": 4,
 "nbformat_minor": 4
}
